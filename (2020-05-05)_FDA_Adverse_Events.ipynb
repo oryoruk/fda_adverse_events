{
 "cells": [
  {
   "cell_type": "code",
   "execution_count": 6,
   "metadata": {},
   "outputs": [],
   "source": [
    "import json\n",
    "import requests"
   ]
  },
  {
   "cell_type": "code",
   "execution_count": 47,
   "metadata": {},
   "outputs": [
    {
     "data": {
      "text/html": [
       "<style>.container { width:100% !important; }</style>"
      ],
      "text/plain": [
       "<IPython.core.display.HTML object>"
      ]
     },
     "metadata": {},
     "output_type": "display_data"
    }
   ],
   "source": [
    "import os\n",
    "import time\n",
    "import numpy as np\n",
    "import pandas as pd\n",
    "from pandas import ExcelWriter\n",
    "from pandas import ExcelFile\n",
    "import string\n",
    "import random\n",
    "from IPython.core.display import display, HTML\n",
    "import datetime\n",
    "\n",
    "display(HTML(\"<style>.container { width:100% !important; }</style>\"))"
   ]
  },
  {
   "cell_type": "markdown",
   "metadata": {},
   "source": [
    "# (2020-05-05)"
   ]
  },
  {
   "cell_type": "markdown",
   "metadata": {},
   "source": [
    "# An Exploratory Analysis of FDA Adverse Events Data"
   ]
  },
  {
   "cell_type": "markdown",
   "metadata": {},
   "source": [
    "## Logistics"
   ]
  },
  {
   "cell_type": "markdown",
   "metadata": {},
   "source": [
    "###### Prompt:\n",
    "\n",
    "The U.S. Food and Drug Administration (FDA) regulates over-the-counter and prescription drugs in the United States, including biological therapeutics and generic drugs. This work covers more than just medicines. For example, fluoride toothpaste, antiperspirants, dandruff shampoos and sunscreens are all considered drugs. \n",
    " \n",
    "An adverse event is submitted to the FDA to report any undesirable experience associated with the use of a medical product in a patient. For drugs, this includes serious drug side effects, product use errors, product quality problems, and therapeutic failures for prescription or over-the-counter medicines and medicines administered to hospital patients or at outpatient infusion centers. \n",
    " \n",
    "The FDA's database of adverse event reports is made available through a web API at https://open.fda.gov/apis/try-the-api/ Each report contains general information about the report, patient information, a list of the drugs that the patient is taking, and a list of the patient reactions.  It is possible to use these data in many ways: your brief is to explore these data and to see what might be learned from them.  As a guide, you might consider a practical solution to one of the following questions: \n",
    "\n",
    "- Are different adverse events reported in different countries? \n",
    "- What are the different adverse events associated with different disease areas? \n",
    "- What drugs tend to be taken together? \n",
    " \n",
    "You should publish your code to your personal github repository and send a link two days before interview.  At interview you should expect to discuss your code, any statistics or visualizations you may have used, limitations of the underlying data, and how your solution could be generalized, extended, and made into a robust product."
   ]
  },
  {
   "cell_type": "markdown",
   "metadata": {},
   "source": [
    "###### Things To Do:\n",
    "\n",
    "* [ ] explore the data in FAERS\n",
    "* [ ] code for connecting to the API, querying and fetching results\n",
    "- [x] GitHub repo: \"fda_adverse_events\" or maybe \"azn_cs_faers\" -> is it too cryptic?\n",
    "- [ ] code for reading JSONs\n",
    "- [ ] slidedeck\n",
    "    - discuss code\n",
    "    - explain stats & visualizations\n",
    "    - discuss limitations of the data\n",
    "    - explain findings\n",
    "    - potential generalization, extension, and further development into a robust product\n",
    "- [ ] email the GitHub repo (Saturday? Sunday?)\n",
    "- [ ] rehearse presentation"
   ]
  },
  {
   "cell_type": "markdown",
   "metadata": {},
   "source": [
    "## Some Key / Relevant Variables in FAERS for this Case Study (JSON Format)"
   ]
  },
  {
   "cell_type": "markdown",
   "metadata": {},
   "source": [
    "- `meta`\n",
    "- `results`\n",
    "    - `safetyreportid` : The 8-digit Safety Report ID number, also known as the case report number or case ID. The first 7 digits (before the hyphen) identify an individual report and the last digit (after the hyphen) is a checksum. This field can be used to identify or find a specific adverse event report.\n",
    "    - <mark>`receivedate` : Date that the report was first received by FDA. If this report has multiple versions, this will be the date the first version was received by FDA. **FDA USES THIS IN REPORTS**</mark>\n",
    "    - `transmissiondate` : Date that the record was created. This may be earlier than the date the record was received by the FDA.\n",
    "    - `receiptdate` : Date that the most recent information in the report was received by FDA.\n",
    "    - `patient`\n",
    "        - `patient.patientonsetage`\n",
    "        - `patient.patientsex`\n",
    "        - `patient.reaction`\n",
    "            - `patient.reaction.reactionmeddrapt` : Patient reaction, as a MedDRA term. Note that these terms are encoded in British English. For instance, diarrhea is spelled diarrohea. MedDRA is a standardized medical terminology.  \n",
    "            - `patient.reaction.reactionoutcome` :  Outcome of the reaction in reactionmeddrapt at the time of last observation. Value is one of the following\n",
    "                1. Recovered/resolved\n",
    "                2. Recovering/resolving\n",
    "                3. Not recovered/not resolved\n",
    "                4. Recovered/resolved with sequelae (consequent health issues)\n",
    "                5. Fatal\n",
    "                6. Unknown\n",
    "        - `patient.drug`\n",
    "            - `patient.drug.drugindication` :  Indication for the drug’s use.\n",
    "            -\n",
    "            - `patient.drug.openfda.pharm_class_epc` : drug class Established pharmacologic class associated with an approved indication of an active moiety (generic drug) that the FDA has determined to be scientifically valid and clinically meaningful. Takes the form of the pharmacologic class, followed by [EPC] (such as Thiazide Diuretic [EPC] or Tumor Necrosis Factor Blocker [EPC].\n",
    "    - `primarysource.reportercountry` : Country from which the report was submitted.\n",
    "    - `occurcountry` : The name of the country where the event occurred.\n",
    "    - `primarysourcecountry` : Country of the reporter of the event\n",
    "    - `primarysource.qualification` : who's reporting\n",
    "\n",
    "\n",
    "* Drug Indication \n",
    "* Drug Adverse Events\n"
   ]
  },
  {
   "cell_type": "markdown",
   "metadata": {},
   "source": [
    "## Connecting to the openFDA API"
   ]
  },
  {
   "cell_type": "markdown",
   "metadata": {},
   "source": [
    "###### OpenFDA API key: \n",
    "\"WCsZXD7fwzXRDV02maz9kKLAaRzs5J8kzHSSNIgw\"\n",
    "\n",
    "\"With an API key: 240 requests per minute, per key. 120000 requests per day, per key.\""
   ]
  },
  {
   "cell_type": "markdown",
   "metadata": {},
   "source": [
    "![title](img/api_call.png)"
   ]
  },
  {
   "cell_type": "code",
   "execution_count": 13,
   "metadata": {},
   "outputs": [],
   "source": [
    "api_key = \"WCsZXD7fwzXRDV02maz9kKLAaRzs5J8kzHSSNIgw\""
   ]
  },
  {
   "cell_type": "code",
   "execution_count": 30,
   "metadata": {},
   "outputs": [],
   "source": [
    "query_start = \"https://api.fda.gov/drug/event.json?api_key=\"+ api_key"
   ]
  },
  {
   "cell_type": "code",
   "execution_count": 14,
   "metadata": {},
   "outputs": [
    {
     "name": "stdout",
     "output_type": "stream",
     "text": [
      "200\n"
     ]
    }
   ],
   "source": [
    "# Make a get request to get the latest position of the international space station from the opennotify api.\n",
    "response = requests.get(\"https://api.fda.gov/drug/event.json?api_key=\"+ api_key+\"&limit=1\")\n",
    "# Print the status code of the response.\n",
    "print(response.status_code)"
   ]
  },
  {
   "cell_type": "code",
   "execution_count": 15,
   "metadata": {
    "collapsed": true
   },
   "outputs": [
    {
     "data": {
      "text/plain": [
       "b'{\\n  \"meta\": {\\n    \"disclaimer\": \"Do not rely on openFDA to make decisions regarding medical care. While we make every effort to ensure that data is accurate, you should assume all results are unvalidated. We may limit or otherwise restrict your access to the API in line with our Terms of Service.\",\\n    \"terms\": \"https://open.fda.gov/terms/\",\\n    \"license\": \"https://open.fda.gov/license/\",\\n    \"last_updated\": \"2020-05-02\",\\n    \"results\": {\\n      \"skip\": 0,\\n      \"limit\": 1,\\n      \"total\": 11901829\\n    }\\n  },\\n  \"results\": [\\n    {\\n      \"receiptdateformat\": \"102\",\\n      \"receiver\": null,\\n      \"companynumb\": \"HQWYE821915MAR04\",\\n      \"receivedateformat\": \"102\",\\n      \"primarysource\": null,\\n      \"seriousnessother\": \"1\",\\n      \"transmissiondateformat\": \"102\",\\n      \"fulfillexpeditecriteria\": \"1\",\\n      \"safetyreportid\": \"4322505-4\",\\n      \"sender\": {\\n        \"senderorganization\": \"FDA-Public Use\"\\n      },\\n      \"receivedate\": \"20040319\",\\n      \"patient\": {\\n        \"patientonsetage\": \"56\",\\n        \"reaction\": [\\n          {\\n            \"reactionmeddrapt\": \"ARTHRALGIA\"\\n          },\\n          {\\n            \"reactionmeddrapt\": \"OEDEMA PERIPHERAL\"\\n          },\\n          {\\n            \"reactionmeddrapt\": \"PURPURA\"\\n          }\\n        ],\\n        \"patientonsetageunit\": \"801\",\\n        \"patientsex\": \"1\",\\n        \"drug\": [\\n          {\\n            \"drugstartdateformat\": \"102\",\\n            \"drugindication\": \"PYELONEPHRITIS\",\\n            \"drugadministrationroute\": \"048\",\\n            \"drugtreatmentduration\": \"4\",\\n            \"drugcharacterization\": \"1\",\\n            \"drugstartdate\": \"20031227\",\\n            \"drugenddateformat\": \"102\",\\n            \"drugtreatmentdurationunit\": \"804\",\\n            \"drugdosagetext\": \"ORAL\",\\n            \"drugauthorizationnumb\": \"50621\",\\n            \"drugenddate\": \"20031230\",\\n            \"medicinalproduct\": \"OROKEN (CEFIXIME, UNSPEC)\"\\n          },\\n          {\\n            \"drugcharacterization\": \"2\",\\n            \"medicinalproduct\": \"PYOSTACINE (PRISTINAMYCIN)\"\\n          },\\n          {\\n            \"drugcharacterization\": \"2\",\\n            \"medicinalproduct\": \"ROCEPHIN\"\\n          },\\n          {\\n            \"drugcharacterization\": \"2\",\\n            \"openfda\": {\\n              \"product_ndc\": [\\n                \"55111-160\",\\n                \"55111-161\",\\n                \"60505-0560\",\\n                \"0404-7189\",\\n                \"55111-162\",\\n                \"64980-515\",\\n                \"11980-779\",\\n                \"69238-1616\",\\n                \"69238-1615\",\\n                \"50383-025\",\\n                \"50383-024\",\\n                \"13985-602\",\\n                \"60505-0363\",\\n                \"68047-713\",\\n                \"75834-201\",\\n                \"75834-200\",\\n                \"71209-097\",\\n                \"71209-098\",\\n                \"71209-099\",\\n                \"24208-434\",\\n                \"75834-199\",\\n                \"17478-713\",\\n                \"24208-410\"\\n              ],\\n              \"package_ndc\": [\\n                \"13985-602-05\",\\n                \"55111-161-50\",\\n                \"17478-713-11\",\\n                \"17478-713-10\",\\n                \"55111-160-79\",\\n                \"50383-025-05\",\\n                \"55111-161-78\",\\n                \"55111-161-79\",\\n                \"55111-160-30\",\\n                \"71209-097-05\",\\n                \"71209-098-02\",\\n                \"71209-099-10\",\\n                \"71209-098-05\",\\n                \"71209-097-02\",\\n                \"50383-024-10\",\\n                \"24208-410-10\",\\n                \"75834-200-05\",\\n                \"0404-7189-01\",\\n                \"64980-515-01\",\\n                \"75834-199-05\",\\n                \"55111-162-50\",\\n                \"75834-201-50\",\\n                \"24208-434-05\",\\n                \"68047-713-01\",\\n                \"55111-161-01\",\\n                \"55111-161-05\",\\n                \"55111-162-78\",\\n                \"55111-162-01\",\\n                \"75834-201-05\",\\n                \"55111-160-78\",\\n                \"55111-162-05\",\\n                \"13985-602-10\",\\n                \"69238-1615-3\",\\n                \"50383-025-10\",\\n                \"55111-160-01\",\\n                \"55111-160-05\",\\n                \"50383-024-05\",\\n                \"71209-099-05\",\\n                \"71209-098-10\",\\n                \"71209-099-02\",\\n                \"55111-162-30\",\\n                \"60505-0363-2\",\\n                \"75834-200-01\",\\n                \"71209-097-10\",\\n                \"60505-0363-1\",\\n                \"64980-515-05\",\\n                \"75834-200-50\",\\n                \"75834-201-01\",\\n                \"24208-434-10\",\\n                \"24208-410-05\",\\n                \"60505-0560-1\",\\n                \"60505-0560-0\",\\n                \"69238-1616-6\",\\n                \"75834-199-01\",\\n                \"75834-199-50\",\\n                \"55111-162-79\",\\n                \"55111-161-30\",\\n                \"55111-160-50\",\\n                \"11980-779-05\"\\n              ],\\n              \"generic_name\": [\\n                \"OFLOXACIN OTIC\",\\n                \"OFLOXACIN\",\\n                \"OFLOXAXIN\"\\n              ],\\n              \"spl_set_id\": [\\n                \"8db221b1-32f3-f6ca-e404-71f56a860d08\",\\n                \"1d19a6db-6da5-e7de-f929-2d18bdfa2cf5\",\\n                \"6a3dcc79-bde4-4c32-8a0e-ea14a1e1a191\",\\n                \"7aab4449-3dda-4e2c-8e40-b3244a548bf5\",\\n                \"2ec6bd57-96df-47ac-b218-1469801868b7\",\\n                \"1779c568-d7bb-4bd5-bc29-13bd52ba8a0a\",\\n                \"c76d8dc7-9a66-471b-814b-ef7f3605ec93\",\\n                \"7882f70e-d228-4c52-9390-0d927c51af1f\",\\n                \"ba37e2a0-1bf7-41ca-bddd-35fcb77f87de\",\\n                \"ef145ece-56d8-4dea-a136-ec462b335641\",\\n                \"ad40954d-0b1d-47c5-8bd5-8a1efd9a7153\",\\n                \"8b73d354-4631-40e8-b187-e8b0580bd6ea\",\\n                \"5117d567-2004-c5ed-1391-f8831864696f\",\\n                \"fcd7c5d7-42f4-4dcb-bc84-d976fafd5df4\",\\n                \"c677b35c-0432-4ee5-af57-1f95449c48b6\",\\n                \"c5484f1a-2321-453f-9469-dfcf709e2e2e\"\\n              ],\\n              \"brand_name\": [\\n                \"OFLOXACIN OTIC\",\\n                \"OFLOXACIN\",\\n                \"OCUFLOX\"\\n              ],\\n              \"manufacturer_name\": [\\n                \"Akorn, Inc.\",\\n                \"Dr. Reddy\\'s Laboratories Limited\",\\n                \"Hi-Tech Pharmacal Co., Inc.\",\\n                \"Larken Laboratories, Inc.\",\\n                \"Allergan, Inc.\",\\n                \"Rising Pharmaceuticals, Inc.\",\\n                \"Bausch & Lomb Incorporated\",\\n                \"Apotex Corp.\",\\n                \"Cadila Pharmaceuticals Limited\",\\n                \"Amneal Pharmaceuticals NY LLC\",\\n                \"Henry Schein Inc.\",\\n                \"MWI\",\\n                \"Nivagen Pharmaceuticals, Inc.\"\\n              ],\\n              \"unii\": [\\n                \"A4P49JAZ9H\"\\n              ],\\n              \"rxcui\": [\\n                \"207202\",\\n                \"312075\",\\n                \"198048\",\\n                \"198049\",\\n                \"198050\",\\n                \"242446\"\\n              ],\\n              \"spl_id\": [\\n                \"2d731281-5564-43ff-9889-07931fb2c555\",\\n                \"3e4a3dc8-8e55-cc6e-6fb1-3796147f4607\",\\n                \"3c2cd322-52c4-4a57-be97-934f72f7eec7\",\\n                \"84d7029b-f19a-4360-9fec-7a5e9282b7d7\",\\n                \"285d54dd-a0d8-44cf-b45b-287e708689d1\",\\n                \"3fc21b59-1737-4e42-8e35-98eb9256a4d3\",\\n                \"5e988471-3379-4f68-be87-172e7ca7ac99\",\\n                \"889d4bcc-0b25-f208-dea4-aedf75197224\",\\n                \"1968c63c-6b58-45f4-94a0-373feed01643\",\\n                \"bd2baa03-a145-4320-b7ca-d63f6343e9d6\",\\n                \"48a41c0b-59f7-ef15-7639-30323f6d631b\",\\n                \"8f54f003-e7c5-49d1-8369-15a1c38f4597\",\\n                \"e0fc372b-f613-4598-9359-4d3cba07f9af\",\\n                \"0d187321-481b-4030-96b6-2df0bf5b0487\",\\n                \"c41b0332-f580-4927-8621-9af1452f8ac6\",\\n                \"8a21bee4-9f42-27bb-e053-2a95a90ada92\"\\n              ],\\n              \"substance_name\": [\\n                \"OFLOXACIN\"\\n              ],\\n              \"product_type\": [\\n                \"HUMAN PRESCRIPTION DRUG\"\\n              ],\\n              \"route\": [\\n                \"AURICULAR (OTIC)\",\\n                \"ORAL\",\\n                \"OPHTHALMIC\"\\n              ],\\n              \"application_number\": [\\n                \"ANDA076407\",\\n                \"NDA019921\",\\n                \"ANDA091656\",\\n                \"ANDA076128\",\\n                \"ANDA076527\",\\n                \"ANDA211525\",\\n                \"ANDA076622\",\\n                \"ANDA076513\",\\n                \"ANDA076616\",\\n                \"ANDA078559\",\\n                \"ANDA076615\",\\n                \"ANDA076093\",\\n                \"ANDA077098\"\\n              ]\\n            },\\n            \"medicinalproduct\": \"OFLOXACIN\"\\n          }\\n        ]\\n      },\\n      \"seriousnesshospitalization\": \"1\",\\n      \"transmissiondate\": \"20041129\",\\n      \"serious\": \"1\",\\n      \"receiptdate\": \"20040315\"\\n    }\\n  ]\\n}'"
      ]
     },
     "execution_count": 15,
     "metadata": {},
     "output_type": "execute_result"
    }
   ],
   "source": [
    "response.content"
   ]
  },
  {
   "cell_type": "code",
   "execution_count": 16,
   "metadata": {},
   "outputs": [
    {
     "name": "stdout",
     "output_type": "stream",
     "text": [
      "200\n"
     ]
    }
   ],
   "source": [
    "# Make a get request to get the latest position of the international space station from the opennotify api.\n",
    "response = requests.get(\"https://api.fda.gov/drug/event.json?search=receivedate:[20040101+TO+20081231]&limit=1\")\n",
    "# Print the status code of the response.\n",
    "print(response.status_code)"
   ]
  },
  {
   "cell_type": "code",
   "execution_count": 22,
   "metadata": {
    "collapsed": true
   },
   "outputs": [
    {
     "data": {
      "text/plain": [
       "b'{\\n  \"meta\": {\\n    \"disclaimer\": \"Do not rely on openFDA to make decisions regarding medical care. While we make every effort to ensure that data is accurate, you should assume all results are unvalidated. We may limit or otherwise restrict your access to the API in line with our Terms of Service.\",\\n    \"terms\": \"https://open.fda.gov/terms/\",\\n    \"license\": \"https://open.fda.gov/license/\",\\n    \"last_updated\": \"2020-05-02\",\\n    \"results\": {\\n      \"skip\": 0,\\n      \"limit\": 1,\\n      \"total\": 1313656\\n    }\\n  },\\n  \"results\": [\\n    {\\n      \"receiptdateformat\": \"102\",\\n      \"receiver\": null,\\n      \"companynumb\": \"HQWYE821915MAR04\",\\n      \"receivedateformat\": \"102\",\\n      \"primarysource\": null,\\n      \"seriousnessother\": \"1\",\\n      \"transmissiondateformat\": \"102\",\\n      \"fulfillexpeditecriteria\": \"1\",\\n      \"safetyreportid\": \"4322505-4\",\\n      \"sender\": {\\n        \"senderorganization\": \"FDA-Public Use\"\\n      },\\n      \"receivedate\": \"20040319\",\\n      \"patient\": {\\n        \"patientonsetage\": \"56\",\\n        \"reaction\": [\\n          {\\n            \"reactionmeddrapt\": \"ARTHRALGIA\"\\n          },\\n          {\\n            \"reactionmeddrapt\": \"OEDEMA PERIPHERAL\"\\n          },\\n          {\\n            \"reactionmeddrapt\": \"PURPURA\"\\n          }\\n        ],\\n        \"patientonsetageunit\": \"801\",\\n        \"patientsex\": \"1\",\\n        \"drug\": [\\n          {\\n            \"drugstartdateformat\": \"102\",\\n            \"drugindication\": \"PYELONEPHRITIS\",\\n            \"drugadministrationroute\": \"048\",\\n            \"drugtreatmentduration\": \"4\",\\n            \"drugcharacterization\": \"1\",\\n            \"drugstartdate\": \"20031227\",\\n            \"drugenddateformat\": \"102\",\\n            \"drugtreatmentdurationunit\": \"804\",\\n            \"drugdosagetext\": \"ORAL\",\\n            \"drugauthorizationnumb\": \"50621\",\\n            \"drugenddate\": \"20031230\",\\n            \"medicinalproduct\": \"OROKEN (CEFIXIME, UNSPEC)\"\\n          },\\n          {\\n            \"drugcharacterization\": \"2\",\\n            \"medicinalproduct\": \"PYOSTACINE (PRISTINAMYCIN)\"\\n          },\\n          {\\n            \"drugcharacterization\": \"2\",\\n            \"medicinalproduct\": \"ROCEPHIN\"\\n          },\\n          {\\n            \"drugcharacterization\": \"2\",\\n            \"openfda\": {\\n              \"product_ndc\": [\\n                \"55111-160\",\\n                \"55111-161\",\\n                \"60505-0560\",\\n                \"0404-7189\",\\n                \"55111-162\",\\n                \"64980-515\",\\n                \"11980-779\",\\n                \"69238-1616\",\\n                \"69238-1615\",\\n                \"50383-025\",\\n                \"50383-024\",\\n                \"13985-602\",\\n                \"60505-0363\",\\n                \"68047-713\",\\n                \"75834-201\",\\n                \"75834-200\",\\n                \"71209-097\",\\n                \"71209-098\",\\n                \"71209-099\",\\n                \"24208-434\",\\n                \"75834-199\",\\n                \"17478-713\",\\n                \"24208-410\"\\n              ],\\n              \"package_ndc\": [\\n                \"13985-602-05\",\\n                \"55111-161-50\",\\n                \"17478-713-11\",\\n                \"17478-713-10\",\\n                \"55111-160-79\",\\n                \"50383-025-05\",\\n                \"55111-161-78\",\\n                \"55111-161-79\",\\n                \"55111-160-30\",\\n                \"71209-097-05\",\\n                \"71209-098-02\",\\n                \"71209-099-10\",\\n                \"71209-098-05\",\\n                \"71209-097-02\",\\n                \"50383-024-10\",\\n                \"24208-410-10\",\\n                \"75834-200-05\",\\n                \"0404-7189-01\",\\n                \"64980-515-01\",\\n                \"75834-199-05\",\\n                \"55111-162-50\",\\n                \"75834-201-50\",\\n                \"24208-434-05\",\\n                \"68047-713-01\",\\n                \"55111-161-01\",\\n                \"55111-161-05\",\\n                \"55111-162-78\",\\n                \"55111-162-01\",\\n                \"75834-201-05\",\\n                \"55111-160-78\",\\n                \"55111-162-05\",\\n                \"13985-602-10\",\\n                \"69238-1615-3\",\\n                \"50383-025-10\",\\n                \"55111-160-01\",\\n                \"55111-160-05\",\\n                \"50383-024-05\",\\n                \"71209-099-05\",\\n                \"71209-098-10\",\\n                \"71209-099-02\",\\n                \"55111-162-30\",\\n                \"60505-0363-2\",\\n                \"75834-200-01\",\\n                \"71209-097-10\",\\n                \"60505-0363-1\",\\n                \"64980-515-05\",\\n                \"75834-200-50\",\\n                \"75834-201-01\",\\n                \"24208-434-10\",\\n                \"24208-410-05\",\\n                \"60505-0560-1\",\\n                \"60505-0560-0\",\\n                \"69238-1616-6\",\\n                \"75834-199-01\",\\n                \"75834-199-50\",\\n                \"55111-162-79\",\\n                \"55111-161-30\",\\n                \"55111-160-50\",\\n                \"11980-779-05\"\\n              ],\\n              \"generic_name\": [\\n                \"OFLOXACIN OTIC\",\\n                \"OFLOXACIN\",\\n                \"OFLOXAXIN\"\\n              ],\\n              \"spl_set_id\": [\\n                \"8db221b1-32f3-f6ca-e404-71f56a860d08\",\\n                \"1d19a6db-6da5-e7de-f929-2d18bdfa2cf5\",\\n                \"6a3dcc79-bde4-4c32-8a0e-ea14a1e1a191\",\\n                \"7aab4449-3dda-4e2c-8e40-b3244a548bf5\",\\n                \"2ec6bd57-96df-47ac-b218-1469801868b7\",\\n                \"1779c568-d7bb-4bd5-bc29-13bd52ba8a0a\",\\n                \"c76d8dc7-9a66-471b-814b-ef7f3605ec93\",\\n                \"7882f70e-d228-4c52-9390-0d927c51af1f\",\\n                \"ba37e2a0-1bf7-41ca-bddd-35fcb77f87de\",\\n                \"ef145ece-56d8-4dea-a136-ec462b335641\",\\n                \"ad40954d-0b1d-47c5-8bd5-8a1efd9a7153\",\\n                \"8b73d354-4631-40e8-b187-e8b0580bd6ea\",\\n                \"5117d567-2004-c5ed-1391-f8831864696f\",\\n                \"fcd7c5d7-42f4-4dcb-bc84-d976fafd5df4\",\\n                \"c677b35c-0432-4ee5-af57-1f95449c48b6\",\\n                \"c5484f1a-2321-453f-9469-dfcf709e2e2e\"\\n              ],\\n              \"brand_name\": [\\n                \"OFLOXACIN OTIC\",\\n                \"OFLOXACIN\",\\n                \"OCUFLOX\"\\n              ],\\n              \"manufacturer_name\": [\\n                \"Akorn, Inc.\",\\n                \"Dr. Reddy\\'s Laboratories Limited\",\\n                \"Hi-Tech Pharmacal Co., Inc.\",\\n                \"Larken Laboratories, Inc.\",\\n                \"Allergan, Inc.\",\\n                \"Rising Pharmaceuticals, Inc.\",\\n                \"Bausch & Lomb Incorporated\",\\n                \"Apotex Corp.\",\\n                \"Cadila Pharmaceuticals Limited\",\\n                \"Amneal Pharmaceuticals NY LLC\",\\n                \"Henry Schein Inc.\",\\n                \"MWI\",\\n                \"Nivagen Pharmaceuticals, Inc.\"\\n              ],\\n              \"unii\": [\\n                \"A4P49JAZ9H\"\\n              ],\\n              \"rxcui\": [\\n                \"207202\",\\n                \"312075\",\\n                \"198048\",\\n                \"198049\",\\n                \"198050\",\\n                \"242446\"\\n              ],\\n              \"spl_id\": [\\n                \"2d731281-5564-43ff-9889-07931fb2c555\",\\n                \"3e4a3dc8-8e55-cc6e-6fb1-3796147f4607\",\\n                \"3c2cd322-52c4-4a57-be97-934f72f7eec7\",\\n                \"84d7029b-f19a-4360-9fec-7a5e9282b7d7\",\\n                \"285d54dd-a0d8-44cf-b45b-287e708689d1\",\\n                \"3fc21b59-1737-4e42-8e35-98eb9256a4d3\",\\n                \"5e988471-3379-4f68-be87-172e7ca7ac99\",\\n                \"889d4bcc-0b25-f208-dea4-aedf75197224\",\\n                \"1968c63c-6b58-45f4-94a0-373feed01643\",\\n                \"bd2baa03-a145-4320-b7ca-d63f6343e9d6\",\\n                \"48a41c0b-59f7-ef15-7639-30323f6d631b\",\\n                \"8f54f003-e7c5-49d1-8369-15a1c38f4597\",\\n                \"e0fc372b-f613-4598-9359-4d3cba07f9af\",\\n                \"0d187321-481b-4030-96b6-2df0bf5b0487\",\\n                \"c41b0332-f580-4927-8621-9af1452f8ac6\",\\n                \"8a21bee4-9f42-27bb-e053-2a95a90ada92\"\\n              ],\\n              \"substance_name\": [\\n                \"OFLOXACIN\"\\n              ],\\n              \"product_type\": [\\n                \"HUMAN PRESCRIPTION DRUG\"\\n              ],\\n              \"route\": [\\n                \"AURICULAR (OTIC)\",\\n                \"ORAL\",\\n                \"OPHTHALMIC\"\\n              ],\\n              \"application_number\": [\\n                \"ANDA076407\",\\n                \"NDA019921\",\\n                \"ANDA091656\",\\n                \"ANDA076128\",\\n                \"ANDA076527\",\\n                \"ANDA211525\",\\n                \"ANDA076622\",\\n                \"ANDA076513\",\\n                \"ANDA076616\",\\n                \"ANDA078559\",\\n                \"ANDA076615\",\\n                \"ANDA076093\",\\n                \"ANDA077098\"\\n              ]\\n            },\\n            \"medicinalproduct\": \"OFLOXACIN\"\\n          }\\n        ]\\n      },\\n      \"seriousnesshospitalization\": \"1\",\\n      \"transmissiondate\": \"20041129\",\\n      \"serious\": \"1\",\\n      \"receiptdate\": \"20040315\"\\n    }\\n  ]\\n}'"
      ]
     },
     "execution_count": 22,
     "metadata": {},
     "output_type": "execute_result"
    }
   ],
   "source": [
    "response.content"
   ]
  },
  {
   "cell_type": "code",
   "execution_count": null,
   "metadata": {},
   "outputs": [],
   "source": [
    "https://api.fda.gov/drug/event.json"
   ]
  },
  {
   "cell_type": "markdown",
   "metadata": {},
   "source": [
    "## Parsing & Formatting JSON"
   ]
  },
  {
   "cell_type": "code",
   "execution_count": null,
   "metadata": {},
   "outputs": [],
   "source": []
  },
  {
   "cell_type": "markdown",
   "metadata": {},
   "source": [
    "## Exploration"
   ]
  },
  {
   "cell_type": "code",
   "execution_count": null,
   "metadata": {},
   "outputs": [],
   "source": []
  },
  {
   "cell_type": "code",
   "execution_count": null,
   "metadata": {},
   "outputs": [],
   "source": []
  },
  {
   "cell_type": "code",
   "execution_count": null,
   "metadata": {},
   "outputs": [],
   "source": []
  },
  {
   "cell_type": "markdown",
   "metadata": {},
   "source": [
    "## Answering Specific Questions from the Case Study"
   ]
  },
  {
   "cell_type": "markdown",
   "metadata": {},
   "source": [
    "###### 1. Are different adverse events reported in different countries? "
   ]
  },
  {
   "cell_type": "markdown",
   "metadata": {},
   "source": [
    "relevant fields:\n",
    "- `primarysource.reportercountry` : Country from which the report was submitted.\n",
    "- `patient.reaction.reactionmeddrapt.exact` : Patient reaction, as a MedDRA term. Note that these terms are encoded in British English. For instance, diarrhea is spelled diarrohea. MedDRA is a standardized medical terminology.\n"
   ]
  },
  {
   "cell_type": "markdown",
   "metadata": {},
   "source": [
    "potential ways of answering the question:\n",
    "- pick top X countries, and report top X adverse events for each\n",
    "- construct a matrix of top X countries vs top Y adverse events, and visualize how similar countries are in this hyperspace, do clustering analysis, scrutinize outliers"
   ]
  },
  {
   "cell_type": "raw",
   "metadata": {},
   "source": [
    "count=primarysource.reportercountry"
   ]
  },
  {
   "cell_type": "code",
   "execution_count": 46,
   "metadata": {},
   "outputs": [],
   "source": [
    "response = requests.get(query_start+\"&count=primarysource.reportercountry.exact\")"
   ]
  },
  {
   "cell_type": "code",
   "execution_count": 45,
   "metadata": {},
   "outputs": [
    {
     "name": "stdout",
     "output_type": "stream",
     "text": [
      "{\n",
      "  \"meta\": {\n",
      "    \"disclaimer\": \"Do not rely on openFDA to make decisions regarding medical care. While we make every effort to ensure that data is accurate, you should assume all results are unvalidated. We may limit or otherwise restrict your access to the API in line with our Terms of Service.\",\n",
      "    \"last_updated\": \"2020-05-02\",\n",
      "    \"license\": \"https://open.fda.gov/license/\",\n",
      "    \"terms\": \"https://open.fda.gov/terms/\"\n",
      "  },\n",
      "  \"results\": [\n",
      "    {\n",
      "      \"count\": 6015418,\n",
      "      \"term\": \"US\"\n",
      "    },\n",
      "    {\n",
      "      \"count\": 1955420,\n",
      "      \"term\": \"UNITED STATES\"\n",
      "    },\n",
      "    {\n",
      "      \"count\": 515144,\n",
      "      \"term\": \"COUNTRY NOT SPECIFIED\"\n",
      "    },\n",
      "    {\n",
      "      \"count\": 331015,\n",
      "      \"term\": \"GB\"\n",
      "    },\n",
      "    {\n",
      "      \"count\": 255643,\n",
      "      \"term\": \"JP\"\n",
      "    },\n",
      "    {\n",
      "      \"count\": 247876,\n",
      "      \"term\": \"CA\"\n",
      "    },\n",
      "    {\n",
      "      \"count\": 241461,\n",
      "      \"term\": \"FR\"\n",
      "    },\n",
      "    {\n",
      "      \"count\": 185304,\n",
      "      \"term\": \"DE\"\n",
      "    },\n",
      "    {\n",
      "      \"count\": 136483,\n",
      "      \"term\": \"IT\"\n",
      "    },\n",
      "    {\n",
      "      \"count\": 115681,\n",
      "      \"term\": \"UNITED KINGDOM\"\n",
      "    },\n",
      "    {\n",
      "      \"count\": 110254,\n",
      "      \"term\": \"JAPAN\"\n",
      "    },\n",
      "    {\n",
      "      \"count\": 94510,\n",
      "      \"term\": \"FRANCE\"\n",
      "    },\n",
      "    {\n",
      "      \"count\": 80882,\n",
      "      \"term\": \"BR\"\n",
      "    },\n",
      "    {\n",
      "      \"count\": 77862,\n",
      "      \"term\": \"GERMANY\"\n",
      "    },\n",
      "    {\n",
      "      \"count\": 68693,\n",
      "      \"term\": \"ES\"\n",
      "    },\n",
      "    {\n",
      "      \"count\": 62042,\n",
      "      \"term\": \"AU\"\n",
      "    },\n",
      "    {\n",
      "      \"count\": 61940,\n",
      "      \"term\": \"NL\"\n",
      "    },\n",
      "    {\n",
      "      \"count\": 59123,\n",
      "      \"term\": \"CN\"\n",
      "    },\n",
      "    {\n",
      "      \"count\": 53054,\n",
      "      \"term\": \"CANADA\"\n",
      "    },\n",
      "    {\n",
      "      \"count\": 36253,\n",
      "      \"term\": \"BRAZIL\"\n",
      "    },\n",
      "    {\n",
      "      \"count\": 32855,\n",
      "      \"term\": \"IN\"\n",
      "    },\n",
      "    {\n",
      "      \"count\": 31072,\n",
      "      \"term\": \"SE\"\n",
      "    },\n",
      "    {\n",
      "      \"count\": 30272,\n",
      "      \"term\": \"CO\"\n",
      "    },\n",
      "    {\n",
      "      \"count\": 28560,\n",
      "      \"term\": \"AUSTRALIA\"\n",
      "    },\n",
      "    {\n",
      "      \"count\": 25161,\n",
      "      \"term\": \"ITALY\"\n",
      "    },\n",
      "    {\n",
      "      \"count\": 25072,\n",
      "      \"term\": \"CH\"\n",
      "    },\n",
      "    {\n",
      "      \"count\": 24360,\n",
      "      \"term\": \"TR\"\n",
      "    },\n",
      "    {\n",
      "      \"count\": 22041,\n",
      "      \"term\": \"SPAIN\"\n",
      "    },\n",
      "    {\n",
      "      \"count\": 21049,\n",
      "      \"term\": \"AR\"\n",
      "    },\n",
      "    {\n",
      "      \"count\": 20868,\n",
      "      \"term\": \"PL\"\n",
      "    },\n",
      "    {\n",
      "      \"count\": 20649,\n",
      "      \"term\": \"BE\"\n",
      "    },\n",
      "    {\n",
      "      \"count\": 20084,\n",
      "      \"term\": \"PT\"\n",
      "    },\n",
      "    {\n",
      "      \"count\": 19321,\n",
      "      \"term\": \"KR\"\n",
      "    },\n",
      "    {\n",
      "      \"count\": 18520,\n",
      "      \"term\": \"DK\"\n",
      "    },\n",
      "    {\n",
      "      \"count\": 17702,\n",
      "      \"term\": \"SWITZERLAND\"\n",
      "    },\n",
      "    {\n",
      "      \"count\": 16891,\n",
      "      \"term\": \"TW\"\n",
      "    },\n",
      "    {\n",
      "      \"count\": 16738,\n",
      "      \"term\": \"GR\"\n",
      "    },\n",
      "    {\n",
      "      \"count\": 15758,\n",
      "      \"term\": \"NETHERLANDS\"\n",
      "    },\n",
      "    {\n",
      "      \"count\": 14902,\n",
      "      \"term\": \"IE\"\n",
      "    },\n",
      "    {\n",
      "      \"count\": 14858,\n",
      "      \"term\": \"AT\"\n",
      "    },\n",
      "    {\n",
      "      \"count\": 14615,\n",
      "      \"term\": \"IL\"\n",
      "    },\n",
      "    {\n",
      "      \"count\": 13513,\n",
      "      \"term\": \"RU\"\n",
      "    },\n",
      "    {\n",
      "      \"count\": 13302,\n",
      "      \"term\": \"MX\"\n",
      "    },\n",
      "    {\n",
      "      \"count\": 12938,\n",
      "      \"term\": \"ZA\"\n",
      "    },\n",
      "    {\n",
      "      \"count\": 11357,\n",
      "      \"term\": \"DENMARK\"\n",
      "    },\n",
      "    {\n",
      "      \"count\": 10641,\n",
      "      \"term\": \"SWEDEN\"\n",
      "    },\n",
      "    {\n",
      "      \"count\": 10549,\n",
      "      \"term\": \"CZ\"\n",
      "    },\n",
      "    {\n",
      "      \"count\": 10064,\n",
      "      \"term\": \"BELGIUM\"\n",
      "    },\n",
      "    {\n",
      "      \"count\": 9942,\n",
      "      \"term\": \"NO\"\n",
      "    },\n",
      "    {\n",
      "      \"count\": 9815,\n",
      "      \"term\": \"CHINA\"\n",
      "    },\n",
      "    {\n",
      "      \"count\": 9157,\n",
      "      \"term\": \"RO\"\n",
      "    },\n",
      "    {\n",
      "      \"count\": 9029,\n",
      "      \"term\": \"FI\"\n",
      "    },\n",
      "    {\n",
      "      \"count\": 8258,\n",
      "      \"term\": \"HU\"\n",
      "    },\n",
      "    {\n",
      "      \"count\": 7883,\n",
      "      \"term\": \"IRELAND\"\n",
      "    },\n",
      "    {\n",
      "      \"count\": 7797,\n",
      "      \"term\": \"TURKEY\"\n",
      "    },\n",
      "    {\n",
      "      \"count\": 7543,\n",
      "      \"term\": \"INDIA\"\n",
      "    },\n",
      "    {\n",
      "      \"count\": 6887,\n",
      "      \"term\": \"KOREA, REPUBLIC OF\"\n",
      "    },\n",
      "    {\n",
      "      \"count\": 6873,\n",
      "      \"term\": \"MEXICO\"\n",
      "    },\n",
      "    {\n",
      "      \"count\": 6380,\n",
      "      \"term\": \"GREECE\"\n",
      "    },\n",
      "    {\n",
      "      \"count\": 6356,\n",
      "      \"term\": \"SG\"\n",
      "    },\n",
      "    {\n",
      "      \"count\": 6125,\n",
      "      \"term\": \"HR\"\n",
      "    },\n",
      "    {\n",
      "      \"count\": 6021,\n",
      "      \"term\": \"NZ\"\n",
      "    },\n",
      "    {\n",
      "      \"count\": 5881,\n",
      "      \"term\": \"PR\"\n",
      "    },\n",
      "    {\n",
      "      \"count\": 5856,\n",
      "      \"term\": \"TAIWAN, PROVINCE OF CHINA\"\n",
      "    },\n",
      "    {\n",
      "      \"count\": 5690,\n",
      "      \"term\": \"AUSTRIA\"\n",
      "    },\n",
      "    {\n",
      "      \"count\": 5633,\n",
      "      \"term\": \"NORWAY\"\n",
      "    },\n",
      "    {\n",
      "      \"count\": 5584,\n",
      "      \"term\": \"CL\"\n",
      "    },\n",
      "    {\n",
      "      \"count\": 5396,\n",
      "      \"term\": \"ARGENTINA\"\n",
      "    },\n",
      "    {\n",
      "      \"count\": 5046,\n",
      "      \"term\": \"POLAND\"\n",
      "    },\n",
      "    {\n",
      "      \"count\": 4995,\n",
      "      \"term\": \"PE\"\n",
      "    },\n",
      "    {\n",
      "      \"count\": 4952,\n",
      "      \"term\": \"TH\"\n",
      "    },\n",
      "    {\n",
      "      \"count\": 4813,\n",
      "      \"term\": \"ISRAEL\"\n",
      "    },\n",
      "    {\n",
      "      \"count\": 4759,\n",
      "      \"term\": \"PH\"\n",
      "    },\n",
      "    {\n",
      "      \"count\": 4592,\n",
      "      \"term\": \"SOUTH AFRICA\"\n",
      "    },\n",
      "    {\n",
      "      \"count\": 4455,\n",
      "      \"term\": \"COLOMBIA\"\n",
      "    },\n",
      "    {\n",
      "      \"count\": 4039,\n",
      "      \"term\": \"EG\"\n",
      "    },\n",
      "    {\n",
      "      \"count\": 3911,\n",
      "      \"term\": \"FINLAND\"\n",
      "    },\n",
      "    {\n",
      "      \"count\": 3820,\n",
      "      \"term\": \"HK\"\n",
      "    },\n",
      "    {\n",
      "      \"count\": 3788,\n",
      "      \"term\": \"PORTUGAL\"\n",
      "    },\n",
      "    {\n",
      "      \"count\": 3713,\n",
      "      \"term\": \"SK\"\n",
      "    },\n",
      "    {\n",
      "      \"count\": 3702,\n",
      "      \"term\": \"SI\"\n",
      "    },\n",
      "    {\n",
      "      \"count\": 3689,\n",
      "      \"term\": \"MY\"\n",
      "    },\n",
      "    {\n",
      "      \"count\": 3665,\n",
      "      \"term\": \"VENEZUELA\"\n",
      "    },\n",
      "    {\n",
      "      \"count\": 3356,\n",
      "      \"term\": \"VE\"\n",
      "    },\n",
      "    {\n",
      "      \"count\": 3268,\n",
      "      \"term\": \"NEW ZEALAND\"\n",
      "    },\n",
      "    {\n",
      "      \"count\": 3208,\n",
      "      \"term\": \"LB\"\n",
      "    },\n",
      "    {\n",
      "      \"count\": 2889,\n",
      "      \"term\": \"IR\"\n",
      "    },\n",
      "    {\n",
      "      \"count\": 2837,\n",
      "      \"term\": \"SA\"\n",
      "    },\n",
      "    {\n",
      "      \"count\": 2786,\n",
      "      \"term\": \"BG\"\n",
      "    },\n",
      "    {\n",
      "      \"count\": 2780,\n",
      "      \"term\": \"RUSSIAN FEDERATION\"\n",
      "    },\n",
      "    {\n",
      "      \"count\": 2585,\n",
      "      \"term\": \"ID\"\n",
      "    },\n",
      "    {\n",
      "      \"count\": 2435,\n",
      "      \"term\": \"SINGAPORE\"\n",
      "    },\n",
      "    {\n",
      "      \"count\": 2419,\n",
      "      \"term\": \"CZECH REPUBLIC\"\n",
      "    },\n",
      "    {\n",
      "      \"count\": 2294,\n",
      "      \"term\": \"PUERTO RICO\"\n",
      "    },\n",
      "    {\n",
      "      \"count\": 2209,\n",
      "      \"term\": \"PHILIPPINES\"\n",
      "    },\n",
      "    {\n",
      "      \"count\": 2064,\n",
      "      \"term\": \"VN\"\n",
      "    },\n",
      "    {\n",
      "      \"count\": 1987,\n",
      "      \"term\": \"HUNGARY\"\n",
      "    },\n",
      "    {\n",
      "      \"count\": 1983,\n",
      "      \"term\": \"PK\"\n",
      "    },\n",
      "    {\n",
      "      \"count\": 1901,\n",
      "      \"term\": \"TN\"\n",
      "    },\n",
      "    {\n",
      "      \"count\": 1883,\n",
      "      \"term\": \"THAILAND\"\n",
      "    }\n",
      "  ]\n",
      "}\n"
     ]
    }
   ],
   "source": [
    "parsed = json.loads(response.content)\n",
    "print(json.dumps(parsed, indent=2, sort_keys=True))"
   ]
  },
  {
   "cell_type": "code",
   "execution_count": null,
   "metadata": {},
   "outputs": [],
   "source": []
  },
  {
   "cell_type": "code",
   "execution_count": null,
   "metadata": {},
   "outputs": [],
   "source": []
  },
  {
   "cell_type": "markdown",
   "metadata": {},
   "source": [
    "###### ANSWER:"
   ]
  },
  {
   "cell_type": "markdown",
   "metadata": {},
   "source": [
    "###### 2. What are the different adverse events associated with different disease areas?"
   ]
  },
  {
   "cell_type": "code",
   "execution_count": null,
   "metadata": {},
   "outputs": [],
   "source": []
  },
  {
   "cell_type": "code",
   "execution_count": null,
   "metadata": {},
   "outputs": [],
   "source": []
  },
  {
   "cell_type": "markdown",
   "metadata": {},
   "source": [
    "###### ANSWER:"
   ]
  },
  {
   "cell_type": "markdown",
   "metadata": {},
   "source": [
    "###### 3. What drugs tend to be taken together?  "
   ]
  },
  {
   "cell_type": "code",
   "execution_count": null,
   "metadata": {},
   "outputs": [],
   "source": []
  },
  {
   "cell_type": "code",
   "execution_count": null,
   "metadata": {},
   "outputs": [],
   "source": []
  },
  {
   "cell_type": "code",
   "execution_count": null,
   "metadata": {},
   "outputs": [],
   "source": []
  },
  {
   "cell_type": "code",
   "execution_count": null,
   "metadata": {},
   "outputs": [],
   "source": []
  },
  {
   "cell_type": "markdown",
   "metadata": {},
   "source": [
    "###### ANSWER:"
   ]
  },
  {
   "cell_type": "markdown",
   "metadata": {},
   "source": [
    "## Exploration"
   ]
  },
  {
   "cell_type": "code",
   "execution_count": null,
   "metadata": {},
   "outputs": [],
   "source": []
  },
  {
   "cell_type": "code",
   "execution_count": null,
   "metadata": {},
   "outputs": [],
   "source": []
  },
  {
   "cell_type": "code",
   "execution_count": null,
   "metadata": {},
   "outputs": [],
   "source": []
  },
  {
   "cell_type": "code",
   "execution_count": null,
   "metadata": {},
   "outputs": [],
   "source": []
  }
 ],
 "metadata": {
  "kernelspec": {
   "display_name": "Python 3",
   "language": "python",
   "name": "python3"
  },
  "language_info": {
   "codemirror_mode": {
    "name": "ipython",
    "version": 3
   },
   "file_extension": ".py",
   "mimetype": "text/x-python",
   "name": "python",
   "nbconvert_exporter": "python",
   "pygments_lexer": "ipython3",
   "version": "3.7.6"
  }
 },
 "nbformat": 4,
 "nbformat_minor": 4
}
