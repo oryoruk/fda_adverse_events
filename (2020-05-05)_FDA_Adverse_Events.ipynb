{
 "cells": [
  {
   "cell_type": "code",
   "execution_count": 561,
   "metadata": {},
   "outputs": [],
   "source": [
    "import json\n",
    "import requests\n",
    "from sklearn.decomposition import PCA\n",
    "from pandas.io.json import json_normalize\n",
    "from datapackage import Package"
   ]
  },
  {
   "cell_type": "code",
   "execution_count": 231,
   "metadata": {},
   "outputs": [],
   "source": [
    "import numpy as np\n",
    "import matplotlib.pyplot as plt\n"
   ]
  },
  {
   "cell_type": "code",
   "execution_count": 47,
   "metadata": {},
   "outputs": [
    {
     "data": {
      "text/html": [
       "<style>.container { width:100% !important; }</style>"
      ],
      "text/plain": [
       "<IPython.core.display.HTML object>"
      ]
     },
     "metadata": {},
     "output_type": "display_data"
    }
   ],
   "source": [
    "import os\n",
    "import time\n",
    "import numpy as np\n",
    "import pandas as pd\n",
    "from pandas import ExcelWriter\n",
    "from pandas import ExcelFile\n",
    "import string\n",
    "import random\n",
    "from IPython.core.display import display, HTML\n",
    "import datetime\n",
    "\n",
    "display(HTML(\"<style>.container { width:100% !important; }</style>\"))"
   ]
  },
  {
   "cell_type": "markdown",
   "metadata": {},
   "source": [
    "# (2020-05-05)"
   ]
  },
  {
   "cell_type": "markdown",
   "metadata": {},
   "source": [
    "# An Exploratory Analysis of FDA Adverse Events Data"
   ]
  },
  {
   "cell_type": "markdown",
   "metadata": {},
   "source": [
    "## Logistics"
   ]
  },
  {
   "cell_type": "markdown",
   "metadata": {},
   "source": [
    "###### Prompt:\n",
    "\n",
    "The U.S. Food and Drug Administration (FDA) regulates over-the-counter and prescription drugs in the United States, including biological therapeutics and generic drugs. This work covers more than just medicines. For example, fluoride toothpaste, antiperspirants, dandruff shampoos and sunscreens are all considered drugs. \n",
    " \n",
    "An adverse event is submitted to the FDA to report any undesirable experience associated with the use of a medical product in a patient. For drugs, this includes serious drug side effects, product use errors, product quality problems, and therapeutic failures for prescription or over-the-counter medicines and medicines administered to hospital patients or at outpatient infusion centers. \n",
    " \n",
    "The FDA's database of adverse event reports is made available through a web API at https://open.fda.gov/apis/try-the-api/ Each report contains general information about the report, patient information, a list of the drugs that the patient is taking, and a list of the patient reactions.  It is possible to use these data in many ways: your brief is to explore these data and to see what might be learned from them.  As a guide, you might consider a practical solution to one of the following questions: \n",
    "\n",
    "- Are different adverse events reported in different countries? \n",
    "- What are the different adverse events associated with different disease areas? \n",
    "- What drugs tend to be taken together? \n",
    " \n",
    "You should publish your code to your personal github repository and send a link two days before interview.  At interview you should expect to discuss your code, any statistics or visualizations you may have used, limitations of the underlying data, and how your solution could be generalized, extended, and made into a robust product."
   ]
  },
  {
   "attachments": {},
   "cell_type": "markdown",
   "metadata": {},
   "source": [
    "###### Things To Do:\n",
    "\n",
    "* ✅ explore the data in FAERS\n",
    "* ✅ code for connecting to the API, querying and fetching results\n",
    "- ✅ GitHub repo: \"fda_adverse_events\" or maybe \"azn_cs_faers\" -> is it too cryptic?\n",
    "- ⬜️ code for reading JSONs\n",
    "- ⬜️ slidedeck\n",
    "    - discuss code\n",
    "    - explain stats & visualizations\n",
    "    - discuss limitations of the data\n",
    "    - explain findings\n",
    "    - potential generalization, extension, and further development into a robust product\n",
    "- ⬜️ email the GitHub repo (Saturday? Sunday?)\n",
    "- ⬜️ rehearse presentation"
   ]
  },
  {
   "cell_type": "markdown",
   "metadata": {},
   "source": [
    "## Some Key / Relevant Variables in FAERS for this Case Study (JSON Format)"
   ]
  },
  {
   "cell_type": "markdown",
   "metadata": {},
   "source": [
    "![title](images/json.png)"
   ]
  },
  {
   "cell_type": "markdown",
   "metadata": {},
   "source": [
    "- `meta`\n",
    "- `results`\n",
    "    - `safetyreportid` : The 8-digit Safety Report ID number, also known as the case report number or case ID. The first 7 digits (before the hyphen) identify an individual report and the last digit (after the hyphen) is a checksum. This field can be used to identify or find a specific adverse event report.\n",
    "    - `receivedate` : **Date that the report was first received by FDA. If this report has multiple versions, this will be the date the first version was received by FDA. DATE (FDA USES THIS IN EXAMPLE REPORTS)**\n",
    "    - `transmissiondate` : Date that the record was created. This may be earlier than the date the record was received by the FDA.\n",
    "    - `receiptdate` : Date that the most recent information in the report was received by FDA.\n",
    "    - `patient`\n",
    "        - `patient.patientonsetage` : **Age of the patient when the event first occured. AGE OF PATIENT**\n",
    "        - `patient.patientsex` :  The sex of the patient. Value is one of the following: 0. Unknown, 1. Male, 2. Female\n",
    "        - `patient.reaction`\n",
    "            - `patient.reaction.reactionmeddrapt` : **Patient reaction, as a MedDRA term. Note that these terms are encoded in British English. For instance, diarrhea is spelled diarrohea. MedDRA is a standardized medical terminology. DRUG REACTION / ADVERSE EVENT TYPE**\n",
    "            - `patient.reaction.reactionoutcome` :  Outcome of the reaction in reactionmeddrapt at the time of last observation. Value is one of the following: 1. Recovered/resolved, 2. Recovering/resolving, 3. Not recovered/not resolved, 4. Recovered/resolved with sequelae (consequent health issues), 5. Fatal, 6. Unknown\n",
    "        - `patient.drug`\n",
    "            - `patient.drug.medicinalproduct` : Drug name. This may be the valid trade name of the product (such as ADVIL or ALEVE) or the generic name (such as IBUPROFEN). This field is not systematically normalized. It may contain misspellings or idiosyncratic descriptions of drugs, such as combination products such as those used for birth control.\n",
    "            - `patient.drug.openfda.brand_name` : **Brand or trade name of the drug product. DRUG NAME**\n",
    "            - `patient.drug.openfda.generic_name` : Generic name(s) of the drug product.\n",
    "            - `patient.drug.openfda.manufacturer_name` : **Name of manufacturer or company that makes this drug product, corresponding to the labeler code segment of the NDC DRUG MANUFACTURER**.\n",
    "            - `patient.drug.drugadministrationroute` : The drug’s route of administration.\n",
    "            - `patient.drug.openfda.route` : The route of administation of the drug product.\n",
    "            - `patient.drug.drugindication` :  **Indication for the drug’s use. DRUG INDICATION / DISEASE AREA**\n",
    "            - `patient.drug.openfda.pharm_class_epc` : Established pharmacologic class associated with an approved indication of an active moiety (generic drug) that the FDA has determined to be scientifically valid and clinically meaningful. Takes the form of the pharmacologic class, followed by [EPC] (such as Thiazide Diuretic [EPC] or Tumor Necrosis Factor Blocker [EPC]. DRUG CLASS**\n",
    "    - `primarysource.reportercountry` : Country from which the report was submitted. *This one is in both country codes: https://datahub.io/core/country-list and in country names*\n",
    "    - `occurcountry` : **The name of the country where the event occurred. *This one is in country codes.* COUNTRY (FDA USES THIS IN EXAMPLE REPORTS)**\n",
    "    - `primarysourcecountry` : Country of the reporter of the event. *This one is also in country codes.*\n",
    "    - `primarysource.qualification` : Category of individual who submitted the report. Value is one of the following: 1. Physician, 2. Pharmacist, 3. Other health professional, 4. Lawyer, 5. Consumer or non-health professional"
   ]
  },
  {
   "cell_type": "markdown",
   "metadata": {},
   "source": [
    "###### Parsing the country codes:"
   ]
  },
  {
   "cell_type": "code",
   "execution_count": 907,
   "metadata": {},
   "outputs": [],
   "source": [
    "package = Package('https://datahub.io/core/country-list/datapackage.json')\n",
    "for resource in package.resources:\n",
    "    if resource.descriptor['datahub']['type'] == 'derived/csv':\n",
    "        break\n",
    "\n",
    "country_list = list(resource.read())\n",
    "[i.reverse() for i in country_list]\n",
    "country_name = dict(country_list)"
   ]
  },
  {
   "cell_type": "code",
   "execution_count": 908,
   "metadata": {},
   "outputs": [
    {
     "data": {
      "text/plain": [
       "'Turkey'"
      ]
     },
     "execution_count": 908,
     "metadata": {},
     "output_type": "execute_result"
    }
   ],
   "source": [
    "country_name['TR']"
   ]
  },
  {
   "cell_type": "markdown",
   "metadata": {},
   "source": [
    "## Connecting to the openFDA API"
   ]
  },
  {
   "cell_type": "markdown",
   "metadata": {},
   "source": [
    "###### OpenFDA API key: \n",
    "\"WCsZXD7fwzXRDV02maz9kKLAaRzs5J8kzHSSNIgw\"\n",
    "\n",
    "\"With an API key: 240 requests per minute, per key. 120000 requests per day, per key.\""
   ]
  },
  {
   "cell_type": "markdown",
   "metadata": {},
   "source": [
    "![title](images/api_call.png)"
   ]
  },
  {
   "cell_type": "code",
   "execution_count": 673,
   "metadata": {},
   "outputs": [],
   "source": [
    "api_key = \"WCsZXD7fwzXRDV02maz9kKLAaRzs5J8kzHSSNIgw\""
   ]
  },
  {
   "cell_type": "code",
   "execution_count": 674,
   "metadata": {},
   "outputs": [],
   "source": [
    "query_start = \"https://api.fda.gov/drug/event.json?api_key=\"+ api_key"
   ]
  },
  {
   "cell_type": "code",
   "execution_count": 671,
   "metadata": {},
   "outputs": [],
   "source": [
    "query_start = \"https://api.fda.gov/drug/event.json?api_key=WCsZXD7fwzXRDV02maz9kKLAaRzs5J8kzHSSNIgw\"\n"
   ]
  },
  {
   "cell_type": "code",
   "execution_count": 648,
   "metadata": {},
   "outputs": [
    {
     "name": "stdout",
     "output_type": "stream",
     "text": [
      "200\n"
     ]
    }
   ],
   "source": [
    "# Make a get request to get the latest position of the international space station from the opennotify api.\n",
    "response = requests.get(\"https://api.fda.gov/drug/event.json?api_key=\"+ api_key+\"&limit=1\")\n",
    "# Print the status code of the response.\n",
    "print(response.status_code)"
   ]
  },
  {
   "cell_type": "raw",
   "metadata": {
    "collapsed": true
   },
   "source": [
    "response.content"
   ]
  },
  {
   "cell_type": "code",
   "execution_count": 745,
   "metadata": {},
   "outputs": [
    {
     "name": "stdout",
     "output_type": "stream",
     "text": [
      "429\n"
     ]
    }
   ],
   "source": [
    "response = requests.get(\"https://api.fda.gov/drug/event.json?search=receivedate:[20040101+TO+20081231]&limit=1\")\n",
    "# Print the status code of the response.\n",
    "print(response.status_code)"
   ]
  },
  {
   "cell_type": "code",
   "execution_count": 746,
   "metadata": {},
   "outputs": [
    {
     "data": {
      "text/plain": [
       "b'{\\n  \"error\": {\\n    \"code\": \"OVER_RATE_LIMIT\",\\n    \"message\": \"You have exceeded your rate limit. Try again later or contact us at https://api.fda.gov:443/contact/ for assistance\"\\n  }\\n}'"
      ]
     },
     "execution_count": 746,
     "metadata": {},
     "output_type": "execute_result"
    }
   ],
   "source": [
    "response.content"
   ]
  },
  {
   "cell_type": "markdown",
   "metadata": {},
   "source": [
    "## Parsing & Formatting JSON"
   ]
  },
  {
   "cell_type": "code",
   "execution_count": 747,
   "metadata": {},
   "outputs": [
    {
     "name": "stdout",
     "output_type": "stream",
     "text": [
      "200\n"
     ]
    }
   ],
   "source": [
    "response = requests.get(query_start+\"&search=receivedate:[20040101+TO+20081231]&limit=1\")\n",
    "# Print the status code of the response.\n",
    "print(response.status_code)"
   ]
  },
  {
   "cell_type": "code",
   "execution_count": 748,
   "metadata": {},
   "outputs": [],
   "source": [
    "content = json.loads(response.content)"
   ]
  },
  {
   "cell_type": "code",
   "execution_count": 749,
   "metadata": {},
   "outputs": [],
   "source": [
    "results = pd.json_normalize(data = content['results'], record_path =['patient','reaction'])"
   ]
  },
  {
   "cell_type": "code",
   "execution_count": 750,
   "metadata": {},
   "outputs": [
    {
     "data": {
      "text/html": [
       "<div>\n",
       "<style scoped>\n",
       "    .dataframe tbody tr th:only-of-type {\n",
       "        vertical-align: middle;\n",
       "    }\n",
       "\n",
       "    .dataframe tbody tr th {\n",
       "        vertical-align: top;\n",
       "    }\n",
       "\n",
       "    .dataframe thead th {\n",
       "        text-align: right;\n",
       "    }\n",
       "</style>\n",
       "<table border=\"1\" class=\"dataframe\">\n",
       "  <thead>\n",
       "    <tr style=\"text-align: right;\">\n",
       "      <th></th>\n",
       "      <th>reactionmeddrapt</th>\n",
       "    </tr>\n",
       "  </thead>\n",
       "  <tbody>\n",
       "    <tr>\n",
       "      <th>0</th>\n",
       "      <td>ARTHRALGIA</td>\n",
       "    </tr>\n",
       "    <tr>\n",
       "      <th>1</th>\n",
       "      <td>OEDEMA PERIPHERAL</td>\n",
       "    </tr>\n",
       "    <tr>\n",
       "      <th>2</th>\n",
       "      <td>PURPURA</td>\n",
       "    </tr>\n",
       "  </tbody>\n",
       "</table>\n",
       "</div>"
      ],
      "text/plain": [
       "    reactionmeddrapt\n",
       "0         ARTHRALGIA\n",
       "1  OEDEMA PERIPHERAL\n",
       "2            PURPURA"
      ]
     },
     "execution_count": 750,
     "metadata": {},
     "output_type": "execute_result"
    }
   ],
   "source": [
    "results"
   ]
  },
  {
   "cell_type": "code",
   "execution_count": 740,
   "metadata": {},
   "outputs": [],
   "source": [
    "results = pd.json_normalize(data = content['results'], record_path =['patient','drug'])"
   ]
  },
  {
   "cell_type": "code",
   "execution_count": 741,
   "metadata": {},
   "outputs": [
    {
     "data": {
      "text/html": [
       "<div>\n",
       "<style scoped>\n",
       "    .dataframe tbody tr th:only-of-type {\n",
       "        vertical-align: middle;\n",
       "    }\n",
       "\n",
       "    .dataframe tbody tr th {\n",
       "        vertical-align: top;\n",
       "    }\n",
       "\n",
       "    .dataframe thead th {\n",
       "        text-align: right;\n",
       "    }\n",
       "</style>\n",
       "<table border=\"1\" class=\"dataframe\">\n",
       "  <thead>\n",
       "    <tr style=\"text-align: right;\">\n",
       "      <th></th>\n",
       "      <th>drugstartdateformat</th>\n",
       "      <th>drugindication</th>\n",
       "      <th>drugadministrationroute</th>\n",
       "      <th>drugtreatmentduration</th>\n",
       "      <th>drugcharacterization</th>\n",
       "      <th>drugstartdate</th>\n",
       "      <th>drugenddateformat</th>\n",
       "      <th>drugtreatmentdurationunit</th>\n",
       "      <th>drugdosagetext</th>\n",
       "      <th>drugauthorizationnumb</th>\n",
       "      <th>...</th>\n",
       "      <th>openfda.spl_set_id</th>\n",
       "      <th>openfda.brand_name</th>\n",
       "      <th>openfda.manufacturer_name</th>\n",
       "      <th>openfda.unii</th>\n",
       "      <th>openfda.rxcui</th>\n",
       "      <th>openfda.spl_id</th>\n",
       "      <th>openfda.substance_name</th>\n",
       "      <th>openfda.product_type</th>\n",
       "      <th>openfda.route</th>\n",
       "      <th>openfda.application_number</th>\n",
       "    </tr>\n",
       "  </thead>\n",
       "  <tbody>\n",
       "    <tr>\n",
       "      <th>0</th>\n",
       "      <td>102</td>\n",
       "      <td>PYELONEPHRITIS</td>\n",
       "      <td>048</td>\n",
       "      <td>4</td>\n",
       "      <td>1</td>\n",
       "      <td>20031227</td>\n",
       "      <td>102</td>\n",
       "      <td>804</td>\n",
       "      <td>ORAL</td>\n",
       "      <td>50621</td>\n",
       "      <td>...</td>\n",
       "      <td>NaN</td>\n",
       "      <td>NaN</td>\n",
       "      <td>NaN</td>\n",
       "      <td>NaN</td>\n",
       "      <td>NaN</td>\n",
       "      <td>NaN</td>\n",
       "      <td>NaN</td>\n",
       "      <td>NaN</td>\n",
       "      <td>NaN</td>\n",
       "      <td>NaN</td>\n",
       "    </tr>\n",
       "    <tr>\n",
       "      <th>1</th>\n",
       "      <td>NaN</td>\n",
       "      <td>NaN</td>\n",
       "      <td>NaN</td>\n",
       "      <td>NaN</td>\n",
       "      <td>2</td>\n",
       "      <td>NaN</td>\n",
       "      <td>NaN</td>\n",
       "      <td>NaN</td>\n",
       "      <td>NaN</td>\n",
       "      <td>NaN</td>\n",
       "      <td>...</td>\n",
       "      <td>NaN</td>\n",
       "      <td>NaN</td>\n",
       "      <td>NaN</td>\n",
       "      <td>NaN</td>\n",
       "      <td>NaN</td>\n",
       "      <td>NaN</td>\n",
       "      <td>NaN</td>\n",
       "      <td>NaN</td>\n",
       "      <td>NaN</td>\n",
       "      <td>NaN</td>\n",
       "    </tr>\n",
       "    <tr>\n",
       "      <th>2</th>\n",
       "      <td>NaN</td>\n",
       "      <td>NaN</td>\n",
       "      <td>NaN</td>\n",
       "      <td>NaN</td>\n",
       "      <td>2</td>\n",
       "      <td>NaN</td>\n",
       "      <td>NaN</td>\n",
       "      <td>NaN</td>\n",
       "      <td>NaN</td>\n",
       "      <td>NaN</td>\n",
       "      <td>...</td>\n",
       "      <td>NaN</td>\n",
       "      <td>NaN</td>\n",
       "      <td>NaN</td>\n",
       "      <td>NaN</td>\n",
       "      <td>NaN</td>\n",
       "      <td>NaN</td>\n",
       "      <td>NaN</td>\n",
       "      <td>NaN</td>\n",
       "      <td>NaN</td>\n",
       "      <td>NaN</td>\n",
       "    </tr>\n",
       "    <tr>\n",
       "      <th>3</th>\n",
       "      <td>NaN</td>\n",
       "      <td>NaN</td>\n",
       "      <td>NaN</td>\n",
       "      <td>NaN</td>\n",
       "      <td>2</td>\n",
       "      <td>NaN</td>\n",
       "      <td>NaN</td>\n",
       "      <td>NaN</td>\n",
       "      <td>NaN</td>\n",
       "      <td>NaN</td>\n",
       "      <td>...</td>\n",
       "      <td>[8db221b1-32f3-f6ca-e404-71f56a860d08, 1d19a6d...</td>\n",
       "      <td>[OFLOXACIN OTIC, OFLOXACIN, OCUFLOX]</td>\n",
       "      <td>[Akorn, Inc., Dr. Reddy's Laboratories Limited...</td>\n",
       "      <td>[A4P49JAZ9H]</td>\n",
       "      <td>[207202, 312075, 198048, 198049, 198050, 242446]</td>\n",
       "      <td>[2d731281-5564-43ff-9889-07931fb2c555, 3e4a3dc...</td>\n",
       "      <td>[OFLOXACIN]</td>\n",
       "      <td>[HUMAN PRESCRIPTION DRUG]</td>\n",
       "      <td>[AURICULAR (OTIC), ORAL, OPHTHALMIC]</td>\n",
       "      <td>[ANDA076407, NDA019921, ANDA091656, ANDA076128...</td>\n",
       "    </tr>\n",
       "  </tbody>\n",
       "</table>\n",
       "<p>4 rows × 25 columns</p>\n",
       "</div>"
      ],
      "text/plain": [
       "  drugstartdateformat  drugindication drugadministrationroute  \\\n",
       "0                 102  PYELONEPHRITIS                     048   \n",
       "1                 NaN             NaN                     NaN   \n",
       "2                 NaN             NaN                     NaN   \n",
       "3                 NaN             NaN                     NaN   \n",
       "\n",
       "  drugtreatmentduration drugcharacterization drugstartdate drugenddateformat  \\\n",
       "0                     4                    1      20031227               102   \n",
       "1                   NaN                    2           NaN               NaN   \n",
       "2                   NaN                    2           NaN               NaN   \n",
       "3                   NaN                    2           NaN               NaN   \n",
       "\n",
       "  drugtreatmentdurationunit drugdosagetext drugauthorizationnumb  ...  \\\n",
       "0                       804           ORAL                 50621  ...   \n",
       "1                       NaN            NaN                   NaN  ...   \n",
       "2                       NaN            NaN                   NaN  ...   \n",
       "3                       NaN            NaN                   NaN  ...   \n",
       "\n",
       "                                  openfda.spl_set_id  \\\n",
       "0                                                NaN   \n",
       "1                                                NaN   \n",
       "2                                                NaN   \n",
       "3  [8db221b1-32f3-f6ca-e404-71f56a860d08, 1d19a6d...   \n",
       "\n",
       "                     openfda.brand_name  \\\n",
       "0                                   NaN   \n",
       "1                                   NaN   \n",
       "2                                   NaN   \n",
       "3  [OFLOXACIN OTIC, OFLOXACIN, OCUFLOX]   \n",
       "\n",
       "                           openfda.manufacturer_name  openfda.unii  \\\n",
       "0                                                NaN           NaN   \n",
       "1                                                NaN           NaN   \n",
       "2                                                NaN           NaN   \n",
       "3  [Akorn, Inc., Dr. Reddy's Laboratories Limited...  [A4P49JAZ9H]   \n",
       "\n",
       "                                      openfda.rxcui  \\\n",
       "0                                               NaN   \n",
       "1                                               NaN   \n",
       "2                                               NaN   \n",
       "3  [207202, 312075, 198048, 198049, 198050, 242446]   \n",
       "\n",
       "                                      openfda.spl_id openfda.substance_name  \\\n",
       "0                                                NaN                    NaN   \n",
       "1                                                NaN                    NaN   \n",
       "2                                                NaN                    NaN   \n",
       "3  [2d731281-5564-43ff-9889-07931fb2c555, 3e4a3dc...            [OFLOXACIN]   \n",
       "\n",
       "        openfda.product_type                         openfda.route  \\\n",
       "0                        NaN                                   NaN   \n",
       "1                        NaN                                   NaN   \n",
       "2                        NaN                                   NaN   \n",
       "3  [HUMAN PRESCRIPTION DRUG]  [AURICULAR (OTIC), ORAL, OPHTHALMIC]   \n",
       "\n",
       "                          openfda.application_number  \n",
       "0                                                NaN  \n",
       "1                                                NaN  \n",
       "2                                                NaN  \n",
       "3  [ANDA076407, NDA019921, ANDA091656, ANDA076128...  \n",
       "\n",
       "[4 rows x 25 columns]"
      ]
     },
     "execution_count": 741,
     "metadata": {},
     "output_type": "execute_result"
    }
   ],
   "source": [
    "results"
   ]
  },
  {
   "cell_type": "code",
   "execution_count": 751,
   "metadata": {},
   "outputs": [],
   "source": [
    "#this one works for counts, but would not work well with search only\n",
    "def query(query_end):\n",
    "    query_start = \"https://api.fda.gov/drug/event.json?api_key=WCsZXD7fwzXRDV02maz9kKLAaRzs5J8kzHSSNIgw\"\n",
    "    response = requests.get(query_start+query_end)\n",
    "    content = json.loads(response.content)\n",
    "    # print(json.dumps(parsed, indent=2, sort_keys=True))\n",
    "    results = pd.json_normalize(content['results'])\n",
    "    return results"
   ]
  },
  {
   "cell_type": "code",
   "execution_count": 752,
   "metadata": {},
   "outputs": [
    {
     "data": {
      "text/html": [
       "<div>\n",
       "<style scoped>\n",
       "    .dataframe tbody tr th:only-of-type {\n",
       "        vertical-align: middle;\n",
       "    }\n",
       "\n",
       "    .dataframe tbody tr th {\n",
       "        vertical-align: top;\n",
       "    }\n",
       "\n",
       "    .dataframe thead th {\n",
       "        text-align: right;\n",
       "    }\n",
       "</style>\n",
       "<table border=\"1\" class=\"dataframe\">\n",
       "  <thead>\n",
       "    <tr style=\"text-align: right;\">\n",
       "      <th></th>\n",
       "      <th>reporttype</th>\n",
       "      <th>safetyreportversion</th>\n",
       "      <th>receivedateformat</th>\n",
       "      <th>transmissiondateformat</th>\n",
       "      <th>fulfillexpeditecriteria</th>\n",
       "      <th>safetyreportid</th>\n",
       "      <th>serious</th>\n",
       "      <th>receiptdate</th>\n",
       "      <th>receiptdateformat</th>\n",
       "      <th>seriousnessdeath</th>\n",
       "      <th>...</th>\n",
       "      <th>patient.patientonsetageunit</th>\n",
       "      <th>patient.patientweight</th>\n",
       "      <th>patient.patientsex</th>\n",
       "      <th>patient.drug</th>\n",
       "      <th>reportduplicate.duplicatesource</th>\n",
       "      <th>reportduplicate.duplicatenumb</th>\n",
       "      <th>receiver.receivertype</th>\n",
       "      <th>receiver.receiverorganization</th>\n",
       "      <th>sender.senderorganization</th>\n",
       "      <th>sender.sendertype</th>\n",
       "    </tr>\n",
       "  </thead>\n",
       "  <tbody>\n",
       "    <tr>\n",
       "      <th>0</th>\n",
       "      <td>2</td>\n",
       "      <td>7</td>\n",
       "      <td>102</td>\n",
       "      <td>102</td>\n",
       "      <td>1</td>\n",
       "      <td>10005435</td>\n",
       "      <td>1</td>\n",
       "      <td>20140509</td>\n",
       "      <td>102</td>\n",
       "      <td>1</td>\n",
       "      <td>...</td>\n",
       "      <td>801</td>\n",
       "      <td>68.8</td>\n",
       "      <td>2</td>\n",
       "      <td>[{'drugstartdateformat': '102', 'drugindicatio...</td>\n",
       "      <td>ROCHE</td>\n",
       "      <td>CA-ROCHE-1296647</td>\n",
       "      <td>6</td>\n",
       "      <td>FDA</td>\n",
       "      <td>FDA-Public Use</td>\n",
       "      <td>2</td>\n",
       "    </tr>\n",
       "  </tbody>\n",
       "</table>\n",
       "<p>1 rows × 31 columns</p>\n",
       "</div>"
      ],
      "text/plain": [
       "  reporttype safetyreportversion receivedateformat transmissiondateformat  \\\n",
       "0          2                   7               102                    102   \n",
       "\n",
       "  fulfillexpeditecriteria safetyreportid serious receiptdate  \\\n",
       "0                       1       10005435       1    20140509   \n",
       "\n",
       "  receiptdateformat seriousnessdeath  ... patient.patientonsetageunit  \\\n",
       "0               102                1  ...                         801   \n",
       "\n",
       "  patient.patientweight patient.patientsex  \\\n",
       "0                  68.8                  2   \n",
       "\n",
       "                                        patient.drug  \\\n",
       "0  [{'drugstartdateformat': '102', 'drugindicatio...   \n",
       "\n",
       "  reportduplicate.duplicatesource reportduplicate.duplicatenumb  \\\n",
       "0                           ROCHE              CA-ROCHE-1296647   \n",
       "\n",
       "  receiver.receivertype receiver.receiverorganization  \\\n",
       "0                     6                           FDA   \n",
       "\n",
       "  sender.senderorganization sender.sendertype  \n",
       "0            FDA-Public Use                 2  \n",
       "\n",
       "[1 rows x 31 columns]"
      ]
     },
     "execution_count": 752,
     "metadata": {},
     "output_type": "execute_result"
    }
   ],
   "source": [
    "results = query(\"&search=occurcountry.exact:\\\"CA\\\"+AND+patient.reaction.reactionmeddrapt.exact:\\\"DRUG INEFFECTIVE\\\"\")\n",
    "results.head(10)"
   ]
  },
  {
   "cell_type": "code",
   "execution_count": 753,
   "metadata": {},
   "outputs": [
    {
     "data": {
      "text/html": [
       "<div>\n",
       "<style scoped>\n",
       "    .dataframe tbody tr th:only-of-type {\n",
       "        vertical-align: middle;\n",
       "    }\n",
       "\n",
       "    .dataframe tbody tr th {\n",
       "        vertical-align: top;\n",
       "    }\n",
       "\n",
       "    .dataframe thead th {\n",
       "        text-align: right;\n",
       "    }\n",
       "</style>\n",
       "<table border=\"1\" class=\"dataframe\">\n",
       "  <thead>\n",
       "    <tr style=\"text-align: right;\">\n",
       "      <th></th>\n",
       "      <th>term</th>\n",
       "      <th>count</th>\n",
       "    </tr>\n",
       "  </thead>\n",
       "  <tbody>\n",
       "    <tr>\n",
       "      <th>0</th>\n",
       "      <td>CA</td>\n",
       "      <td>37725</td>\n",
       "    </tr>\n",
       "  </tbody>\n",
       "</table>\n",
       "</div>"
      ],
      "text/plain": [
       "  term  count\n",
       "0   CA  37725"
      ]
     },
     "execution_count": 753,
     "metadata": {},
     "output_type": "execute_result"
    }
   ],
   "source": [
    "results = query(\"&search=occurcountry.exact:\\\"CA\\\"+AND+patient.reaction.reactionmeddrapt.exact:\\\"DRUG INEFFECTIVE\\\"&count=occurcountry.exact\")\n",
    "results.head(10)"
   ]
  },
  {
   "cell_type": "code",
   "execution_count": 946,
   "metadata": {},
   "outputs": [],
   "source": [
    "query_start = \"https://api.fda.gov/drug/event.json?api_key=WCsZXD7fwzXRDV02maz9kKLAaRzs5J8kzHSSNIgw\"\n",
    "response = requests.get(query_start+'&count=patient.drug.openfda.brand_name.exact&limit=1100')\n",
    "content = json.loads(response.content)"
   ]
  },
  {
   "cell_type": "code",
   "execution_count": 949,
   "metadata": {},
   "outputs": [
    {
     "data": {
      "text/plain": [
       "{'error': {'code': 'BAD_REQUEST',\n",
       "  'message': 'Limit cannot exceed 1000 results for count requests.'}}"
      ]
     },
     "execution_count": 949,
     "metadata": {},
     "output_type": "execute_result"
    }
   ],
   "source": [
    "content"
   ]
  },
  {
   "cell_type": "code",
   "execution_count": 950,
   "metadata": {},
   "outputs": [],
   "source": [
    "query_start = \"https://api.fda.gov/drug/event.json?api_key=WCsZXD7fwzXRDV02maz9kKLAaRzs5J8kzHSSNIgw\"\n",
    "response = requests.get(query_start+'&count=patient.drug.openfda.brand_name.exact&skip=1100')\n",
    "content = json.loads(response.content)"
   ]
  },
  {
   "cell_type": "code",
   "execution_count": 951,
   "metadata": {},
   "outputs": [
    {
     "data": {
      "text/plain": [
       "{'error': {'code': 'BAD_REQUEST',\n",
       "  'message': 'Should not use skip param when using count.'}}"
      ]
     },
     "execution_count": 951,
     "metadata": {},
     "output_type": "execute_result"
    }
   ],
   "source": [
    "content"
   ]
  },
  {
   "cell_type": "markdown",
   "metadata": {},
   "source": [
    "## Exploration"
   ]
  },
  {
   "cell_type": "markdown",
   "metadata": {},
   "source": [
    "###### Let's see how many times AstraZeneca pops up:\n",
    "\n",
    "relevant field:\n",
    "- `patient.drug.openfda.manufacturer_name` : <mark>Name of manufacturer or company that makes this drug product, corresponding to the labeler code segment of the NDC **DRUG MANUFACTURER**.</mark>"
   ]
  },
  {
   "cell_type": "code",
   "execution_count": 952,
   "metadata": {},
   "outputs": [],
   "source": [
    "top_manufacturers = query(\"&count=patient.drug.openfda.manufacturer_name.exact&limit=500\")"
   ]
  },
  {
   "cell_type": "code",
   "execution_count": 953,
   "metadata": {},
   "outputs": [
    {
     "data": {
      "text/html": [
       "<div>\n",
       "<style scoped>\n",
       "    .dataframe tbody tr th:only-of-type {\n",
       "        vertical-align: middle;\n",
       "    }\n",
       "\n",
       "    .dataframe tbody tr th {\n",
       "        vertical-align: top;\n",
       "    }\n",
       "\n",
       "    .dataframe thead th {\n",
       "        text-align: right;\n",
       "    }\n",
       "</style>\n",
       "<table border=\"1\" class=\"dataframe\">\n",
       "  <thead>\n",
       "    <tr style=\"text-align: right;\">\n",
       "      <th></th>\n",
       "      <th>term</th>\n",
       "      <th>count</th>\n",
       "    </tr>\n",
       "  </thead>\n",
       "  <tbody>\n",
       "    <tr>\n",
       "      <th>0</th>\n",
       "      <td>Mylan Pharmaceuticals Inc.</td>\n",
       "      <td>2143943</td>\n",
       "    </tr>\n",
       "    <tr>\n",
       "      <th>1</th>\n",
       "      <td>Aurobindo Pharma Limited</td>\n",
       "      <td>1933948</td>\n",
       "    </tr>\n",
       "    <tr>\n",
       "      <th>2</th>\n",
       "      <td>Teva Pharmaceuticals USA, Inc.</td>\n",
       "      <td>1749269</td>\n",
       "    </tr>\n",
       "    <tr>\n",
       "      <th>3</th>\n",
       "      <td>Actavis Pharma, Inc.</td>\n",
       "      <td>1736623</td>\n",
       "    </tr>\n",
       "    <tr>\n",
       "      <th>4</th>\n",
       "      <td>Cadila Healthcare Limited</td>\n",
       "      <td>1723934</td>\n",
       "    </tr>\n",
       "    <tr>\n",
       "      <th>5</th>\n",
       "      <td>Amneal Pharmaceuticals LLC</td>\n",
       "      <td>1671581</td>\n",
       "    </tr>\n",
       "    <tr>\n",
       "      <th>6</th>\n",
       "      <td>Zydus Pharmaceuticals (USA) Inc.</td>\n",
       "      <td>1649009</td>\n",
       "    </tr>\n",
       "    <tr>\n",
       "      <th>7</th>\n",
       "      <td>Sun Pharmaceutical Industries, Inc.</td>\n",
       "      <td>1545861</td>\n",
       "    </tr>\n",
       "    <tr>\n",
       "      <th>8</th>\n",
       "      <td>Sandoz Inc</td>\n",
       "      <td>1231388</td>\n",
       "    </tr>\n",
       "    <tr>\n",
       "      <th>9</th>\n",
       "      <td>West-Ward Pharmaceuticals Corp.</td>\n",
       "      <td>1201469</td>\n",
       "    </tr>\n",
       "  </tbody>\n",
       "</table>\n",
       "</div>"
      ],
      "text/plain": [
       "                                  term    count\n",
       "0           Mylan Pharmaceuticals Inc.  2143943\n",
       "1             Aurobindo Pharma Limited  1933948\n",
       "2       Teva Pharmaceuticals USA, Inc.  1749269\n",
       "3                 Actavis Pharma, Inc.  1736623\n",
       "4            Cadila Healthcare Limited  1723934\n",
       "5           Amneal Pharmaceuticals LLC  1671581\n",
       "6     Zydus Pharmaceuticals (USA) Inc.  1649009\n",
       "7  Sun Pharmaceutical Industries, Inc.  1545861\n",
       "8                           Sandoz Inc  1231388\n",
       "9      West-Ward Pharmaceuticals Corp.  1201469"
      ]
     },
     "execution_count": 953,
     "metadata": {},
     "output_type": "execute_result"
    }
   ],
   "source": [
    "top_manufacturers.head(10)"
   ]
  },
  {
   "cell_type": "code",
   "execution_count": 960,
   "metadata": {},
   "outputs": [
    {
     "data": {
      "text/html": [
       "<div>\n",
       "<style scoped>\n",
       "    .dataframe tbody tr th:only-of-type {\n",
       "        vertical-align: middle;\n",
       "    }\n",
       "\n",
       "    .dataframe tbody tr th {\n",
       "        vertical-align: top;\n",
       "    }\n",
       "\n",
       "    .dataframe thead th {\n",
       "        text-align: right;\n",
       "    }\n",
       "</style>\n",
       "<table border=\"1\" class=\"dataframe\">\n",
       "  <thead>\n",
       "    <tr style=\"text-align: right;\">\n",
       "      <th></th>\n",
       "      <th>term</th>\n",
       "      <th>count</th>\n",
       "    </tr>\n",
       "  </thead>\n",
       "  <tbody>\n",
       "    <tr>\n",
       "      <th>146</th>\n",
       "      <td>AstraZeneca Pharmaceuticals LP</td>\n",
       "      <td>501107</td>\n",
       "    </tr>\n",
       "  </tbody>\n",
       "</table>\n",
       "</div>"
      ],
      "text/plain": [
       "                               term   count\n",
       "146  AstraZeneca Pharmaceuticals LP  501107"
      ]
     },
     "execution_count": 960,
     "metadata": {},
     "output_type": "execute_result"
    }
   ],
   "source": [
    "top_manufacturers[top_manufacturers.term.str.contains('AstraZeneca')]"
   ]
  },
  {
   "cell_type": "markdown",
   "metadata": {},
   "source": [
    "**AstraZeneca is listed as a drug manufacturer in ~500K reports, and is not among the top 100 manufacturers in terms of frequency. (146th) Need to weigh this order by the size of the company somehow: e.g. volume of sales, revenue, income, etc.**"
   ]
  },
  {
   "cell_type": "markdown",
   "metadata": {},
   "source": [
    "## Answering Specific Questions from the Case Study"
   ]
  },
  {
   "cell_type": "markdown",
   "metadata": {},
   "source": [
    "###### 1. Are different adverse events reported in different countries? "
   ]
  },
  {
   "cell_type": "markdown",
   "metadata": {},
   "source": [
    "relevant fields:\n",
    "- `patient.reaction.reactionmeddrapt` : **Patient reaction, as a MedDRA term. Note that these terms are encoded in British English. For instance, diarrhea is spelled diarrohea. MedDRA is a standardized medical terminology. DRUG REACTION / ADVERSE EVENT TYPE**\n",
    "- `occurcountry` : **The name of the country where the event occurred. *This one is in country codes.* COUNTRY (FDA USES THIS IN EXAMPLE REPORTS)**\n"
   ]
  },
  {
   "cell_type": "markdown",
   "metadata": {},
   "source": [
    "potential ways of answering the question:\n",
    "- pick top X countries, and report top X adverse events for each\n",
    "- construct a matrix of top X countries vs top Y adverse events, and visualize how similar countries are in this hyperspace, (maybe PCA before that), do clustering analysis, scrutinize outliers"
   ]
  },
  {
   "cell_type": "code",
   "execution_count": 817,
   "metadata": {},
   "outputs": [
    {
     "data": {
      "text/html": [
       "<div>\n",
       "<style scoped>\n",
       "    .dataframe tbody tr th:only-of-type {\n",
       "        vertical-align: middle;\n",
       "    }\n",
       "\n",
       "    .dataframe tbody tr th {\n",
       "        vertical-align: top;\n",
       "    }\n",
       "\n",
       "    .dataframe thead th {\n",
       "        text-align: right;\n",
       "    }\n",
       "</style>\n",
       "<table border=\"1\" class=\"dataframe\">\n",
       "  <thead>\n",
       "    <tr style=\"text-align: right;\">\n",
       "      <th></th>\n",
       "      <th>term</th>\n",
       "      <th>count</th>\n",
       "    </tr>\n",
       "  </thead>\n",
       "  <tbody>\n",
       "    <tr>\n",
       "      <th>0</th>\n",
       "      <td>US</td>\n",
       "      <td>6136862</td>\n",
       "    </tr>\n",
       "    <tr>\n",
       "      <th>1</th>\n",
       "      <td>GB</td>\n",
       "      <td>298758</td>\n",
       "    </tr>\n",
       "    <tr>\n",
       "      <th>2</th>\n",
       "      <td>CA</td>\n",
       "      <td>260177</td>\n",
       "    </tr>\n",
       "    <tr>\n",
       "      <th>3</th>\n",
       "      <td>JP</td>\n",
       "      <td>259359</td>\n",
       "    </tr>\n",
       "    <tr>\n",
       "      <th>4</th>\n",
       "      <td>FR</td>\n",
       "      <td>250505</td>\n",
       "    </tr>\n",
       "    <tr>\n",
       "      <th>5</th>\n",
       "      <td>DE</td>\n",
       "      <td>190403</td>\n",
       "    </tr>\n",
       "    <tr>\n",
       "      <th>6</th>\n",
       "      <td>IT</td>\n",
       "      <td>138001</td>\n",
       "    </tr>\n",
       "    <tr>\n",
       "      <th>7</th>\n",
       "      <td>BR</td>\n",
       "      <td>92823</td>\n",
       "    </tr>\n",
       "    <tr>\n",
       "      <th>8</th>\n",
       "      <td>ES</td>\n",
       "      <td>71442</td>\n",
       "    </tr>\n",
       "    <tr>\n",
       "      <th>9</th>\n",
       "      <td>AU</td>\n",
       "      <td>65305</td>\n",
       "    </tr>\n",
       "  </tbody>\n",
       "</table>\n",
       "</div>"
      ],
      "text/plain": [
       "  term    count\n",
       "0   US  6136862\n",
       "1   GB   298758\n",
       "2   CA   260177\n",
       "3   JP   259359\n",
       "4   FR   250505\n",
       "5   DE   190403\n",
       "6   IT   138001\n",
       "7   BR    92823\n",
       "8   ES    71442\n",
       "9   AU    65305"
      ]
     },
     "execution_count": 817,
     "metadata": {},
     "output_type": "execute_result"
    }
   ],
   "source": [
    "top_countries = query(\"&count=occurcountry.exact\")\n",
    "top_countries.head(10)"
   ]
  },
  {
   "cell_type": "code",
   "execution_count": 964,
   "metadata": {},
   "outputs": [
    {
     "data": {
      "text/html": [
       "<div>\n",
       "<style scoped>\n",
       "    .dataframe tbody tr th:only-of-type {\n",
       "        vertical-align: middle;\n",
       "    }\n",
       "\n",
       "    .dataframe tbody tr th {\n",
       "        vertical-align: top;\n",
       "    }\n",
       "\n",
       "    .dataframe thead th {\n",
       "        text-align: right;\n",
       "    }\n",
       "</style>\n",
       "<table border=\"1\" class=\"dataframe\">\n",
       "  <thead>\n",
       "    <tr style=\"text-align: right;\">\n",
       "      <th></th>\n",
       "      <th>term</th>\n",
       "      <th>count</th>\n",
       "    </tr>\n",
       "  </thead>\n",
       "  <tbody>\n",
       "    <tr>\n",
       "      <th>0</th>\n",
       "      <td>DRUG INEFFECTIVE</td>\n",
       "      <td>733191</td>\n",
       "    </tr>\n",
       "    <tr>\n",
       "      <th>1</th>\n",
       "      <td>NAUSEA</td>\n",
       "      <td>485098</td>\n",
       "    </tr>\n",
       "    <tr>\n",
       "      <th>2</th>\n",
       "      <td>DEATH</td>\n",
       "      <td>474541</td>\n",
       "    </tr>\n",
       "    <tr>\n",
       "      <th>3</th>\n",
       "      <td>FATIGUE</td>\n",
       "      <td>439328</td>\n",
       "    </tr>\n",
       "    <tr>\n",
       "      <th>4</th>\n",
       "      <td>HEADACHE</td>\n",
       "      <td>388310</td>\n",
       "    </tr>\n",
       "    <tr>\n",
       "      <th>5</th>\n",
       "      <td>DIARRHOEA</td>\n",
       "      <td>359872</td>\n",
       "    </tr>\n",
       "    <tr>\n",
       "      <th>6</th>\n",
       "      <td>DYSPNOEA</td>\n",
       "      <td>344540</td>\n",
       "    </tr>\n",
       "    <tr>\n",
       "      <th>7</th>\n",
       "      <td>PAIN</td>\n",
       "      <td>326354</td>\n",
       "    </tr>\n",
       "    <tr>\n",
       "      <th>8</th>\n",
       "      <td>OFF LABEL USE</td>\n",
       "      <td>324957</td>\n",
       "    </tr>\n",
       "    <tr>\n",
       "      <th>9</th>\n",
       "      <td>DIZZINESS</td>\n",
       "      <td>313617</td>\n",
       "    </tr>\n",
       "  </tbody>\n",
       "</table>\n",
       "</div>"
      ],
      "text/plain": [
       "               term   count\n",
       "0  DRUG INEFFECTIVE  733191\n",
       "1            NAUSEA  485098\n",
       "2             DEATH  474541\n",
       "3           FATIGUE  439328\n",
       "4          HEADACHE  388310\n",
       "5         DIARRHOEA  359872\n",
       "6          DYSPNOEA  344540\n",
       "7              PAIN  326354\n",
       "8     OFF LABEL USE  324957\n",
       "9         DIZZINESS  313617"
      ]
     },
     "execution_count": 964,
     "metadata": {},
     "output_type": "execute_result"
    }
   ],
   "source": [
    "top_reactions = query(\"&count=patient.reaction.reactionmeddrapt.exact\")\n",
    "top_reactions.head(10)"
   ]
  },
  {
   "cell_type": "code",
   "execution_count": null,
   "metadata": {},
   "outputs": [],
   "source": [
    "# results = query(\"&search=occurcountry:\\\"US\\\"&count=patient.reaction.reactionmeddrapt.exact\")\n",
    "# results.head(10)"
   ]
  },
  {
   "cell_type": "code",
   "execution_count": null,
   "metadata": {},
   "outputs": [],
   "source": [
    "# results = query(\"&search=occurcountry:\\\"CA\\\"&count=patient.reaction.reactionmeddrapt.exact\")\n",
    "# results.head(10)"
   ]
  },
  {
   "cell_type": "code",
   "execution_count": null,
   "metadata": {},
   "outputs": [],
   "source": [
    "# results = query(\"&search=occurcountry.exact:\\\"US\\\"+\\\"CA\\\"&count=patient.reaction.reactionmeddrapt.exact\")\n",
    "# results.head(10)"
   ]
  },
  {
   "cell_type": "markdown",
   "metadata": {},
   "source": [
    "Canada & Drug Ineffective"
   ]
  },
  {
   "cell_type": "code",
   "execution_count": 368,
   "metadata": {},
   "outputs": [
    {
     "data": {
      "text/html": [
       "<div>\n",
       "<style scoped>\n",
       "    .dataframe tbody tr th:only-of-type {\n",
       "        vertical-align: middle;\n",
       "    }\n",
       "\n",
       "    .dataframe tbody tr th {\n",
       "        vertical-align: top;\n",
       "    }\n",
       "\n",
       "    .dataframe thead th {\n",
       "        text-align: right;\n",
       "    }\n",
       "</style>\n",
       "<table border=\"1\" class=\"dataframe\">\n",
       "  <thead>\n",
       "    <tr style=\"text-align: right;\">\n",
       "      <th></th>\n",
       "      <th>term</th>\n",
       "      <th>count</th>\n",
       "    </tr>\n",
       "  </thead>\n",
       "  <tbody>\n",
       "    <tr>\n",
       "      <th>0</th>\n",
       "      <td>CA</td>\n",
       "      <td>37725</td>\n",
       "    </tr>\n",
       "  </tbody>\n",
       "</table>\n",
       "</div>"
      ],
      "text/plain": [
       "  term  count\n",
       "0   CA  37725"
      ]
     },
     "execution_count": 368,
     "metadata": {},
     "output_type": "execute_result"
    }
   ],
   "source": [
    "results = query(\"&search=occurcountry.exact:\\\"CA\\\"+AND+patient.reaction.reactionmeddrapt.exact:\\\"DRUG INEFFECTIVE\\\"&count=occurcountry.exact\")\n",
    "results.head(10)"
   ]
  },
  {
   "cell_type": "markdown",
   "metadata": {},
   "source": [
    "Do the same for top 10 countries and top 10 reactions"
   ]
  },
  {
   "cell_type": "code",
   "execution_count": 195,
   "metadata": {},
   "outputs": [
    {
     "data": {
      "text/plain": [
       "['US', 'GB', 'CA', 'JP', 'FR', 'DE', 'IT', 'BR', 'ES', 'AU']"
      ]
     },
     "execution_count": 195,
     "metadata": {},
     "output_type": "execute_result"
    }
   ],
   "source": [
    "list(top_countries.term)[:10]"
   ]
  },
  {
   "cell_type": "code",
   "execution_count": 822,
   "metadata": {},
   "outputs": [
    {
     "data": {
      "text/plain": [
       "['IL', 'AT', 'DK', 'IE', 'RU']"
      ]
     },
     "execution_count": 822,
     "metadata": {},
     "output_type": "execute_result"
    }
   ],
   "source": [
    "list(top_countries.term)[25:30]"
   ]
  },
  {
   "cell_type": "markdown",
   "metadata": {},
   "source": [
    "**If I contstrain my analysis to top 100 reactions, what will I miss from each country? (top 25 reactions in each country scrutinized)**"
   ]
  },
  {
   "cell_type": "code",
   "execution_count": 821,
   "metadata": {
    "collapsed": true
   },
   "outputs": [
    {
     "name": "stdout",
     "output_type": "stream",
     "text": [
      "GB LOWER RESPIRATORY TRACT INFECTION 9592\n",
      "CA RHEUMATOID ARTHRITIS 15270\n",
      "CA DRUG INTOLERANCE 9139\n",
      "CA ASTHMA 8819\n",
      "CA JOINT SWELLING 8432\n",
      "JP INTERSTITIAL LUNG DISEASE 8714\n",
      "JP PLATELET COUNT DECREASED 7650\n",
      "JP MALIGNANT NEOPLASM PROGRESSION 6974\n",
      "JP RENAL IMPAIRMENT 6706\n",
      "JP HEPATIC FUNCTION ABNORMAL 6672\n",
      "JP CEREBRAL INFARCTION 5506\n",
      "JP WHITE BLOOD CELL COUNT DECREASED 4839\n",
      "JP CARDIAC FAILURE 4506\n",
      "JP NEUTROPHIL COUNT DECREASED 4113\n",
      "JP FEBRILE NEUTROPENIA 3615\n",
      "JP LIVER DISORDER 3498\n",
      "JP ALTERED STATE OF CONSCIOUSNESS 3243\n",
      "FR HEPATOCELLULAR INJURY 7267\n",
      "FR COMA 4846\n",
      "FR VERTIGO 4786\n",
      "DE GENERAL PHYSICAL HEALTH DETERIORATION 7007\n",
      "DE FOETAL EXPOSURE DURING PREGNANCY 5862\n",
      "IT DRUG ABUSE 9109\n",
      "IT SOPOR 7800\n",
      "IT INTENTIONAL SELF-INJURY 3548\n",
      "IT HYPOGLYCAEMIA 2558\n",
      "ES HYPONATRAEMIA 1050\n",
      "AU DISEASE PROGRESSION 1486\n",
      "AU MALIGNANT NEOPLASM PROGRESSION 1033\n",
      "AU LOWER RESPIRATORY TRACT INFECTION 821\n",
      "CN BONE MARROW FAILURE 2629\n",
      "CN HEPATIC FUNCTION ABNORMAL 1546\n",
      "CN CHEST DISCOMFORT 1506\n",
      "CN WHITE BLOOD CELL COUNT DECREASED 1474\n",
      "CN DRUG RESISTANCE 1351\n",
      "CN PLATELET COUNT DECREASED 1116\n",
      "CN MALIGNANT NEOPLASM PROGRESSION 1096\n",
      "CN LUNG INFECTION 994\n",
      "CN RENAL IMPAIRMENT 909\n",
      "NL TERMINAL STATE 1402\n",
      "NL INVESTIGATION 1004\n",
      "CO CARDIO-RESPIRATORY ARREST 1007\n",
      "CO GENERAL PHYSICAL HEALTH DETERIORATION 810\n",
      "IN PERITONITIS 644\n",
      "IN CARDIAC ARREST 464\n",
      "IN MALIGNANT NEOPLASM PROGRESSION 453\n",
      "IN SEIZURE 421\n",
      "IN FOETAL EXPOSURE DURING PREGNANCY 407\n",
      "SE INTENTIONAL OVERDOSE 4511\n",
      "SE INTENTIONAL SELF-INJURY 4156\n",
      "SE DEPRESSED LEVEL OF CONSCIOUSNESS 1113\n",
      "SE TACHYCARDIA 978\n",
      "SE SUICIDAL IDEATION 517\n",
      "SE HALLUCINATION 499\n",
      "AR DIABETES MELLITUS 505\n",
      "AR RHEUMATOID ARTHRITIS 503\n",
      "AR GENERAL PHYSICAL HEALTH DETERIORATION 433\n",
      "TR FOETAL EXPOSURE DURING PREGNANCY 740\n",
      "TR SUICIDE ATTEMPT 520\n",
      "TR EXPOSURE DURING PREGNANCY 501\n",
      "TR CARDIAC ARREST 359\n",
      "TR DISEASE PROGRESSION 359\n",
      "TR INTENTIONAL OVERDOSE 352\n",
      "CH EXPOSURE DURING PREGNANCY 583\n",
      "CH FOETAL EXPOSURE DURING PREGNANCY 481\n",
      "CH GENERAL PHYSICAL HEALTH DETERIORATION 394\n",
      "CH DISEASE PROGRESSION 386\n",
      "PL LEUKOPENIA 479\n",
      "PL DISEASE PROGRESSION 460\n",
      "PL MALIGNANT NEOPLASM PROGRESSION 391\n",
      "BE GENERAL PHYSICAL HEALTH DETERIORATION 553\n",
      "BE MALIGNANT NEOPLASM PROGRESSION 417\n",
      "BE OSTEONECROSIS OF JAW 413\n",
      "PT ANGIOEDEMA 474\n",
      "PT DRUG REACTION WITH EOSINOPHILIA AND SYSTEMIC SYMPTOMS 396\n",
      "KR FEBRILE NEUTROPENIA 532\n",
      "KR MALIGNANT NEOPLASM PROGRESSION 389\n",
      "KR DRUG REACTION WITH EOSINOPHILIA AND SYSTEMIC SYMPTOMS 308\n",
      "KR DISEASE PROGRESSION 294\n",
      "KR ADVERSE EVENT 256\n",
      "GR RESPIRATORY TRACT INFECTION 318\n",
      "GR DISEASE PROGRESSION 256\n",
      "GR MALIGNANT NEOPLASM PROGRESSION 249\n",
      "GR HAEMATOCRIT DECREASED 247\n",
      "TW SEPTIC SHOCK 270\n",
      "TW RESPIRATORY FAILURE 240\n",
      "TW PLEURAL EFFUSION 236\n",
      "IL MALIGNANT NEOPLASM PROGRESSION 314\n",
      "IL DISEASE PROGRESSION 276\n",
      "AT MALIGNANT NEOPLASM PROGRESSION 440\n",
      "AT GENERAL PHYSICAL HEALTH DETERIORATION 425\n",
      "AT CARDIAC FAILURE 255\n",
      "DK OSTEONECROSIS OF JAW 738\n",
      "DK FOETAL EXPOSURE DURING PREGNANCY 597\n",
      "DK ABORTION SPONTANEOUS 331\n",
      "DK SUICIDE ATTEMPT 328\n",
      "IE LOWER RESPIRATORY TRACT INFECTION 752\n",
      "RU BLOOD PRESSURE DECREASED 238\n",
      "RU DISEASE PROGRESSION 216\n",
      "ZA FOETAL EXPOSURE DURING PREGNANCY 377\n",
      "ZA MATERNAL EXPOSURE DURING PREGNANCY 281\n",
      "ZA CARDIAC FAILURE 250\n",
      "ZA EXPOSURE DURING PREGNANCY 237\n",
      "ZA ABORTION SPONTANEOUS 179\n",
      "VE CARDIAC DISORDER 565\n",
      "VE RESPIRATORY ARREST 409\n",
      "VE TUBERCULIN TEST POSITIVE 306\n",
      "VE INFARCTION 276\n",
      "VE CARDIAC FAILURE 208\n",
      "VE ADVERSE EVENT 200\n",
      "VE SEIZURE 172\n",
      "VE CARDIOVASCULAR DISORDER 153\n",
      "VE CARDIO-RESPIRATORY ARREST 139\n",
      "VE GENERAL PHYSICAL HEALTH DETERIORATION 120\n",
      "CZ MALIGNANT NEOPLASM PROGRESSION 396\n",
      "CZ DISEASE PROGRESSION 271\n",
      "NO FEBRILE NEUTROPENIA 233\n",
      "NO FOETAL EXPOSURE DURING PREGNANCY 217\n",
      "NO ABORTION SPONTANEOUS 212\n",
      "NO MATERNAL EXPOSURE DURING PREGNANCY 192\n",
      "NO EXPOSURE VIA FATHER 190\n",
      "PR BRONCHITIS 199\n",
      "PR ASTHMA 190\n",
      "PR BURNING SENSATION 187\n",
      "RO CARDIO-RESPIRATORY ARREST 245\n",
      "FI C-REACTIVE PROTEIN INCREASED 237\n",
      "HU MALIGNANT NEOPLASM PROGRESSION 300\n",
      "HU CARDIAC FAILURE 242\n",
      "HU RENAL IMPAIRMENT 175\n",
      "NZ PLASMA CELL MYELOMA 158\n",
      "NZ FOETAL EXPOSURE DURING PREGNANCY 105\n",
      "NZ WHITE BLOOD CELL COUNT INCREASED 99\n",
      "NZ NEUTROPHIL COUNT INCREASED 91\n",
      "SG ANGIOEDEMA 525\n",
      "SG PERIORBITAL OEDEMA 266\n",
      "SG EYE SWELLING 234\n",
      "SG FACE OEDEMA 85\n",
      "SG RASH MACULO-PAPULAR 73\n",
      "SG DRUG REACTION WITH EOSINOPHILIA AND SYSTEMIC SYMPTOMS 70\n",
      "SG DISEASE PROGRESSION 64\n",
      "SG INTENTIONAL OVERDOSE 58\n",
      "HR SUICIDE ATTEMPT 1005\n",
      "HR INTENTIONAL OVERDOSE 830\n",
      "HR FEBRILE NEUTROPENIA 176\n",
      "HR TACHYCARDIA 154\n",
      "HR MALIGNANT NEOPLASM PROGRESSION 149\n",
      "CL GENERAL PHYSICAL HEALTH DETERIORATION 101\n",
      "TH DRUG REACTION WITH EOSINOPHILIA AND SYSTEMIC SYMPTOMS 179\n",
      "TH CARDIOVASCULAR DISORDER 168\n",
      "TH MALIGNANT NEOPLASM PROGRESSION 162\n",
      "TH FEBRILE NEUTROPENIA 110\n",
      "TH CARDIAC FAILURE 105\n",
      "TH CARDIAC ARREST 86\n",
      "TH HEPATITIS 77\n",
      "TH SEPTIC SHOCK 68\n",
      "TH DRUG RESISTANCE 63\n",
      "PH CARDIAC ARREST 397\n",
      "PH DIABETIC COMPLICATION 115\n",
      "PH CARDIO-RESPIRATORY ARREST 106\n",
      "PH PATHOGEN RESISTANCE 102\n",
      "PH TREATMENT FAILURE 101\n",
      "PH VIRAL MUTATION IDENTIFIED 100\n",
      "PH VIROLOGIC FAILURE 100\n",
      "PH MULTI-ORGAN FAILURE 93\n",
      "PE PULMONARY FIBROSIS 149\n",
      "PE CATARACT 123\n",
      "PE GLAUCOMA 63\n",
      "PE DIABETES MELLITUS 62\n",
      "EG HEPATIC FAILURE 226\n",
      "EG HYPERGLYCAEMIA 122\n",
      "EG EXPOSURE DURING PREGNANCY 86\n",
      "MY MALIGNANT NEOPLASM PROGRESSION 108\n",
      "MY RASH MACULO-PAPULAR 66\n",
      "MY DISEASE PROGRESSION 64\n",
      "MY ANGIOEDEMA 59\n",
      "MY LETHARGY 56\n",
      "MY NEUTROPENIC SEPSIS 52\n",
      "MY ANAPHYLACTIC SHOCK 50\n",
      "PK CARDIO-RESPIRATORY ARREST 99\n",
      "PK HYPERGLYCAEMIA 84\n",
      "PK PLATELET COUNT DECREASED 67\n",
      "PK DRUG DEPENDENCE 56\n",
      "PK WHITE BLOOD CELL COUNT INCREASED 56\n",
      "PK EXPOSURE DURING PREGNANCY 54\n",
      "PK MALIGNANT NEOPLASM PROGRESSION 48\n",
      "PK CARDIOPULMONARY FAILURE 44\n",
      "HK RENAL IMPAIRMENT 70\n",
      "HK DRUG ABUSE 50\n",
      "HK DISEASE PROGRESSION 45\n",
      "HK MALIGNANT NEOPLASM PROGRESSION 40\n",
      "HK SHOCK 36\n",
      "HK HEPATITIS B 34\n",
      "HK FEBRILE NEUTROPENIA 31\n",
      "SK CARDIAC FAILURE 101\n",
      "SK LEUKOPENIA 70\n",
      "SI CARDIAC FAILURE 166\n",
      "SI ISCHAEMIC STROKE 135\n",
      "SI RENAL IMPAIRMENT 70\n",
      "LB CARDIAC ARREST 78\n",
      "LB MALIGNANT NEOPLASM PROGRESSION 78\n",
      "LB BLOOD CREATININE INCREASED 74\n",
      "LB PULMONARY OEDEMA 72\n",
      "BG CARDIAC FAILURE 76\n",
      "BG GENERAL PHYSICAL HEALTH DETERIORATION 74\n",
      "BG COMA 59\n",
      "BG MALIGNANT NEOPLASM PROGRESSION 55\n",
      "BG PROSTATE CANCER 51\n",
      "BG ASTHMA 48\n",
      "BG MALIGNANT MELANOMA 48\n",
      "IR DRUG ABUSE 155\n",
      "IR APNOEA 125\n",
      "IR INTENTIONAL OVERDOSE 113\n",
      "IR EXPOSURE DURING PREGNANCY 96\n",
      "IR SUICIDE ATTEMPT 86\n",
      "IR FOETAL EXPOSURE DURING PREGNANCY 69\n",
      "IR AGITATION 66\n",
      "IR BLINDNESS 59\n",
      "SA MATERNAL EXPOSURE BEFORE PREGNANCY 98\n",
      "SA FEBRILE NEUTROPENIA 75\n",
      "SA FOETAL EXPOSURE DURING PREGNANCY 53\n",
      "SA PREMATURE BABY 43\n",
      "ID GENERAL PHYSICAL HEALTH DETERIORATION 145\n",
      "ID MALIGNANT NEOPLASM PROGRESSION 69\n",
      "ID PLEURAL EFFUSION 56\n",
      "ID LEUKOPENIA 44\n",
      "EC CARDIO-RESPIRATORY ARREST 108\n",
      "EC DEAFNESS 72\n",
      "EC INFARCTION 44\n",
      "VN CARDIAC FAILURE 77\n",
      "VN CARDIOVASCULAR DISORDER 62\n",
      "VN PERITONITIS 60\n",
      "VN MALNUTRITION 54\n",
      "VN RESPIRATORY FAILURE 53\n",
      "VN MALIGNANT NEOPLASM PROGRESSION 49\n",
      "VN DRUG RESISTANCE 45\n",
      "VN PERITONITIS BACTERIAL 44\n",
      "VN SEIZURE 43\n",
      "TN DRUG REACTION WITH EOSINOPHILIA AND SYSTEMIC SYMPTOMS 178\n",
      "TN CARDIAC ARREST 76\n",
      "TN EXPOSURE DURING PREGNANCY 56\n",
      "TN SEPTIC SHOCK 45\n",
      "TN HEPATOCELLULAR INJURY 33\n",
      "TN BONE MARROW FAILURE 28\n",
      "TN RESPIRATORY FAILURE 28\n",
      "TN PANCYTOPENIA 25\n",
      "CR DEAFNESS 58\n",
      "CR DIABETES MELLITUS 51\n",
      "RS OVERLAP SYNDROME 57\n",
      "RS CHRONIC GRAFT VERSUS HOST DISEASE 56\n",
      "RS CARDIAC ARREST 47\n",
      "RS INTENTIONAL OVERDOSE 40\n",
      "RS FOETAL EXPOSURE DURING PREGNANCY 37\n",
      "AE MATERNAL EXPOSURE DURING PREGNANCY 29\n",
      "AE FOETAL EXPOSURE DURING PREGNANCY 27\n",
      "AE MALIGNANT NEOPLASM PROGRESSION 23\n",
      "UG FOETAL EXPOSURE DURING PREGNANCY 218\n",
      "UG CONGENITAL UMBILICAL HERNIA 150\n",
      "UG DIABETES MELLITUS 124\n",
      "UG HYPERGLYCAEMIA 122\n",
      "UG BIRTH MARK 110\n",
      "UG ABORTION SPONTANEOUS 91\n",
      "UG EXPOSURE DURING PREGNANCY 88\n",
      "UG BLOOD CREATININE INCREASED 77\n",
      "UG MATERNAL EXPOSURE DURING PREGNANCY 67\n",
      "UG VIROLOGIC FAILURE 66\n",
      "UG IMMUNE RECONSTITUTION INFLAMMATORY SYNDROME 54\n",
      "UG NEPHROPATHY TOXIC 53\n",
      "UG STILLBIRTH 37\n",
      "UG UMBILICAL HERNIA 37\n",
      "UG MENINGITIS CRYPTOCOCCAL 36\n",
      "UG FOETAL DEATH 34\n",
      "UG ABORTION INDUCED 27\n",
      "UG PROTEINURIA 27\n",
      "UA VASCULAR STENT THROMBOSIS 34\n",
      "UA LEUKOPENIA 24\n",
      "UA BODY TEMPERATURE INCREASED 22\n",
      "UA TACHYCARDIA 22\n",
      "UA ISCHAEMIC STROKE 21\n",
      "UA ANGINA PECTORIS 20\n",
      "DZ DISEASE PROGRESSION 38\n",
      "DZ GENERAL PHYSICAL HEALTH DETERIORATION 27\n",
      "DZ LEUKOPENIA 26\n",
      "DZ HYPERTONIA 24\n",
      "DZ MUCOSAL INFLAMMATION 24\n",
      "DZ RESPIRATORY DISTRESS 23\n",
      "GT DIABETES MELLITUS 48\n",
      "LT SUICIDE ATTEMPT 91\n",
      "LT INTENTIONAL OVERDOSE 81\n",
      "LT COMA 42\n",
      "LT FOETAL EXPOSURE DURING PREGNANCY 26\n",
      "LT MATERNAL EXPOSURE DURING PREGNANCY 25\n",
      "MA DRUG REACTION WITH EOSINOPHILIA AND SYSTEMIC SYMPTOMS 69\n",
      "MA SEPTIC SHOCK 32\n",
      "MA TOXIC EPIDERMAL NECROLYSIS 27\n",
      "MA DISEASE PROGRESSION 26\n"
     ]
    },
    {
     "name": "stdout",
     "output_type": "stream",
     "text": [
      "MA TOXIC SKIN ERUPTION 19\n",
      "MA RESPIRATORY DISTRESS 18\n",
      "MA TACHYCARDIA 18\n",
      "MA GENERAL PHYSICAL HEALTH DETERIORATION 16\n",
      "MA MALIGNANT NEOPLASM PROGRESSION 16\n",
      "UY RESPIRATORY TRACT INFECTION 47\n",
      "UY PALMAR-PLANTAR ERYTHRODYSAESTHESIA SYNDROME 32\n",
      "UY FOETAL EXPOSURE DURING PREGNANCY 25\n",
      "UY MATERNAL EXPOSURE DURING PREGNANCY 22\n",
      "UY RESPIRATORY FAILURE 22\n",
      "BD EXPOSURE DURING PREGNANCY 79\n",
      "BD ABORTION 34\n",
      "BD FOETAL EXPOSURE DURING PREGNANCY 30\n",
      "BD DIABETES MELLITUS 27\n",
      "BD RENAL DISORDER 25\n",
      "BD ABORTION SPONTANEOUS 24\n",
      "BD STILLBIRTH 24\n",
      "BD CARDIAC DISORDER 23\n",
      "BD DEMENTIA 21\n",
      "BD GENERAL PHYSICAL HEALTH DETERIORATION 20\n",
      "BD ELECTROLYTE IMBALANCE 18\n",
      "KE ABORTION SPONTANEOUS 75\n",
      "KE FOETAL EXPOSURE DURING PREGNANCY 57\n",
      "KE MATERNAL EXPOSURE DURING PREGNANCY 55\n",
      "KE DRUG RESISTANCE 53\n",
      "KE EXPOSURE DURING PREGNANCY 49\n",
      "KE VIROLOGIC FAILURE 44\n",
      "KE FOETAL DEATH 42\n",
      "KE DEEP VEIN THROMBOSIS 30\n",
      "KE VIRAL MUTATION IDENTIFIED 29\n",
      "KE HIV INFECTION 27\n",
      "KE PATHOGEN RESISTANCE 27\n",
      "KE EXPOSURE DURING BREAST FEEDING 26\n",
      "KE PULMONARY TUBERCULOSIS 18\n",
      "KE TUBERCULOSIS 18\n",
      "KE RENAL FAILURE ACUTE 15\n",
      "PA MULTIPLE SCLEROSIS RELAPSE 34\n",
      "PA SERUM FERRITIN INCREASED 32\n",
      "NG VIRAL MUTATION IDENTIFIED 33\n",
      "NG FOETAL EXPOSURE DURING PREGNANCY 29\n",
      "NG PATHOGEN RESISTANCE 28\n",
      "NG DRUG INTOLERANCE 26\n",
      "NG DEAFNESS 22\n",
      "NG INTENTIONAL PRODUCT MISUSE 17\n",
      "NG BLAST CRISIS IN MYELOGENOUS LEUKAEMIA 15\n",
      "NG CHRONIC KIDNEY DISEASE 15\n",
      "NG RESTLESSNESS 15\n",
      "NG DRUG RESISTANCE 14\n",
      "DO DIABETES MELLITUS 21\n",
      "HN DIABETES MELLITUS 32\n",
      "HN GENERAL PHYSICAL HEALTH DETERIORATION 17\n",
      "HN CARDIAC DISORDER 16\n",
      "KW DRUG ABUSE 28\n",
      "KW MALIGNANT NEOPLASM PROGRESSION 15\n",
      "KW FOCAL SEGMENTAL GLOMERULOSCLEROSIS 14\n",
      "KW PREMATURE BABY 14\n",
      "KW DRUG RESISTANCE 13\n",
      "KW LOWER RESPIRATORY TRACT INFECTION 12\n",
      "KW MATERNAL EXPOSURE DURING PREGNANCY 12\n",
      "KW ANGIOEDEMA 11\n",
      "ET VIROLOGIC FAILURE 117\n",
      "ET DRUG RESISTANCE 98\n",
      "ET DRUG-INDUCED LIVER INJURY 63\n",
      "ET ACQUIRED GENE MUTATION 51\n",
      "ET VIRAL MUTATION IDENTIFIED 46\n",
      "ET DIABETES MELLITUS 27\n",
      "ET CHOLESTATIC LIVER INJURY 14\n",
      "ET HEPATOTOXICITY 13\n",
      "ET HIV INFECTION 11\n",
      "ET FOETAL EXPOSURE DURING DELIVERY 8\n",
      "ET NEUROPATHY PERIPHERAL 7\n",
      "ET TUBERCULOSIS 7\n",
      "ET TREATMENT FAILURE 6\n",
      "ET ELECTROCARDIOGRAM QT PROLONGED 5\n",
      "ET EPISTAXIS 5\n",
      "ET OPTIC NEURITIS 5\n",
      "ET CHOKING 4\n",
      "ET DIABETIC KETOACIDOSIS 4\n",
      "BW FOETAL EXPOSURE DURING PREGNANCY 423\n",
      "BW SMALL FOR DATES BABY 240\n",
      "BW STILLBIRTH 113\n",
      "BW MATERNAL EXPOSURE DURING PREGNANCY 78\n",
      "BW EXPOSURE DURING PREGNANCY 71\n",
      "BW PREMATURE BABY 48\n",
      "BW PREMATURE DELIVERY 41\n",
      "BW DEATH NEONATAL 24\n",
      "BW TALIPES 23\n",
      "BW MENINGOMYELOCELE 16\n",
      "BW ABORTION SPONTANEOUS 14\n",
      "BW MENINGOCELE 11\n",
      "BW NEURAL TUBE DEFECT 10\n",
      "BW SPINA BIFIDA 10\n",
      "BW LIVE BIRTH 9\n",
      "BW FOETAL DEATH 8\n",
      "BW BLOOD CREATININE INCREASED 6\n",
      "BW CONGENITAL HYDROCEPHALUS 6\n",
      "BW CONGENITAL ANOMALY 5\n",
      "BW EXOMPHALOS 5\n",
      "EE ISCHAEMIC STROKE 15\n",
      "EE CARDIAC FAILURE 14\n",
      "EE CEREBRAL HAEMORRHAGE 13\n",
      "LV PANCYTOPENIA 16\n",
      "LV ISCHAEMIC STROKE 14\n",
      "LV LEUKOPENIA 13\n",
      "OM GENERALISED OEDEMA 51\n",
      "OM ASCITES 31\n",
      "OM PLEURAL EFFUSION 23\n",
      "OM OSTEONECROSIS 16\n",
      "OM SEIZURE 16\n",
      "OM POLYOMAVIRUS-ASSOCIATED NEPHROPATHY 15\n",
      "OM GLOMERULAR FILTRATION RATE DECREASED 14\n",
      "OM RENAL IMPAIRMENT 13\n",
      "OM BK VIRUS INFECTION 12\n",
      "CY HEART RATE INCREASED 12\n",
      "CY HEPATIC ENZYME INCREASED 11\n",
      "CY STOMATITIS 11\n",
      "CY DYSPHAGIA 10\n",
      "KZ BODY TEMPERATURE INCREASED 21\n",
      "KZ INTENTIONAL PRODUCT USE ISSUE 19\n",
      "KZ SEIZURE 17\n",
      "KZ EPISTAXIS 14\n",
      "KZ PULMONARY TUBERCULOSIS 14\n",
      "KZ ALANINE AMINOTRANSFERASE INCREASED 13\n",
      "KZ ASPARTATE AMINOTRANSFERASE INCREASED 13\n",
      "KZ CARDIOPULMONARY FAILURE 13\n",
      "KZ EXPOSURE DURING PREGNANCY 13\n",
      "LU ANAPHYLACTIC REACTION 20\n",
      "LU ANAPHYLACTIC SHOCK 17\n",
      "LU OSTEONECROSIS OF JAW 13\n",
      "LU ACUTE GRAFT VERSUS HOST DISEASE IN SKIN 12\n",
      "LU DYSBACTERIOSIS 12\n",
      "LU GRAFT VERSUS HOST DISEASE IN GASTROINTESTINAL TRACT 12\n",
      "LU SYSTEMIC INFLAMMATORY RESPONSE SYNDROME 12\n",
      "LU C-REACTIVE PROTEIN INCREASED 11\n",
      "LU EXTRAPYRAMIDAL DISORDER 11\n",
      "LU HEPATOCELLULAR INJURY 11\n",
      "LU PROGRESSIVE MULTIFOCAL LEUKOENCEPHALOPATHY 11\n",
      "LU CEREBRAL HAEMORRHAGE 10\n",
      "MW FOETAL EXPOSURE DURING DELIVERY 88\n",
      "MW EXPOSURE DURING BREAST FEEDING 72\n",
      "MW FOETAL EXPOSURE DURING PREGNANCY 65\n",
      "MW EXPOSURE DURING PREGNANCY 44\n",
      "MW STEVENS-JOHNSON SYNDROME 42\n",
      "MW HIV INFECTION 38\n",
      "MW BLINDNESS 28\n",
      "MW FOETAL GROWTH RESTRICTION 26\n",
      "MW ULCERATIVE KERATITIS 26\n",
      "MW TOXIC EPIDERMAL NECROLYSIS 25\n",
      "MW DRUG RESISTANCE 21\n",
      "MW VIROLOGIC FAILURE 19\n",
      "MW CONJUNCTIVALISATION 17\n",
      "MW NEPHROPATHY TOXIC 17\n",
      "MW DRY EYE 15\n",
      "MW ENDOPHTHALMITIS 15\n",
      "MW VISUAL ACUITY REDUCED 15\n",
      "MW NEUROPATHY PERIPHERAL 14\n",
      "MW MALARIA 12\n",
      "MW PREMATURE BABY 12\n",
      "NP SWELLING FACE 13\n",
      "NP NONINFECTIOUS PERITONITIS 12\n",
      "NP RESPIRATORY ALKALOSIS 10\n",
      "NP INTENTIONAL OVERDOSE 9\n",
      "NP PLEURAL EFFUSION 8\n",
      "NP ACUTE RESPIRATORY DISTRESS SYNDROME 7\n",
      "NP NON-CARDIOGENIC PULMONARY OEDEMA 7\n",
      "NP PANCYTOPENIA 7\n",
      "NP PORPHYRIA ACUTE 7\n",
      "NP STRONGYLOIDIASIS 7\n",
      "NP TYPE IV HYPERSENSITIVITY REACTION 7\n",
      "NP WHITE BLOOD CELL COUNT DECREASED 7\n",
      "GE HEPATIC CIRRHOSIS 44\n",
      "GE PULMONARY TUBERCULOSIS 11\n",
      "GE ENCEPHALOPATHY 10\n",
      "GE HEPATITIS C 10\n",
      "GE RESPIRATORY FAILURE 10\n",
      "GE ASCITES 9\n",
      "GE HEPATITIS 9\n",
      "GE HYPERBILIRUBINAEMIA 9\n",
      "GE FOETAL EXPOSURE DURING PREGNANCY 8\n",
      "GE ABORTION SPONTANEOUS 7\n",
      "GE ELECTROCARDIOGRAM QT PROLONGED 7\n",
      "QA HYPOTHYROIDISM 67\n",
      "QA EXPOSURE DURING PREGNANCY 43\n",
      "QA POSTERIOR REVERSIBLE ENCEPHALOPATHY SYNDROME 20\n",
      "QA HEPATIC ENZYME INCREASED 13\n",
      "QA RHABDOMYOLYSIS 13\n",
      "QA CARDIAC ARREST 11\n",
      "QA FOETAL EXPOSURE DURING PREGNANCY 10\n",
      "QA LEUKOPENIA 10\n",
      "QA MATERNAL EXPOSURE DURING PREGNANCY 10\n",
      "QA DRUG-INDUCED LIVER INJURY 8\n",
      "JO DRUG ABUSE 19\n",
      "JO FEBRILE NEUTROPENIA 16\n",
      "JO DISEASE PROGRESSION 15\n",
      "JO OSTEONECROSIS OF JAW 15\n",
      "JO SEPSIS NEONATAL 13\n",
      "JO PLASMA CELL MYELOMA 10\n",
      "JO CARDIAC ARREST 8\n",
      "JO SEIZURE 8\n",
      "MT NEUROLEPTIC MALIGNANT SYNDROME 25\n",
      "MT TACHYPNOEA 18\n",
      "MT MALIGNANT HYPERTENSION 17\n",
      "MT CHRONIC OBSTRUCTIVE PULMONARY DISEASE 16\n",
      "MT ASTHMA 14\n",
      "MT LOWER RESPIRATORY TRACT INFECTION 14\n",
      "MT METABOLIC ACIDOSIS 14\n",
      "MT INTENTIONAL OVERDOSE 13\n",
      "MT TACHYCARDIA 12\n",
      "MT HYPERKALAEMIA 9\n",
      "IS DRUG-INDUCED LIVER INJURY 52\n",
      "IS DRUG ABUSE 16\n",
      "IS CHOLANGITIS SCLEROSING 15\n",
      "IS DELIRIUM 11\n",
      "IS HEPATOTOXICITY 11\n",
      "IS JAUNDICE 11\n",
      "IS MIXED LIVER INJURY 11\n",
      "IS BLOOD CREATININE INCREASED 10\n",
      "IS PROTHROMBIN TIME PROLONGED 10\n",
      "GH PARADOXICAL DRUG REACTION 47\n",
      "GH NEUROPATHY PERIPHERAL 15\n",
      "GH PATHOGEN RESISTANCE 14\n",
      "GH EXPOSURE DURING PREGNANCY 11\n",
      "GH RED BLOOD CELL ABNORMALITY 11\n",
      "GH MENTAL DISORDER 10\n",
      "GH MALNUTRITION 9\n",
      "GH METABOLIC DISORDER 9\n",
      "GH GASTROINTESTINAL DISORDER 8\n",
      "GH VIRAL MUTATION IDENTIFIED 8\n",
      "GH BLAST CRISIS IN MYELOGENOUS LEUKAEMIA 7\n",
      "GH OPHTHALMIC HERPES ZOSTER 7\n",
      "GH OROPHARYNGEAL CANDIDIASIS 7\n",
      "GH VIROLOGIC FAILURE 7\n",
      "GH ACNE 6\n",
      "GH JAUNDICE 6\n",
      "GH NERVOUS SYSTEM DISORDER 6\n",
      "GH POST HERPETIC NEURALGIA 6\n",
      "SD SUDDEN DEATH 45\n",
      "SD FOETAL EXPOSURE DURING PREGNANCY 24\n",
      "SD CIRCULATORY COLLAPSE 23\n",
      "SD MALARIA 11\n",
      "SD MENINGOMYELOCELE 8\n",
      "SD PLATELET COUNT DECREASED 6\n",
      "SD MENINGOCELE 5\n",
      "SD ANENCEPHALY 4\n",
      "SD ENCEPHALOCELE 4\n",
      "SD GASTROINTESTINAL STROMAL TUMOUR 4\n",
      "SD HYDROCEPHALUS 4\n",
      "SD MALIGNANT NEOPLASM PROGRESSION 4\n",
      "SD BLOOD CREATININE INCREASED 3\n",
      "SD CHRONIC MYELOID LEUKAEMIA 3\n",
      "SD CONVULSION 3\n",
      "SD EYE PAIN 3\n",
      "IQ NEPHROLITHIASIS 22\n",
      "IQ HYPERGLYCAEMIA 18\n",
      "JM ANAESTHETIC COMPLICATION NEUROLOGICAL 56\n",
      "JM DENGUE FEVER 11\n",
      "JM CHRONIC MYELOID LEUKAEMIA 8\n",
      "JM CHRONIC OBSTRUCTIVE PULMONARY DISEASE 7\n",
      "JM URINARY RETENTION 7\n",
      "JM MALIGNANT NEOPLASM PROGRESSION 6\n",
      "JM PROCEDURAL HAEMORRHAGE 6\n",
      "JM PSEUDOMEMBRANOUS COLITIS 6\n",
      "BY NEPHROPATHY 14\n",
      "BY PLATELET COUNT DECREASED 14\n",
      "BY INCORRECT PRODUCT ADMINISTRATION DURATION 12\n",
      "BY INTENTIONAL PRODUCT USE ISSUE 11\n",
      "BY ALCOHOL POISONING 9\n",
      "BY ISCHAEMIC STROKE 9\n",
      "BY CREATININE RENAL CLEARANCE DECREASED 8\n",
      "BY GENERAL PHYSICAL HEALTH DETERIORATION 8\n",
      "CM ILL-DEFINED DISORDER 23\n",
      "CM TOXIC EPIDERMAL NECROLYSIS 14\n",
      "CM COMA 13\n",
      "CM EMBOLIA CUTIS MEDICAMENTOSA 13\n",
      "CM ENCEPHALOPATHY 10\n",
      "CM MENINGITIS BACTERIAL 9\n",
      "CM PARADOXICAL DRUG REACTION 9\n",
      "CM CONJUNCTIVAL HAEMORRHAGE 8\n",
      "CM SKIN ULCER 8\n",
      "CM ABASIA 7\n",
      "CM BLINDNESS 7\n",
      "CM GENERALISED OEDEMA 7\n",
      "CM DEPRESSED LEVEL OF CONSCIOUSNESS 6\n",
      "LK FOETAL EXPOSURE DURING PREGNANCY 17\n",
      "LK MYOPATHY 13\n",
      "LK CARDIAC ARREST 11\n",
      "LK CHOLANGITIS 10\n",
      "LK HYPOTHERMIA 10\n",
      "LK RHABDOMYOLYSIS 9\n",
      "LK CHOLESTASIS 8\n",
      "LK METABOLIC ACIDOSIS 8\n",
      "LK KOUNIS SYNDROME 7\n",
      "LK TORSADE DE POINTES 7\n",
      "LK ACCIDENTAL EXPOSURE TO PRODUCT 6\n",
      "KP DISEASE PROGRESSION 19\n",
      "KP PANCREATIC CARCINOMA 9\n",
      "KP TUBERCULOSIS 9\n",
      "KP DRUG RESISTANCE 8\n",
      "KP MALIGNANT NEOPLASM PROGRESSION 8\n",
      "KP NEUROPATHY PERIPHERAL 8\n",
      "KP RESPIRATORY FAILURE 7\n",
      "KP POSTERIOR REVERSIBLE ENCEPHALOPATHY SYNDROME 6\n",
      "KP CARDIAC ARREST 5\n",
      "KP ALANINE AMINOTRANSFERASE INCREASED 4\n"
     ]
    },
    {
     "name": "stdout",
     "output_type": "stream",
     "text": [
      "BA HYPERPROLACTINAEMIA 16\n",
      "BA FOETAL EXPOSURE DURING PREGNANCY 9\n",
      "BA CEREBRAL ARTERY EMBOLISM 7\n",
      "BA EXTRAPYRAMIDAL DISORDER 6\n",
      "BA SINUS TACHYCARDIA 6\n",
      "BA ATRIAL FIBRILLATION 5\n"
     ]
    }
   ],
   "source": [
    "for i, country in enumerate(list(top_countries.term)):\n",
    "    results = query(\"&search=occurcountry.exact:\\\"\"+country+\"\\\"&count=patient.reaction.reactionmeddrapt.exact\")\n",
    "    for reaction in list(results.term)[:25]:\n",
    "        if reaction not in list(top_reactions.term)[:100]:\n",
    "            print(country, reaction, int(results[results.term == reaction]['count']))"
   ]
  },
  {
   "cell_type": "markdown",
   "metadata": {},
   "source": [
    "OK, will look into top 100 reactions in top 25 countries:"
   ]
  },
  {
   "cell_type": "code",
   "execution_count": null,
   "metadata": {},
   "outputs": [],
   "source": [
    "m,n = 100,25\n",
    "temp = np.zeros((m,n), dtype=np.int)"
   ]
  },
  {
   "cell_type": "code",
   "execution_count": 882,
   "metadata": {},
   "outputs": [],
   "source": [
    "for i, reaction in enumerate(list(top_reactions.term)[:m]):\n",
    "    #create drug reaction row\n",
    "    for j, country in enumerate(list(top_countries.term)[:n]):\n",
    "        #add country to the reaction row\n",
    "        if(i>91):\n",
    "            results = query(\"&search=occurcountry:\\\"\"+country+\"\\\"+AND+patient.reaction.reactionmeddrapt:\\\"\"+reaction+\"\\\"&count=patient.reaction.reactionmeddrapt.exact\")\n",
    "            count = int(results.head(1)[\"count\"])\n",
    "            #print(country,reaction,count)\n",
    "            temp[i,j] = count"
   ]
  },
  {
   "cell_type": "code",
   "execution_count": 886,
   "metadata": {},
   "outputs": [],
   "source": [
    "top25_c_by_100_r = pd.DataFrame(temp,columns = list(top_countries.term)[:n],index = list(top_reactions.term)[:m])"
   ]
  },
  {
   "cell_type": "code",
   "execution_count": 888,
   "metadata": {},
   "outputs": [
    {
     "data": {
      "text/html": [
       "<div>\n",
       "<style scoped>\n",
       "    .dataframe tbody tr th:only-of-type {\n",
       "        vertical-align: middle;\n",
       "    }\n",
       "\n",
       "    .dataframe tbody tr th {\n",
       "        vertical-align: top;\n",
       "    }\n",
       "\n",
       "    .dataframe thead th {\n",
       "        text-align: right;\n",
       "    }\n",
       "</style>\n",
       "<table border=\"1\" class=\"dataframe\">\n",
       "  <thead>\n",
       "    <tr style=\"text-align: right;\">\n",
       "      <th></th>\n",
       "      <th>US</th>\n",
       "      <th>GB</th>\n",
       "      <th>CA</th>\n",
       "      <th>JP</th>\n",
       "      <th>FR</th>\n",
       "      <th>DE</th>\n",
       "      <th>IT</th>\n",
       "      <th>BR</th>\n",
       "      <th>ES</th>\n",
       "      <th>AU</th>\n",
       "      <th>...</th>\n",
       "      <th>AR</th>\n",
       "      <th>TR</th>\n",
       "      <th>CH</th>\n",
       "      <th>PL</th>\n",
       "      <th>BE</th>\n",
       "      <th>PT</th>\n",
       "      <th>KR</th>\n",
       "      <th>MX</th>\n",
       "      <th>GR</th>\n",
       "      <th>TW</th>\n",
       "    </tr>\n",
       "  </thead>\n",
       "  <tbody>\n",
       "    <tr>\n",
       "      <th>DRY SKIN</th>\n",
       "      <td>51245</td>\n",
       "      <td>993</td>\n",
       "      <td>1220</td>\n",
       "      <td>361</td>\n",
       "      <td>476</td>\n",
       "      <td>559</td>\n",
       "      <td>177</td>\n",
       "      <td>440</td>\n",
       "      <td>63</td>\n",
       "      <td>95</td>\n",
       "      <td>...</td>\n",
       "      <td>49</td>\n",
       "      <td>26</td>\n",
       "      <td>29</td>\n",
       "      <td>44</td>\n",
       "      <td>74</td>\n",
       "      <td>48</td>\n",
       "      <td>15</td>\n",
       "      <td>112</td>\n",
       "      <td>25</td>\n",
       "      <td>30</td>\n",
       "    </tr>\n",
       "    <tr>\n",
       "      <th>INFLUENZA</th>\n",
       "      <td>38347</td>\n",
       "      <td>1688</td>\n",
       "      <td>5284</td>\n",
       "      <td>696</td>\n",
       "      <td>381</td>\n",
       "      <td>813</td>\n",
       "      <td>186</td>\n",
       "      <td>2484</td>\n",
       "      <td>200</td>\n",
       "      <td>358</td>\n",
       "      <td>...</td>\n",
       "      <td>326</td>\n",
       "      <td>227</td>\n",
       "      <td>87</td>\n",
       "      <td>65</td>\n",
       "      <td>106</td>\n",
       "      <td>56</td>\n",
       "      <td>48</td>\n",
       "      <td>263</td>\n",
       "      <td>29</td>\n",
       "      <td>75</td>\n",
       "    </tr>\n",
       "    <tr>\n",
       "      <th>HAEMORRHAGE</th>\n",
       "      <td>37665</td>\n",
       "      <td>1753</td>\n",
       "      <td>2090</td>\n",
       "      <td>2111</td>\n",
       "      <td>1307</td>\n",
       "      <td>1493</td>\n",
       "      <td>1175</td>\n",
       "      <td>1124</td>\n",
       "      <td>443</td>\n",
       "      <td>479</td>\n",
       "      <td>...</td>\n",
       "      <td>288</td>\n",
       "      <td>134</td>\n",
       "      <td>264</td>\n",
       "      <td>221</td>\n",
       "      <td>159</td>\n",
       "      <td>89</td>\n",
       "      <td>181</td>\n",
       "      <td>154</td>\n",
       "      <td>98</td>\n",
       "      <td>111</td>\n",
       "    </tr>\n",
       "    <tr>\n",
       "      <th>ABDOMINAL DISTENSION</th>\n",
       "      <td>31203</td>\n",
       "      <td>2003</td>\n",
       "      <td>2741</td>\n",
       "      <td>640</td>\n",
       "      <td>891</td>\n",
       "      <td>561</td>\n",
       "      <td>292</td>\n",
       "      <td>869</td>\n",
       "      <td>191</td>\n",
       "      <td>278</td>\n",
       "      <td>...</td>\n",
       "      <td>63</td>\n",
       "      <td>91</td>\n",
       "      <td>27</td>\n",
       "      <td>36</td>\n",
       "      <td>83</td>\n",
       "      <td>100</td>\n",
       "      <td>76</td>\n",
       "      <td>78</td>\n",
       "      <td>38</td>\n",
       "      <td>128</td>\n",
       "    </tr>\n",
       "    <tr>\n",
       "      <th>PRODUCT DOSE OMISSION</th>\n",
       "      <td>58347</td>\n",
       "      <td>779</td>\n",
       "      <td>1125</td>\n",
       "      <td>118</td>\n",
       "      <td>130</td>\n",
       "      <td>167</td>\n",
       "      <td>15</td>\n",
       "      <td>456</td>\n",
       "      <td>44</td>\n",
       "      <td>128</td>\n",
       "      <td>...</td>\n",
       "      <td>28</td>\n",
       "      <td>16</td>\n",
       "      <td>17</td>\n",
       "      <td>10</td>\n",
       "      <td>13</td>\n",
       "      <td>9</td>\n",
       "      <td>6</td>\n",
       "      <td>22</td>\n",
       "      <td>6</td>\n",
       "      <td>6</td>\n",
       "    </tr>\n",
       "  </tbody>\n",
       "</table>\n",
       "<p>5 rows × 25 columns</p>\n",
       "</div>"
      ],
      "text/plain": [
       "                          US    GB    CA    JP    FR    DE    IT    BR   ES  \\\n",
       "DRY SKIN               51245   993  1220   361   476   559   177   440   63   \n",
       "INFLUENZA              38347  1688  5284   696   381   813   186  2484  200   \n",
       "HAEMORRHAGE            37665  1753  2090  2111  1307  1493  1175  1124  443   \n",
       "ABDOMINAL DISTENSION   31203  2003  2741   640   891   561   292   869  191   \n",
       "PRODUCT DOSE OMISSION  58347   779  1125   118   130   167    15   456   44   \n",
       "\n",
       "                        AU  ...   AR   TR   CH   PL   BE   PT   KR   MX  GR  \\\n",
       "DRY SKIN                95  ...   49   26   29   44   74   48   15  112  25   \n",
       "INFLUENZA              358  ...  326  227   87   65  106   56   48  263  29   \n",
       "HAEMORRHAGE            479  ...  288  134  264  221  159   89  181  154  98   \n",
       "ABDOMINAL DISTENSION   278  ...   63   91   27   36   83  100   76   78  38   \n",
       "PRODUCT DOSE OMISSION  128  ...   28   16   17   10   13    9    6   22   6   \n",
       "\n",
       "                        TW  \n",
       "DRY SKIN                30  \n",
       "INFLUENZA               75  \n",
       "HAEMORRHAGE            111  \n",
       "ABDOMINAL DISTENSION   128  \n",
       "PRODUCT DOSE OMISSION    6  \n",
       "\n",
       "[5 rows x 25 columns]"
      ]
     },
     "execution_count": 888,
     "metadata": {},
     "output_type": "execute_result"
    }
   ],
   "source": [
    "top25_c_by_100_r.tail()"
   ]
  },
  {
   "cell_type": "code",
   "execution_count": 901,
   "metadata": {},
   "outputs": [],
   "source": [
    "top25_c_by_100_r.to_pickle('./data/top25_countries_by_100_reactions.pickle')"
   ]
  },
  {
   "cell_type": "code",
   "execution_count": 902,
   "metadata": {},
   "outputs": [],
   "source": [
    "top25_c_by_r.to_pickle('./data/top25_countries_by_reactions.pickle')"
   ]
  },
  {
   "cell_type": "code",
   "execution_count": null,
   "metadata": {},
   "outputs": [],
   "source": []
  },
  {
   "cell_type": "code",
   "execution_count": null,
   "metadata": {},
   "outputs": [],
   "source": [
    "m,n = 25,25\n",
    "temp = np.zeros((m,n), dtype=np.int)\n",
    "for i, reaction in enumerate(list(top_reactions.term)[:m]):\n",
    "    #create drug reaction row\n",
    "    for j, country in enumerate(list(top_countries.term)[:n]):\n",
    "        #add country to the reaction row\n",
    "        results = query(\"&search=occurcountry:\\\"\"+country+\"\\\"+AND+patient.reaction.reactionmeddrapt:\\\"\"+reaction+\"\\\"&count=patient.reaction.reactionmeddrapt.exact\")\n",
    "        count = int(results.head(1)[\"count\"])\n",
    "        #print(country,reaction,count)\n",
    "        temp[i,j] = count"
   ]
  },
  {
   "cell_type": "code",
   "execution_count": 259,
   "metadata": {},
   "outputs": [],
   "source": [
    "top25_c_by_r = pd.DataFrame(temp,columns = list(top_countries.term)[:n],index = list(top_reactions.term)[:m])"
   ]
  },
  {
   "cell_type": "code",
   "execution_count": 868,
   "metadata": {},
   "outputs": [
    {
     "data": {
      "text/html": [
       "<div>\n",
       "<style scoped>\n",
       "    .dataframe tbody tr th:only-of-type {\n",
       "        vertical-align: middle;\n",
       "    }\n",
       "\n",
       "    .dataframe tbody tr th {\n",
       "        vertical-align: top;\n",
       "    }\n",
       "\n",
       "    .dataframe thead th {\n",
       "        text-align: right;\n",
       "    }\n",
       "</style>\n",
       "<table border=\"1\" class=\"dataframe\">\n",
       "  <thead>\n",
       "    <tr style=\"text-align: right;\">\n",
       "      <th></th>\n",
       "      <th>US</th>\n",
       "      <th>GB</th>\n",
       "      <th>CA</th>\n",
       "      <th>JP</th>\n",
       "      <th>FR</th>\n",
       "      <th>DE</th>\n",
       "      <th>IT</th>\n",
       "      <th>BR</th>\n",
       "      <th>ES</th>\n",
       "      <th>AU</th>\n",
       "      <th>...</th>\n",
       "      <th>AR</th>\n",
       "      <th>TR</th>\n",
       "      <th>CH</th>\n",
       "      <th>PL</th>\n",
       "      <th>BE</th>\n",
       "      <th>PT</th>\n",
       "      <th>KR</th>\n",
       "      <th>MX</th>\n",
       "      <th>GR</th>\n",
       "      <th>TW</th>\n",
       "    </tr>\n",
       "  </thead>\n",
       "  <tbody>\n",
       "    <tr>\n",
       "      <th>DRUG INEFFECTIVE</th>\n",
       "      <td>484075</td>\n",
       "      <td>6278</td>\n",
       "      <td>37725</td>\n",
       "      <td>4782</td>\n",
       "      <td>4820</td>\n",
       "      <td>4453</td>\n",
       "      <td>4668</td>\n",
       "      <td>7265</td>\n",
       "      <td>2266</td>\n",
       "      <td>2205</td>\n",
       "      <td>...</td>\n",
       "      <td>765</td>\n",
       "      <td>1032</td>\n",
       "      <td>749</td>\n",
       "      <td>1882</td>\n",
       "      <td>617</td>\n",
       "      <td>1170</td>\n",
       "      <td>519</td>\n",
       "      <td>648</td>\n",
       "      <td>891</td>\n",
       "      <td>324</td>\n",
       "    </tr>\n",
       "    <tr>\n",
       "      <th>NAUSEA</th>\n",
       "      <td>242231</td>\n",
       "      <td>11449</td>\n",
       "      <td>16993</td>\n",
       "      <td>6040</td>\n",
       "      <td>6760</td>\n",
       "      <td>7829</td>\n",
       "      <td>4146</td>\n",
       "      <td>3179</td>\n",
       "      <td>1394</td>\n",
       "      <td>1979</td>\n",
       "      <td>...</td>\n",
       "      <td>184</td>\n",
       "      <td>719</td>\n",
       "      <td>683</td>\n",
       "      <td>678</td>\n",
       "      <td>787</td>\n",
       "      <td>667</td>\n",
       "      <td>653</td>\n",
       "      <td>470</td>\n",
       "      <td>196</td>\n",
       "      <td>261</td>\n",
       "    </tr>\n",
       "    <tr>\n",
       "      <th>DEATH</th>\n",
       "      <td>226952</td>\n",
       "      <td>17448</td>\n",
       "      <td>18713</td>\n",
       "      <td>6515</td>\n",
       "      <td>4586</td>\n",
       "      <td>5622</td>\n",
       "      <td>2008</td>\n",
       "      <td>5495</td>\n",
       "      <td>1790</td>\n",
       "      <td>4852</td>\n",
       "      <td>...</td>\n",
       "      <td>2803</td>\n",
       "      <td>947</td>\n",
       "      <td>676</td>\n",
       "      <td>1105</td>\n",
       "      <td>1201</td>\n",
       "      <td>425</td>\n",
       "      <td>1052</td>\n",
       "      <td>2646</td>\n",
       "      <td>759</td>\n",
       "      <td>3311</td>\n",
       "    </tr>\n",
       "    <tr>\n",
       "      <th>FATIGUE</th>\n",
       "      <td>248898</td>\n",
       "      <td>12430</td>\n",
       "      <td>19856</td>\n",
       "      <td>1742</td>\n",
       "      <td>9701</td>\n",
       "      <td>7159</td>\n",
       "      <td>1324</td>\n",
       "      <td>3681</td>\n",
       "      <td>1050</td>\n",
       "      <td>1784</td>\n",
       "      <td>...</td>\n",
       "      <td>467</td>\n",
       "      <td>392</td>\n",
       "      <td>601</td>\n",
       "      <td>359</td>\n",
       "      <td>1041</td>\n",
       "      <td>713</td>\n",
       "      <td>188</td>\n",
       "      <td>616</td>\n",
       "      <td>356</td>\n",
       "      <td>264</td>\n",
       "    </tr>\n",
       "    <tr>\n",
       "      <th>HEADACHE</th>\n",
       "      <td>209207</td>\n",
       "      <td>10360</td>\n",
       "      <td>13249</td>\n",
       "      <td>2227</td>\n",
       "      <td>7506</td>\n",
       "      <td>4388</td>\n",
       "      <td>2479</td>\n",
       "      <td>4107</td>\n",
       "      <td>1045</td>\n",
       "      <td>1423</td>\n",
       "      <td>...</td>\n",
       "      <td>383</td>\n",
       "      <td>330</td>\n",
       "      <td>412</td>\n",
       "      <td>412</td>\n",
       "      <td>506</td>\n",
       "      <td>479</td>\n",
       "      <td>319</td>\n",
       "      <td>663</td>\n",
       "      <td>238</td>\n",
       "      <td>124</td>\n",
       "    </tr>\n",
       "  </tbody>\n",
       "</table>\n",
       "<p>5 rows × 25 columns</p>\n",
       "</div>"
      ],
      "text/plain": [
       "                      US     GB     CA    JP    FR    DE    IT    BR    ES  \\\n",
       "DRUG INEFFECTIVE  484075   6278  37725  4782  4820  4453  4668  7265  2266   \n",
       "NAUSEA            242231  11449  16993  6040  6760  7829  4146  3179  1394   \n",
       "DEATH             226952  17448  18713  6515  4586  5622  2008  5495  1790   \n",
       "FATIGUE           248898  12430  19856  1742  9701  7159  1324  3681  1050   \n",
       "HEADACHE          209207  10360  13249  2227  7506  4388  2479  4107  1045   \n",
       "\n",
       "                    AU  ...    AR    TR   CH    PL    BE    PT    KR    MX  \\\n",
       "DRUG INEFFECTIVE  2205  ...   765  1032  749  1882   617  1170   519   648   \n",
       "NAUSEA            1979  ...   184   719  683   678   787   667   653   470   \n",
       "DEATH             4852  ...  2803   947  676  1105  1201   425  1052  2646   \n",
       "FATIGUE           1784  ...   467   392  601   359  1041   713   188   616   \n",
       "HEADACHE          1423  ...   383   330  412   412   506   479   319   663   \n",
       "\n",
       "                   GR    TW  \n",
       "DRUG INEFFECTIVE  891   324  \n",
       "NAUSEA            196   261  \n",
       "DEATH             759  3311  \n",
       "FATIGUE           356   264  \n",
       "HEADACHE          238   124  \n",
       "\n",
       "[5 rows x 25 columns]"
      ]
     },
     "execution_count": 868,
     "metadata": {},
     "output_type": "execute_result"
    }
   ],
   "source": [
    "top25_c_by_r.head()"
   ]
  },
  {
   "cell_type": "code",
   "execution_count": 869,
   "metadata": {},
   "outputs": [
    {
     "data": {
      "text/html": [
       "<div>\n",
       "<style scoped>\n",
       "    .dataframe tbody tr th:only-of-type {\n",
       "        vertical-align: middle;\n",
       "    }\n",
       "\n",
       "    .dataframe tbody tr th {\n",
       "        vertical-align: top;\n",
       "    }\n",
       "\n",
       "    .dataframe thead th {\n",
       "        text-align: right;\n",
       "    }\n",
       "</style>\n",
       "<table border=\"1\" class=\"dataframe\">\n",
       "  <thead>\n",
       "    <tr style=\"text-align: right;\">\n",
       "      <th></th>\n",
       "      <th>US</th>\n",
       "      <th>GB</th>\n",
       "      <th>CA</th>\n",
       "      <th>JP</th>\n",
       "      <th>FR</th>\n",
       "      <th>DE</th>\n",
       "      <th>IT</th>\n",
       "      <th>BR</th>\n",
       "      <th>ES</th>\n",
       "      <th>AU</th>\n",
       "      <th>...</th>\n",
       "      <th>AR</th>\n",
       "      <th>TR</th>\n",
       "      <th>CH</th>\n",
       "      <th>PL</th>\n",
       "      <th>BE</th>\n",
       "      <th>PT</th>\n",
       "      <th>KR</th>\n",
       "      <th>MX</th>\n",
       "      <th>GR</th>\n",
       "      <th>TW</th>\n",
       "    </tr>\n",
       "  </thead>\n",
       "  <tbody>\n",
       "    <tr>\n",
       "      <th>ANXIETY</th>\n",
       "      <td>88643</td>\n",
       "      <td>6675</td>\n",
       "      <td>4863</td>\n",
       "      <td>414</td>\n",
       "      <td>3251</td>\n",
       "      <td>1495</td>\n",
       "      <td>698</td>\n",
       "      <td>1569</td>\n",
       "      <td>539</td>\n",
       "      <td>786</td>\n",
       "      <td>...</td>\n",
       "      <td>183</td>\n",
       "      <td>107</td>\n",
       "      <td>183</td>\n",
       "      <td>341</td>\n",
       "      <td>203</td>\n",
       "      <td>173</td>\n",
       "      <td>60</td>\n",
       "      <td>303</td>\n",
       "      <td>67</td>\n",
       "      <td>46</td>\n",
       "    </tr>\n",
       "    <tr>\n",
       "      <th>INSOMNIA</th>\n",
       "      <td>85896</td>\n",
       "      <td>6130</td>\n",
       "      <td>5570</td>\n",
       "      <td>1459</td>\n",
       "      <td>4286</td>\n",
       "      <td>1156</td>\n",
       "      <td>703</td>\n",
       "      <td>1991</td>\n",
       "      <td>559</td>\n",
       "      <td>592</td>\n",
       "      <td>...</td>\n",
       "      <td>110</td>\n",
       "      <td>154</td>\n",
       "      <td>122</td>\n",
       "      <td>187</td>\n",
       "      <td>159</td>\n",
       "      <td>189</td>\n",
       "      <td>159</td>\n",
       "      <td>251</td>\n",
       "      <td>77</td>\n",
       "      <td>120</td>\n",
       "    </tr>\n",
       "    <tr>\n",
       "      <th>INJECTION SITE PAIN</th>\n",
       "      <td>118734</td>\n",
       "      <td>534</td>\n",
       "      <td>2760</td>\n",
       "      <td>299</td>\n",
       "      <td>354</td>\n",
       "      <td>292</td>\n",
       "      <td>81</td>\n",
       "      <td>1277</td>\n",
       "      <td>150</td>\n",
       "      <td>265</td>\n",
       "      <td>...</td>\n",
       "      <td>88</td>\n",
       "      <td>145</td>\n",
       "      <td>53</td>\n",
       "      <td>12</td>\n",
       "      <td>66</td>\n",
       "      <td>37</td>\n",
       "      <td>34</td>\n",
       "      <td>36</td>\n",
       "      <td>12</td>\n",
       "      <td>20</td>\n",
       "    </tr>\n",
       "    <tr>\n",
       "      <th>DRUG DOSE OMISSION</th>\n",
       "      <td>135319</td>\n",
       "      <td>1322</td>\n",
       "      <td>1060</td>\n",
       "      <td>198</td>\n",
       "      <td>209</td>\n",
       "      <td>210</td>\n",
       "      <td>32</td>\n",
       "      <td>1118</td>\n",
       "      <td>66</td>\n",
       "      <td>287</td>\n",
       "      <td>...</td>\n",
       "      <td>56</td>\n",
       "      <td>48</td>\n",
       "      <td>23</td>\n",
       "      <td>14</td>\n",
       "      <td>30</td>\n",
       "      <td>19</td>\n",
       "      <td>24</td>\n",
       "      <td>49</td>\n",
       "      <td>21</td>\n",
       "      <td>10</td>\n",
       "    </tr>\n",
       "    <tr>\n",
       "      <th>WEIGHT DECREASED</th>\n",
       "      <td>76777</td>\n",
       "      <td>2247</td>\n",
       "      <td>9413</td>\n",
       "      <td>1135</td>\n",
       "      <td>3689</td>\n",
       "      <td>2811</td>\n",
       "      <td>725</td>\n",
       "      <td>4213</td>\n",
       "      <td>715</td>\n",
       "      <td>799</td>\n",
       "      <td>...</td>\n",
       "      <td>354</td>\n",
       "      <td>190</td>\n",
       "      <td>270</td>\n",
       "      <td>262</td>\n",
       "      <td>507</td>\n",
       "      <td>354</td>\n",
       "      <td>88</td>\n",
       "      <td>372</td>\n",
       "      <td>140</td>\n",
       "      <td>89</td>\n",
       "    </tr>\n",
       "  </tbody>\n",
       "</table>\n",
       "<p>5 rows × 25 columns</p>\n",
       "</div>"
      ],
      "text/plain": [
       "                         US    GB    CA    JP    FR    DE   IT    BR   ES  \\\n",
       "ANXIETY               88643  6675  4863   414  3251  1495  698  1569  539   \n",
       "INSOMNIA              85896  6130  5570  1459  4286  1156  703  1991  559   \n",
       "INJECTION SITE PAIN  118734   534  2760   299   354   292   81  1277  150   \n",
       "DRUG DOSE OMISSION   135319  1322  1060   198   209   210   32  1118   66   \n",
       "WEIGHT DECREASED      76777  2247  9413  1135  3689  2811  725  4213  715   \n",
       "\n",
       "                      AU  ...   AR   TR   CH   PL   BE   PT   KR   MX   GR  \\\n",
       "ANXIETY              786  ...  183  107  183  341  203  173   60  303   67   \n",
       "INSOMNIA             592  ...  110  154  122  187  159  189  159  251   77   \n",
       "INJECTION SITE PAIN  265  ...   88  145   53   12   66   37   34   36   12   \n",
       "DRUG DOSE OMISSION   287  ...   56   48   23   14   30   19   24   49   21   \n",
       "WEIGHT DECREASED     799  ...  354  190  270  262  507  354   88  372  140   \n",
       "\n",
       "                      TW  \n",
       "ANXIETY               46  \n",
       "INSOMNIA             120  \n",
       "INJECTION SITE PAIN   20  \n",
       "DRUG DOSE OMISSION    10  \n",
       "WEIGHT DECREASED      89  \n",
       "\n",
       "[5 rows x 25 columns]"
      ]
     },
     "execution_count": 869,
     "metadata": {},
     "output_type": "execute_result"
    }
   ],
   "source": [
    "top25_c_by_r.tail()"
   ]
  },
  {
   "cell_type": "code",
   "execution_count": 767,
   "metadata": {},
   "outputs": [
    {
     "data": {
      "text/html": [
       "<div>\n",
       "<style scoped>\n",
       "    .dataframe tbody tr th:only-of-type {\n",
       "        vertical-align: middle;\n",
       "    }\n",
       "\n",
       "    .dataframe tbody tr th {\n",
       "        vertical-align: top;\n",
       "    }\n",
       "\n",
       "    .dataframe thead th {\n",
       "        text-align: right;\n",
       "    }\n",
       "</style>\n",
       "<table border=\"1\" class=\"dataframe\">\n",
       "  <thead>\n",
       "    <tr style=\"text-align: right;\">\n",
       "      <th></th>\n",
       "      <th>term</th>\n",
       "      <th>count</th>\n",
       "    </tr>\n",
       "  </thead>\n",
       "  <tbody>\n",
       "    <tr>\n",
       "      <th>0</th>\n",
       "      <td>DRUG INEFFECTIVE</td>\n",
       "      <td>484075</td>\n",
       "    </tr>\n",
       "    <tr>\n",
       "      <th>1</th>\n",
       "      <td>FATIGUE</td>\n",
       "      <td>248898</td>\n",
       "    </tr>\n",
       "    <tr>\n",
       "      <th>2</th>\n",
       "      <td>NAUSEA</td>\n",
       "      <td>242231</td>\n",
       "    </tr>\n",
       "    <tr>\n",
       "      <th>3</th>\n",
       "      <td>OFF LABEL USE</td>\n",
       "      <td>231456</td>\n",
       "    </tr>\n",
       "    <tr>\n",
       "      <th>4</th>\n",
       "      <td>DEATH</td>\n",
       "      <td>226952</td>\n",
       "    </tr>\n",
       "    <tr>\n",
       "      <th>5</th>\n",
       "      <td>HEADACHE</td>\n",
       "      <td>209207</td>\n",
       "    </tr>\n",
       "    <tr>\n",
       "      <th>6</th>\n",
       "      <td>DIARRHOEA</td>\n",
       "      <td>186710</td>\n",
       "    </tr>\n",
       "    <tr>\n",
       "      <th>7</th>\n",
       "      <td>PAIN</td>\n",
       "      <td>180514</td>\n",
       "    </tr>\n",
       "    <tr>\n",
       "      <th>8</th>\n",
       "      <td>MALAISE</td>\n",
       "      <td>156517</td>\n",
       "    </tr>\n",
       "    <tr>\n",
       "      <th>9</th>\n",
       "      <td>DYSPNOEA</td>\n",
       "      <td>154037</td>\n",
       "    </tr>\n",
       "  </tbody>\n",
       "</table>\n",
       "</div>"
      ],
      "text/plain": [
       "               term   count\n",
       "0  DRUG INEFFECTIVE  484075\n",
       "1           FATIGUE  248898\n",
       "2            NAUSEA  242231\n",
       "3     OFF LABEL USE  231456\n",
       "4             DEATH  226952\n",
       "5          HEADACHE  209207\n",
       "6         DIARRHOEA  186710\n",
       "7              PAIN  180514\n",
       "8           MALAISE  156517\n",
       "9          DYSPNOEA  154037"
      ]
     },
     "execution_count": 767,
     "metadata": {},
     "output_type": "execute_result"
    }
   ],
   "source": [
    "results = query(\"&search=occurcountry.exact:\\\"US\\\"&count=patient.reaction.reactionmeddrapt.exact\")\n",
    "results.head(10)"
   ]
  },
  {
   "cell_type": "code",
   "execution_count": 789,
   "metadata": {},
   "outputs": [
    {
     "data": {
      "text/plain": [
       "['IL', 'AT', 'DK', 'IE', 'RU']"
      ]
     },
     "execution_count": 789,
     "metadata": {},
     "output_type": "execute_result"
    }
   ],
   "source": [
    "list(top_countries.term)[25:30]"
   ]
  },
  {
   "cell_type": "code",
   "execution_count": 795,
   "metadata": {},
   "outputs": [
    {
     "data": {
      "text/html": [
       "<div>\n",
       "<style scoped>\n",
       "    .dataframe tbody tr th:only-of-type {\n",
       "        vertical-align: middle;\n",
       "    }\n",
       "\n",
       "    .dataframe tbody tr th {\n",
       "        vertical-align: top;\n",
       "    }\n",
       "\n",
       "    .dataframe thead th {\n",
       "        text-align: right;\n",
       "    }\n",
       "</style>\n",
       "<table border=\"1\" class=\"dataframe\">\n",
       "  <thead>\n",
       "    <tr style=\"text-align: right;\">\n",
       "      <th></th>\n",
       "      <th>term</th>\n",
       "      <th>count</th>\n",
       "    </tr>\n",
       "  </thead>\n",
       "  <tbody>\n",
       "    <tr>\n",
       "      <th>0</th>\n",
       "      <td>DRUG INEFFECTIVE</td>\n",
       "      <td>1032</td>\n",
       "    </tr>\n",
       "    <tr>\n",
       "      <th>1</th>\n",
       "      <td>TOXICITY TO VARIOUS AGENTS</td>\n",
       "      <td>1022</td>\n",
       "    </tr>\n",
       "    <tr>\n",
       "      <th>2</th>\n",
       "      <td>DEATH</td>\n",
       "      <td>947</td>\n",
       "    </tr>\n",
       "    <tr>\n",
       "      <th>3</th>\n",
       "      <td>OFF LABEL USE</td>\n",
       "      <td>770</td>\n",
       "    </tr>\n",
       "    <tr>\n",
       "      <th>4</th>\n",
       "      <td>FOETAL EXPOSURE DURING PREGNANCY</td>\n",
       "      <td>740</td>\n",
       "    </tr>\n",
       "    <tr>\n",
       "      <th>5</th>\n",
       "      <td>NAUSEA</td>\n",
       "      <td>719</td>\n",
       "    </tr>\n",
       "    <tr>\n",
       "      <th>6</th>\n",
       "      <td>PYREXIA</td>\n",
       "      <td>701</td>\n",
       "    </tr>\n",
       "    <tr>\n",
       "      <th>7</th>\n",
       "      <td>DYSPNOEA</td>\n",
       "      <td>687</td>\n",
       "    </tr>\n",
       "    <tr>\n",
       "      <th>8</th>\n",
       "      <td>VOMITING</td>\n",
       "      <td>643</td>\n",
       "    </tr>\n",
       "    <tr>\n",
       "      <th>9</th>\n",
       "      <td>DRUG INTERACTION</td>\n",
       "      <td>555</td>\n",
       "    </tr>\n",
       "    <tr>\n",
       "      <th>10</th>\n",
       "      <td>SUICIDE ATTEMPT</td>\n",
       "      <td>520</td>\n",
       "    </tr>\n",
       "    <tr>\n",
       "      <th>11</th>\n",
       "      <td>HYPOTENSION</td>\n",
       "      <td>515</td>\n",
       "    </tr>\n",
       "    <tr>\n",
       "      <th>12</th>\n",
       "      <td>EXPOSURE DURING PREGNANCY</td>\n",
       "      <td>501</td>\n",
       "    </tr>\n",
       "    <tr>\n",
       "      <th>13</th>\n",
       "      <td>ASTHENIA</td>\n",
       "      <td>464</td>\n",
       "    </tr>\n",
       "    <tr>\n",
       "      <th>14</th>\n",
       "      <td>PNEUMONIA</td>\n",
       "      <td>452</td>\n",
       "    </tr>\n",
       "    <tr>\n",
       "      <th>15</th>\n",
       "      <td>OVERDOSE</td>\n",
       "      <td>449</td>\n",
       "    </tr>\n",
       "    <tr>\n",
       "      <th>16</th>\n",
       "      <td>THROMBOCYTOPENIA</td>\n",
       "      <td>397</td>\n",
       "    </tr>\n",
       "    <tr>\n",
       "      <th>17</th>\n",
       "      <td>FATIGUE</td>\n",
       "      <td>392</td>\n",
       "    </tr>\n",
       "    <tr>\n",
       "      <th>18</th>\n",
       "      <td>PRODUCT USE IN UNAPPROVED INDICATION</td>\n",
       "      <td>391</td>\n",
       "    </tr>\n",
       "    <tr>\n",
       "      <th>19</th>\n",
       "      <td>LOSS OF CONSCIOUSNESS</td>\n",
       "      <td>370</td>\n",
       "    </tr>\n",
       "    <tr>\n",
       "      <th>20</th>\n",
       "      <td>CARDIAC ARREST</td>\n",
       "      <td>359</td>\n",
       "    </tr>\n",
       "    <tr>\n",
       "      <th>21</th>\n",
       "      <td>DISEASE PROGRESSION</td>\n",
       "      <td>359</td>\n",
       "    </tr>\n",
       "    <tr>\n",
       "      <th>22</th>\n",
       "      <td>DIARRHOEA</td>\n",
       "      <td>354</td>\n",
       "    </tr>\n",
       "    <tr>\n",
       "      <th>23</th>\n",
       "      <td>INTENTIONAL OVERDOSE</td>\n",
       "      <td>352</td>\n",
       "    </tr>\n",
       "    <tr>\n",
       "      <th>24</th>\n",
       "      <td>MYOCARDIAL INFARCTION</td>\n",
       "      <td>349</td>\n",
       "    </tr>\n",
       "  </tbody>\n",
       "</table>\n",
       "</div>"
      ],
      "text/plain": [
       "                                    term  count\n",
       "0                       DRUG INEFFECTIVE   1032\n",
       "1             TOXICITY TO VARIOUS AGENTS   1022\n",
       "2                                  DEATH    947\n",
       "3                          OFF LABEL USE    770\n",
       "4       FOETAL EXPOSURE DURING PREGNANCY    740\n",
       "5                                 NAUSEA    719\n",
       "6                                PYREXIA    701\n",
       "7                               DYSPNOEA    687\n",
       "8                               VOMITING    643\n",
       "9                       DRUG INTERACTION    555\n",
       "10                       SUICIDE ATTEMPT    520\n",
       "11                           HYPOTENSION    515\n",
       "12             EXPOSURE DURING PREGNANCY    501\n",
       "13                              ASTHENIA    464\n",
       "14                             PNEUMONIA    452\n",
       "15                              OVERDOSE    449\n",
       "16                      THROMBOCYTOPENIA    397\n",
       "17                               FATIGUE    392\n",
       "18  PRODUCT USE IN UNAPPROVED INDICATION    391\n",
       "19                 LOSS OF CONSCIOUSNESS    370\n",
       "20                        CARDIAC ARREST    359\n",
       "21                   DISEASE PROGRESSION    359\n",
       "22                             DIARRHOEA    354\n",
       "23                  INTENTIONAL OVERDOSE    352\n",
       "24                 MYOCARDIAL INFARCTION    349"
      ]
     },
     "execution_count": 795,
     "metadata": {},
     "output_type": "execute_result"
    }
   ],
   "source": [
    "results = query(\"&search=occurcountry.exact:\\\"\"+'TR'+\"\\\"&count=patient.reaction.reactionmeddrapt.exact\")\n",
    "results.head(25)"
   ]
  },
  {
   "cell_type": "code",
   "execution_count": 804,
   "metadata": {},
   "outputs": [
    {
     "data": {
      "text/plain": [
       "17448"
      ]
     },
     "execution_count": 804,
     "metadata": {},
     "output_type": "execute_result"
    }
   ],
   "source": [
    "results[results.term==\"DEATH\"]['count'][0]"
   ]
  },
  {
   "cell_type": "code",
   "execution_count": 809,
   "metadata": {},
   "outputs": [
    {
     "data": {
      "text/plain": [
       "'LOWER RESPIRATORY TRACT INFECTION'"
      ]
     },
     "execution_count": 809,
     "metadata": {},
     "output_type": "execute_result"
    }
   ],
   "source": [
    "reaction"
   ]
  },
  {
   "cell_type": "code",
   "execution_count": 815,
   "metadata": {},
   "outputs": [
    {
     "data": {
      "text/plain": [
       "9592"
      ]
     },
     "execution_count": 815,
     "metadata": {},
     "output_type": "execute_result"
    }
   ],
   "source": [
    "int(results[results.term =='LOWER RESPIRATORY TRACT INFECTION']['count'])"
   ]
  },
  {
   "cell_type": "markdown",
   "metadata": {},
   "source": [
    "Normalize each cell by total number of reports per country"
   ]
  },
  {
   "cell_type": "code",
   "execution_count": 684,
   "metadata": {},
   "outputs": [],
   "source": [
    "df  = top25_c_by_r"
   ]
  },
  {
   "cell_type": "code",
   "execution_count": 626,
   "metadata": {},
   "outputs": [],
   "source": [
    "df=(df/df.sum())"
   ]
  },
  {
   "cell_type": "code",
   "execution_count": 627,
   "metadata": {},
   "outputs": [],
   "source": [
    "# df =  df.drop(['US','GB','CA'], axis=1)"
   ]
  },
  {
   "cell_type": "code",
   "execution_count": 628,
   "metadata": {},
   "outputs": [
    {
     "data": {
      "image/png": "[encoded data removed]",
      "text/plain": [
       "<Figure size 800x800 with 1 Axes>"
      ]
     },
     "metadata": {},
     "output_type": "display_data"
    }
   ],
   "source": [
    "figure(num=None, figsize=(10, 10), dpi=80, facecolor='w', edgecolor='k')\n",
    "plt.pcolor(df)\n",
    "plt.yticks(np.arange(0.5, len(df.index), 1), df.index)\n",
    "plt.xticks(np.arange(0.5, len(df.columns), 1), df.columns)\n",
    "plt.show()"
   ]
  },
  {
   "cell_type": "code",
   "execution_count": 406,
   "metadata": {},
   "outputs": [],
   "source": [
    "df  = top25_c_by_r"
   ]
  },
  {
   "cell_type": "code",
   "execution_count": 685,
   "metadata": {},
   "outputs": [],
   "source": [
    "#normalizing like this does not make much sense: \n",
    "# normalized_df=(df-df.mean())/df.std()\n",
    "df=(df-df.min())/(df.max()-df.min())"
   ]
  },
  {
   "cell_type": "code",
   "execution_count": 408,
   "metadata": {},
   "outputs": [
    {
     "data": {
      "image/png": "[encoded data removed]",
      "text/plain": [
       "<Figure size 800x800 with 1 Axes>"
      ]
     },
     "metadata": {},
     "output_type": "display_data"
    }
   ],
   "source": [
    "figure(num=None, figsize=(10, 10), dpi=80, facecolor='w', edgecolor='k')\n",
    "plt.pcolor(df)\n",
    "plt.yticks(np.arange(0.5, len(df.index), 1), df.index)\n",
    "plt.xticks(np.arange(0.5, len(df.columns), 1), df.columns)\n",
    "plt.show()"
   ]
  },
  {
   "cell_type": "code",
   "execution_count": 400,
   "metadata": {},
   "outputs": [],
   "source": [
    "df  = top25_c_by_r"
   ]
  },
  {
   "cell_type": "code",
   "execution_count": 309,
   "metadata": {},
   "outputs": [],
   "source": [
    "#normalizing like this does not make much sense: \n",
    "# normalized_df=(df-df.mean())/df.std()\n",
    "df=(df-df.mean())/df.std()"
   ]
  },
  {
   "cell_type": "code",
   "execution_count": 310,
   "metadata": {},
   "outputs": [
    {
     "data": {
      "image/png": "[encoded data removed]",
      "text/plain": [
       "<Figure size 800x800 with 1 Axes>"
      ]
     },
     "metadata": {},
     "output_type": "display_data"
    }
   ],
   "source": [
    "figure(num=None, figsize=(10, 10), dpi=80, facecolor='w', edgecolor='k')\n",
    "plt.pcolor(df)\n",
    "plt.yticks(np.arange(0.5, len(df.index), 1), df.index)\n",
    "plt.xticks(np.arange(0.5, len(df.columns), 1), df.columns)\n",
    "plt.show()"
   ]
  },
  {
   "cell_type": "markdown",
   "metadata": {},
   "source": [
    "Which countries are similar? Maybe we can reduce the dimensions, and visulize (+calculate) clusters."
   ]
  },
  {
   "cell_type": "code",
   "execution_count": 560,
   "metadata": {},
   "outputs": [
    {
     "name": "stdout",
     "output_type": "stream",
     "text": [
      "[[-0.10215425 -0.09238534  0.96899413 -0.09712213 -0.06452134 -0.06706649\n",
      "  -0.04315574 -0.04169232 -0.07141346 -0.03756094 -0.0429443  -0.03052678\n",
      "  -0.04216161 -0.04593108 -0.0338223   0.01375022 -0.0146195  -0.04778621\n",
      "   0.0149903  -0.01276825 -0.03749151 -0.02046886 -0.01151754 -0.0100401\n",
      "  -0.03058459]\n",
      " [-0.36364091 -0.09261864 -0.01063562  0.34257905  0.17981252 -0.1371389\n",
      "  -0.15270643  0.18003245 -0.27499993  0.09503518  0.38532608 -0.1747326\n",
      "  -0.15512013 -0.26205586  0.19477208 -0.33995008  0.20874198 -0.10946119\n",
      "  -0.0542756   0.17974887  0.13681956  0.05965107  0.02695184  0.04044729\n",
      "   0.09741792]]\n",
      "[0.70707556 0.08735523]\n"
     ]
    }
   ],
   "source": [
    "pca = PCA(n_components=2)\n",
    "df_pca = pca.fit_transform(df.T)\n",
    "print(pca.components_)\n",
    "print(pca.explained_variance_ratio_)"
   ]
  },
  {
   "cell_type": "code",
   "execution_count": 610,
   "metadata": {},
   "outputs": [
    {
     "data": {
      "text/html": [
       "<div>\n",
       "<style scoped>\n",
       "    .dataframe tbody tr th:only-of-type {\n",
       "        vertical-align: middle;\n",
       "    }\n",
       "\n",
       "    .dataframe tbody tr th {\n",
       "        vertical-align: top;\n",
       "    }\n",
       "\n",
       "    .dataframe thead th {\n",
       "        text-align: right;\n",
       "    }\n",
       "</style>\n",
       "<table border=\"1\" class=\"dataframe\">\n",
       "  <thead>\n",
       "    <tr style=\"text-align: right;\">\n",
       "      <th></th>\n",
       "      <th>term</th>\n",
       "      <th>count</th>\n",
       "    </tr>\n",
       "  </thead>\n",
       "  <tbody>\n",
       "    <tr>\n",
       "      <th>0</th>\n",
       "      <td>DRUG INEFFECTIVE</td>\n",
       "      <td>733191</td>\n",
       "    </tr>\n",
       "    <tr>\n",
       "      <th>3</th>\n",
       "      <td>FATIGUE</td>\n",
       "      <td>439328</td>\n",
       "    </tr>\n",
       "    <tr>\n",
       "      <th>8</th>\n",
       "      <td>OFF LABEL USE</td>\n",
       "      <td>324957</td>\n",
       "    </tr>\n",
       "    <tr>\n",
       "      <th>10</th>\n",
       "      <td>MALAISE</td>\n",
       "      <td>292069</td>\n",
       "    </tr>\n",
       "    <tr>\n",
       "      <th>13</th>\n",
       "      <td>ASTHENIA</td>\n",
       "      <td>231802</td>\n",
       "    </tr>\n",
       "    <tr>\n",
       "      <th>15</th>\n",
       "      <td>PYREXIA</td>\n",
       "      <td>212052</td>\n",
       "    </tr>\n",
       "  </tbody>\n",
       "</table>\n",
       "</div>"
      ],
      "text/plain": [
       "                term   count\n",
       "0   DRUG INEFFECTIVE  733191\n",
       "3            FATIGUE  439328\n",
       "8      OFF LABEL USE  324957\n",
       "10           MALAISE  292069\n",
       "13          ASTHENIA  231802\n",
       "15           PYREXIA  212052"
      ]
     },
     "execution_count": 610,
     "metadata": {},
     "output_type": "execute_result"
    }
   ],
   "source": [
    "top_reactions.iloc[[0, 3, 8, 10, 13, 15]]"
   ]
  },
  {
   "cell_type": "code",
   "execution_count": 562,
   "metadata": {},
   "outputs": [
    {
     "data": {
      "text/plain": [
       "(25, 25)"
      ]
     },
     "execution_count": 562,
     "metadata": {},
     "output_type": "execute_result"
    }
   ],
   "source": [
    "df.shape"
   ]
  },
  {
   "cell_type": "code",
   "execution_count": 563,
   "metadata": {},
   "outputs": [
    {
     "data": {
      "text/plain": [
       "(25, 2)"
      ]
     },
     "execution_count": 563,
     "metadata": {},
     "output_type": "execute_result"
    }
   ],
   "source": [
    "df_pca.shape"
   ]
  },
  {
   "cell_type": "code",
   "execution_count": 593,
   "metadata": {
    "scrolled": false
   },
   "outputs": [
    {
     "data": {
      "image/png": "[encoded data removed]",
      "text/plain": [
       "<Figure size 800x800 with 1 Axes>"
      ]
     },
     "metadata": {},
     "output_type": "display_data"
    }
   ],
   "source": [
    "figure(num=None, figsize=(10, 10), dpi=80, facecolor='w', edgecolor='k')\n",
    "plt.scatter(df_pca[:, 0], df_pca[:, 1], edgecolor='none', alpha=0.5)\n",
    "plt.xlabel('component 1')\n",
    "plt.ylabel('component 2')\n",
    "v_c = 0.003\n",
    "h_c = 0.005\n",
    "for i, col in enumerate(df.columns):\n",
    "    plt.annotate(country_name[col], (df_pca[i, 0]-h_c, df_pca[i, 1]-v_c),size=8)"
   ]
  },
  {
   "cell_type": "code",
   "execution_count": 624,
   "metadata": {},
   "outputs": [],
   "source": [
    "country_cluster_1 = ['SE','GB','AR','BR','CO','AU','MX', 'FR','CA','US','DE','BE']\n",
    "country_cluster_2 = ['CH','JP','PT','ES','IT','TR','GR','KR','PL','CN']\n",
    "country_cluster_3 = ['IN','TW','NL']"
   ]
  },
  {
   "cell_type": "code",
   "execution_count": 623,
   "metadata": {},
   "outputs": [
    {
     "name": "stdout",
     "output_type": "stream",
     "text": [
      "Sweden, United Kingdom, Argentina, Brazil, Colombia, Australia, Mexico, France, Canada, United States, Germany, Belgium, "
     ]
    }
   ],
   "source": [
    "for country_code in country_cluster_1:\n",
    "    print(country_name[country_code], end = ', ')"
   ]
  },
  {
   "cell_type": "code",
   "execution_count": 622,
   "metadata": {},
   "outputs": [
    {
     "name": "stdout",
     "output_type": "stream",
     "text": [
      "Switzerland, Japan, Portugal, Spain, Italy, Turkey, Greece, Korea, Republic of, Poland, China, "
     ]
    }
   ],
   "source": [
    "for country_code in country_cluster_2:\n",
    "    print(country_name[country_code], end=', ')"
   ]
  },
  {
   "cell_type": "code",
   "execution_count": 642,
   "metadata": {},
   "outputs": [],
   "source": [
    "df  = top25_c_by_r"
   ]
  },
  {
   "cell_type": "code",
   "execution_count": 643,
   "metadata": {},
   "outputs": [],
   "source": [
    "df=(df/df.sum())"
   ]
  },
  {
   "cell_type": "code",
   "execution_count": 637,
   "metadata": {},
   "outputs": [],
   "source": [
    "# df =  df.drop(['US','GB','CA'], axis=1)"
   ]
  },
  {
   "cell_type": "code",
   "execution_count": 638,
   "metadata": {},
   "outputs": [
    {
     "data": {
      "image/png": "[encoded data removed]",
      "text/plain": [
       "<Figure size 800x800 with 1 Axes>"
      ]
     },
     "metadata": {},
     "output_type": "display_data"
    }
   ],
   "source": [
    "figure(num=None, figsize=(10, 10), dpi=80, facecolor='w', edgecolor='k')\n",
    "plt.pcolor(df)\n",
    "plt.yticks(np.arange(0.5, len(df.index), 1), df.index)\n",
    "plt.xticks(np.arange(0.5, len(df.columns), 1), df.columns)\n",
    "plt.show()"
   ]
  },
  {
   "cell_type": "markdown",
   "metadata": {},
   "source": [
    "Rearranging columns of the dataframe based on clusters"
   ]
  },
  {
   "cell_type": "code",
   "execution_count": 686,
   "metadata": {},
   "outputs": [],
   "source": [
    "df = df[country_cluster_1+country_cluster_2+country_cluster_3]"
   ]
  },
  {
   "cell_type": "code",
   "execution_count": 891,
   "metadata": {},
   "outputs": [
    {
     "data": {
      "image/png": "[encoded data removed]",
      "text/plain": [
       "<Figure size 800x800 with 1 Axes>"
      ]
     },
     "metadata": {},
     "output_type": "display_data"
    }
   ],
   "source": [
    "figure(num=None, figsize=(10, 10), dpi=80, facecolor='w', edgecolor='k')\n",
    "plt.pcolor(df)\n",
    "plt.yticks(np.arange(0.5, len(df.index), 1), df.index)\n",
    "plt.xticks(np.arange(0.5, len(df.columns), 1), df.columns)\n",
    "plt.show()"
   ]
  },
  {
   "cell_type": "code",
   "execution_count": null,
   "metadata": {},
   "outputs": [],
   "source": []
  },
  {
   "cell_type": "code",
   "execution_count": 892,
   "metadata": {},
   "outputs": [],
   "source": [
    "df  = top25_c_by_100_r"
   ]
  },
  {
   "cell_type": "code",
   "execution_count": 893,
   "metadata": {},
   "outputs": [],
   "source": [
    "df=(df/df.sum())"
   ]
  },
  {
   "cell_type": "code",
   "execution_count": 894,
   "metadata": {},
   "outputs": [],
   "source": [
    "# df =  df.drop(['US','GB','CA'], axis=1)"
   ]
  },
  {
   "cell_type": "code",
   "execution_count": 898,
   "metadata": {},
   "outputs": [
    {
     "data": {
      "image/png": "[encoded data removed]",
      "text/plain": [
       "<Figure size 800x2000 with 1 Axes>"
      ]
     },
     "metadata": {},
     "output_type": "display_data"
    }
   ],
   "source": [
    "figure(num=None, figsize=(10, 25), dpi=80, facecolor='w', edgecolor='k')\n",
    "plt.pcolor(df)\n",
    "plt.yticks(np.arange(0.5, len(df.index), 1), df.index)\n",
    "plt.xticks(np.arange(0.5, len(df.columns), 1), df.columns)\n",
    "plt.show()"
   ]
  },
  {
   "cell_type": "code",
   "execution_count": 899,
   "metadata": {},
   "outputs": [
    {
     "data": {
      "text/plain": [
       "'Sweden'"
      ]
     },
     "execution_count": 899,
     "metadata": {},
     "output_type": "execute_result"
    }
   ],
   "source": [
    "country_name['SE']"
   ]
  },
  {
   "cell_type": "code",
   "execution_count": 903,
   "metadata": {},
   "outputs": [
    {
     "name": "stdout",
     "output_type": "stream",
     "text": [
      "[[-6.23942867e-02 -5.97200114e-02  9.68592427e-01 -6.14371334e-02\n",
      "  -3.88098707e-02 -3.65235202e-02 -1.17061050e-02 -1.90861088e-02\n",
      "  -3.84041755e-02 -1.60382268e-02 -1.90878833e-02 -4.68200141e-03\n",
      "  -2.62448243e-02 -2.26595353e-02 -1.70828791e-02  3.92102877e-02\n",
      "   2.95700723e-03 -3.16350684e-02  3.38312895e-02 -8.60428620e-04\n",
      "  -2.58376868e-02 -1.06201595e-02 -7.65740312e-03 -6.90971959e-03\n",
      "  -1.64224620e-02 -1.71127820e-03 -1.96965761e-02  6.41043176e-03\n",
      "  -5.07148500e-03 -2.22535218e-02  4.75787744e-02 -1.42805937e-02\n",
      "  -1.12148653e-02  9.32100799e-03  1.29287596e-02 -1.44619028e-03\n",
      "  -9.50597829e-03 -2.38340302e-02 -1.12463230e-02 -3.36251541e-02\n",
      "  -1.61863866e-02 -4.05658021e-02 -1.13139473e-02 -1.82847028e-02\n",
      "   3.41397004e-03  1.07289433e-02 -5.52143565e-03 -1.51189721e-02\n",
      "  -2.21326242e-02 -1.53587245e-02 -1.85745377e-02  3.79774066e-03\n",
      "  -2.77091316e-03 -3.92864574e-02 -2.48579263e-02 -8.62449692e-02\n",
      "  -5.14830052e-02 -3.10880984e-02  1.15805256e-02 -8.21023073e-03\n",
      "   4.03345005e-03 -3.92985757e-03 -3.25888454e-02  1.27790355e-03\n",
      "   3.23835068e-03 -6.95919353e-03 -1.52416458e-02 -9.43248825e-03\n",
      "   4.14995164e-03 -1.75844778e-02 -9.66139463e-03 -4.30560261e-03\n",
      "  -7.05117342e-03  8.90948629e-04  1.30470078e-03  5.26262666e-02\n",
      "  -5.35306701e-03 -4.65732199e-02 -7.38566451e-03  2.51730139e-03\n",
      "   8.44388646e-04 -8.64998936e-03 -4.20393423e-03  1.94111840e-03\n",
      "   1.38741609e-02  3.33967796e-02  5.02766522e-02 -1.39089214e-02\n",
      "   3.31324595e-02  3.06832679e-02 -3.65697589e-02 -2.54970926e-02\n",
      "  -5.54308581e-03 -2.25094499e-02 -6.76509288e-03 -3.45194870e-03\n",
      "  -6.28700279e-04 -1.38302934e-03  7.60856998e-03 -2.26558207e-03]\n",
      " [ 1.14238861e-01 -7.61132757e-02 -8.73077735e-02  2.83969484e-02\n",
      "   1.22124398e-01 -3.47849135e-02 -6.07267445e-02  2.34847242e-01\n",
      "  -8.26179022e-02  3.50148813e-02  3.18584694e-01 -9.27744801e-02\n",
      "  -4.79379409e-02 -7.62104780e-02  1.77182173e-01 -1.19398284e-01\n",
      "   1.43567451e-01 -5.59598659e-02  9.15934001e-02  1.74961354e-01\n",
      "   1.75115542e-02  4.12460276e-02  5.57140791e-02  6.28074699e-02\n",
      "   1.02763706e-01  1.19690149e-01  5.19415002e-02  6.89048630e-02\n",
      "   5.29662986e-02 -3.00469521e-02 -2.12163674e-04 -1.56750092e-04\n",
      "   3.18335440e-02 -1.91197895e-02  4.37237589e-02  3.88462045e-02\n",
      "   1.57420773e-02 -6.71584266e-02  2.62189043e-02 -5.67326928e-02\n",
      "  -1.18049719e-01 -1.19553456e-01  2.26676201e-02  1.20876369e-02\n",
      "   1.11514290e-01  6.00529366e-02 -8.80679466e-03  4.45314969e-03\n",
      "  -3.58117561e-02 -3.04366845e-02  2.64217085e-02  6.40809545e-02\n",
      "   1.99315348e-02 -9.98219303e-02 -1.43180854e-02 -3.45879063e-01\n",
      "  -3.65912765e-01 -5.16905551e-02  9.61923588e-02  1.22807150e-02\n",
      "   3.67193170e-02  2.84198445e-02 -2.92306101e-01  9.54317377e-02\n",
      "   4.39412241e-02 -3.16117394e-02 -4.56547850e-02  1.35682708e-02\n",
      "   6.11610438e-02 -3.50536948e-02 -8.30534174e-02  1.45801606e-02\n",
      "   1.59971882e-02  6.71482650e-02 -1.03800361e-01  5.78164320e-02\n",
      "   7.79616739e-03 -1.91259853e-01 -3.99082070e-02  8.74104612e-02\n",
      "  -8.85056470e-03 -9.00055615e-03  4.79014143e-02 -1.10203289e-02\n",
      "   4.75582132e-02 -7.24710070e-02  3.52400630e-02 -4.69351610e-02\n",
      "  -1.93763486e-02 -1.89717214e-03 -1.82755241e-01 -1.60489574e-01\n",
      "  -3.42777020e-02 -4.04712044e-02  4.59868121e-02  2.82381866e-02\n",
      "   1.30957133e-01 -1.10594792e-02  1.81543291e-02  3.46610308e-02]]\n",
      "[0.56961741 0.10565023]\n"
     ]
    }
   ],
   "source": [
    "pca = PCA(n_components=2)\n",
    "df_pca = pca.fit_transform(df.T)\n",
    "print(pca.components_)\n",
    "print(pca.explained_variance_ratio_)"
   ]
  },
  {
   "cell_type": "code",
   "execution_count": 904,
   "metadata": {},
   "outputs": [
    {
     "data": {
      "text/plain": [
       "(100, 25)"
      ]
     },
     "execution_count": 904,
     "metadata": {},
     "output_type": "execute_result"
    }
   ],
   "source": [
    "df.shape"
   ]
  },
  {
   "cell_type": "code",
   "execution_count": 905,
   "metadata": {},
   "outputs": [
    {
     "data": {
      "text/plain": [
       "(25, 2)"
      ]
     },
     "execution_count": 905,
     "metadata": {},
     "output_type": "execute_result"
    }
   ],
   "source": [
    "df_pca.shape"
   ]
  },
  {
   "cell_type": "code",
   "execution_count": 910,
   "metadata": {
    "scrolled": false
   },
   "outputs": [
    {
     "data": {
      "image/png": "[encoded data removed]",
      "text/plain": [
       "<Figure size 800x800 with 1 Axes>"
      ]
     },
     "metadata": {},
     "output_type": "display_data"
    }
   ],
   "source": [
    "figure(num=None, figsize=(10, 10), dpi=80, facecolor='w', edgecolor='k')\n",
    "plt.scatter(df_pca[:, 0], df_pca[:, 1], edgecolor='none', alpha=0.5)\n",
    "plt.xlabel('component 1')\n",
    "plt.ylabel('component 2')\n",
    "v_c = 0.003\n",
    "h_c = 0.005\n",
    "for i, col in enumerate(df.columns):\n",
    "    plt.annotate(country_name[col], (df_pca[i, 0]-h_c, df_pca[i, 1]-v_c),size=8)"
   ]
  },
  {
   "cell_type": "code",
   "execution_count": 593,
   "metadata": {
    "scrolled": false
   },
   "outputs": [
    {
     "data": {
      "image/png": "[encoded data removed]",
      "text/plain": [
       "<Figure size 800x800 with 1 Axes>"
      ]
     },
     "metadata": {},
     "output_type": "display_data"
    }
   ],
   "source": [
    "figure(num=None, figsize=(10, 10), dpi=80, facecolor='w', edgecolor='k')\n",
    "plt.scatter(df_pca[:, 0], df_pca[:, 1], edgecolor='none', alpha=0.5)\n",
    "plt.xlabel('component 1')\n",
    "plt.ylabel('component 2')\n",
    "v_c = 0.003\n",
    "h_c = 0.005\n",
    "for i, col in enumerate(df.columns):\n",
    "    plt.annotate(country_name[col], (df_pca[i, 0]-h_c, df_pca[i, 1]-v_c),size=8)"
   ]
  },
  {
   "cell_type": "code",
   "execution_count": null,
   "metadata": {},
   "outputs": [],
   "source": []
  },
  {
   "cell_type": "markdown",
   "metadata": {},
   "source": [
    "###### ANSWER:"
   ]
  },
  {
   "cell_type": "markdown",
   "metadata": {},
   "source": [
    "Looks like YES, **different adverse events** are reported in **different countries**.\n",
    "\n",
    "Furthermore:\n",
    "- We see that certain countries have similar patterns in terms of drug reactions reported:\n",
    "    - **Netherlands, Taiwan and India** cluster together because reports of Death seem to be very high from these countries.\n",
    "    - The rest of the crowd is split into 2 clusters:\n",
    "        - Cluster 1: Sweden, United Kingdom, Argentina, Brazil, Colombia, Australia, Mexico, France, Canada, United States, Germany, Belgium\n",
    "        - Cluster 2: Switzerland, Japan, Portugal, Spain, Italy, Turkey, Greece, Korea, Republic of, Poland, China\n",
    "        - These 2 clusters differ by mostly the second PC\n",
    "- When we do the PCA analysis, we see that the top 2 principal components that explain 79% (~71+~8%) of the variance and correspond mainly to the following drug reactions:\n",
    "    - Death\n",
    "    - Combination of DRUG INEFFECTIVE, FATIGUE, OFF LABEL USE, MALAISE, ASTHENIA, PYREXIA,"
   ]
  },
  {
   "cell_type": "markdown",
   "metadata": {},
   "source": [
    "###### 2. What are the different adverse events associated with different disease areas?"
   ]
  },
  {
   "cell_type": "markdown",
   "metadata": {},
   "source": [
    "Relevant fields:\n",
    "- `patient.reaction.reactionmeddrapt` : **Patient reaction, as a MedDRA term. Note that these terms are encoded in British English. For instance, diarrhea is spelled diarrohea. MedDRA is a standardized medical terminology. DRUG REACTION / ADVERSE EVENT TYPE**          \n",
    "- `patient.drug.drugindication` :  **Indication for the drug’s use. DRUG INDICATION / DISEASE AREA**"
   ]
  },
  {
   "cell_type": "code",
   "execution_count": 761,
   "metadata": {},
   "outputs": [
    {
     "data": {
      "text/html": [
       "<div>\n",
       "<style scoped>\n",
       "    .dataframe tbody tr th:only-of-type {\n",
       "        vertical-align: middle;\n",
       "    }\n",
       "\n",
       "    .dataframe tbody tr th {\n",
       "        vertical-align: top;\n",
       "    }\n",
       "\n",
       "    .dataframe thead th {\n",
       "        text-align: right;\n",
       "    }\n",
       "</style>\n",
       "<table border=\"1\" class=\"dataframe\">\n",
       "  <thead>\n",
       "    <tr style=\"text-align: right;\">\n",
       "      <th></th>\n",
       "      <th>term</th>\n",
       "      <th>count</th>\n",
       "    </tr>\n",
       "  </thead>\n",
       "  <tbody>\n",
       "    <tr>\n",
       "      <th>0</th>\n",
       "      <td>PRODUCT USED FOR UNKNOWN INDICATION</td>\n",
       "      <td>2694281</td>\n",
       "    </tr>\n",
       "    <tr>\n",
       "      <th>1</th>\n",
       "      <td>RHEUMATOID ARTHRITIS</td>\n",
       "      <td>612292</td>\n",
       "    </tr>\n",
       "    <tr>\n",
       "      <th>2</th>\n",
       "      <td>MULTIPLE SCLEROSIS</td>\n",
       "      <td>497499</td>\n",
       "    </tr>\n",
       "    <tr>\n",
       "      <th>3</th>\n",
       "      <td>HYPERTENSION</td>\n",
       "      <td>375888</td>\n",
       "    </tr>\n",
       "    <tr>\n",
       "      <th>4</th>\n",
       "      <td>PAIN</td>\n",
       "      <td>261658</td>\n",
       "    </tr>\n",
       "    <tr>\n",
       "      <th>5</th>\n",
       "      <td>PSORIASIS</td>\n",
       "      <td>259440</td>\n",
       "    </tr>\n",
       "    <tr>\n",
       "      <th>6</th>\n",
       "      <td>DIABETES MELLITUS</td>\n",
       "      <td>242301</td>\n",
       "    </tr>\n",
       "    <tr>\n",
       "      <th>7</th>\n",
       "      <td>DEPRESSION</td>\n",
       "      <td>224270</td>\n",
       "    </tr>\n",
       "    <tr>\n",
       "      <th>8</th>\n",
       "      <td>PLASMA CELL MYELOMA</td>\n",
       "      <td>217973</td>\n",
       "    </tr>\n",
       "    <tr>\n",
       "      <th>9</th>\n",
       "      <td>TYPE 2 DIABETES MELLITUS</td>\n",
       "      <td>205001</td>\n",
       "    </tr>\n",
       "  </tbody>\n",
       "</table>\n",
       "</div>"
      ],
      "text/plain": [
       "                                  term    count\n",
       "0  PRODUCT USED FOR UNKNOWN INDICATION  2694281\n",
       "1                 RHEUMATOID ARTHRITIS   612292\n",
       "2                   MULTIPLE SCLEROSIS   497499\n",
       "3                         HYPERTENSION   375888\n",
       "4                                 PAIN   261658\n",
       "5                            PSORIASIS   259440\n",
       "6                    DIABETES MELLITUS   242301\n",
       "7                           DEPRESSION   224270\n",
       "8                  PLASMA CELL MYELOMA   217973\n",
       "9             TYPE 2 DIABETES MELLITUS   205001"
      ]
     },
     "execution_count": 761,
     "metadata": {},
     "output_type": "execute_result"
    }
   ],
   "source": [
    "top_dis_areas = query(\"&count=patient.drug.drugindication.exact\")\n",
    "top_dis_areas.head(10)"
   ]
  },
  {
   "cell_type": "code",
   "execution_count": 762,
   "metadata": {},
   "outputs": [
    {
     "data": {
      "text/html": [
       "<div>\n",
       "<style scoped>\n",
       "    .dataframe tbody tr th:only-of-type {\n",
       "        vertical-align: middle;\n",
       "    }\n",
       "\n",
       "    .dataframe tbody tr th {\n",
       "        vertical-align: top;\n",
       "    }\n",
       "\n",
       "    .dataframe thead th {\n",
       "        text-align: right;\n",
       "    }\n",
       "</style>\n",
       "<table border=\"1\" class=\"dataframe\">\n",
       "  <thead>\n",
       "    <tr style=\"text-align: right;\">\n",
       "      <th></th>\n",
       "      <th>term</th>\n",
       "      <th>count</th>\n",
       "    </tr>\n",
       "  </thead>\n",
       "  <tbody>\n",
       "    <tr>\n",
       "      <th>0</th>\n",
       "      <td>DRUG INEFFECTIVE</td>\n",
       "      <td>733191</td>\n",
       "    </tr>\n",
       "    <tr>\n",
       "      <th>1</th>\n",
       "      <td>NAUSEA</td>\n",
       "      <td>485098</td>\n",
       "    </tr>\n",
       "    <tr>\n",
       "      <th>2</th>\n",
       "      <td>DEATH</td>\n",
       "      <td>474541</td>\n",
       "    </tr>\n",
       "    <tr>\n",
       "      <th>3</th>\n",
       "      <td>FATIGUE</td>\n",
       "      <td>439328</td>\n",
       "    </tr>\n",
       "    <tr>\n",
       "      <th>4</th>\n",
       "      <td>HEADACHE</td>\n",
       "      <td>388310</td>\n",
       "    </tr>\n",
       "    <tr>\n",
       "      <th>5</th>\n",
       "      <td>DIARRHOEA</td>\n",
       "      <td>359872</td>\n",
       "    </tr>\n",
       "    <tr>\n",
       "      <th>6</th>\n",
       "      <td>DYSPNOEA</td>\n",
       "      <td>344540</td>\n",
       "    </tr>\n",
       "    <tr>\n",
       "      <th>7</th>\n",
       "      <td>PAIN</td>\n",
       "      <td>326354</td>\n",
       "    </tr>\n",
       "    <tr>\n",
       "      <th>8</th>\n",
       "      <td>OFF LABEL USE</td>\n",
       "      <td>324957</td>\n",
       "    </tr>\n",
       "    <tr>\n",
       "      <th>9</th>\n",
       "      <td>DIZZINESS</td>\n",
       "      <td>313617</td>\n",
       "    </tr>\n",
       "  </tbody>\n",
       "</table>\n",
       "</div>"
      ],
      "text/plain": [
       "               term   count\n",
       "0  DRUG INEFFECTIVE  733191\n",
       "1            NAUSEA  485098\n",
       "2             DEATH  474541\n",
       "3           FATIGUE  439328\n",
       "4          HEADACHE  388310\n",
       "5         DIARRHOEA  359872\n",
       "6          DYSPNOEA  344540\n",
       "7              PAIN  326354\n",
       "8     OFF LABEL USE  324957\n",
       "9         DIZZINESS  313617"
      ]
     },
     "execution_count": 762,
     "metadata": {},
     "output_type": "execute_result"
    }
   ],
   "source": [
    "top_reactions = query(\"&count=patient.reaction.reactionmeddrapt.exact\")\n",
    "top_reactions.head(10)"
   ]
  },
  {
   "cell_type": "code",
   "execution_count": 765,
   "metadata": {},
   "outputs": [
    {
     "data": {
      "text/html": [
       "<div>\n",
       "<style scoped>\n",
       "    .dataframe tbody tr th:only-of-type {\n",
       "        vertical-align: middle;\n",
       "    }\n",
       "\n",
       "    .dataframe tbody tr th {\n",
       "        vertical-align: top;\n",
       "    }\n",
       "\n",
       "    .dataframe thead th {\n",
       "        text-align: right;\n",
       "    }\n",
       "</style>\n",
       "<table border=\"1\" class=\"dataframe\">\n",
       "  <thead>\n",
       "    <tr style=\"text-align: right;\">\n",
       "      <th></th>\n",
       "      <th>term</th>\n",
       "      <th>count</th>\n",
       "    </tr>\n",
       "  </thead>\n",
       "  <tbody>\n",
       "    <tr>\n",
       "      <th>0</th>\n",
       "      <td>DRUG INEFFECTIVE</td>\n",
       "      <td>66174</td>\n",
       "    </tr>\n",
       "    <tr>\n",
       "      <th>1</th>\n",
       "      <td>RHEUMATOID ARTHRITIS</td>\n",
       "      <td>46076</td>\n",
       "    </tr>\n",
       "    <tr>\n",
       "      <th>2</th>\n",
       "      <td>INJECTION SITE PAIN</td>\n",
       "      <td>44805</td>\n",
       "    </tr>\n",
       "    <tr>\n",
       "      <th>3</th>\n",
       "      <td>ARTHRALGIA</td>\n",
       "      <td>42584</td>\n",
       "    </tr>\n",
       "    <tr>\n",
       "      <th>4</th>\n",
       "      <td>PAIN</td>\n",
       "      <td>36150</td>\n",
       "    </tr>\n",
       "    <tr>\n",
       "      <th>5</th>\n",
       "      <td>INJECTION SITE ERYTHEMA</td>\n",
       "      <td>28149</td>\n",
       "    </tr>\n",
       "    <tr>\n",
       "      <th>6</th>\n",
       "      <td>PAIN IN EXTREMITY</td>\n",
       "      <td>26158</td>\n",
       "    </tr>\n",
       "    <tr>\n",
       "      <th>7</th>\n",
       "      <td>FATIGUE</td>\n",
       "      <td>25487</td>\n",
       "    </tr>\n",
       "    <tr>\n",
       "      <th>8</th>\n",
       "      <td>HEADACHE</td>\n",
       "      <td>23981</td>\n",
       "    </tr>\n",
       "    <tr>\n",
       "      <th>9</th>\n",
       "      <td>NAUSEA</td>\n",
       "      <td>20821</td>\n",
       "    </tr>\n",
       "  </tbody>\n",
       "</table>\n",
       "</div>"
      ],
      "text/plain": [
       "                      term  count\n",
       "0         DRUG INEFFECTIVE  66174\n",
       "1     RHEUMATOID ARTHRITIS  46076\n",
       "2      INJECTION SITE PAIN  44805\n",
       "3               ARTHRALGIA  42584\n",
       "4                     PAIN  36150\n",
       "5  INJECTION SITE ERYTHEMA  28149\n",
       "6        PAIN IN EXTREMITY  26158\n",
       "7                  FATIGUE  25487\n",
       "8                 HEADACHE  23981\n",
       "9                   NAUSEA  20821"
      ]
     },
     "execution_count": 765,
     "metadata": {},
     "output_type": "execute_result"
    }
   ],
   "source": [
    "results = query(\"&search=patient.drug.drugindication.exact:\\\"RHEUMATOID ARTHRITIS\\\"&count=patient.reaction.reactionmeddrapt.exact\")\n",
    "results.head(10)"
   ]
  },
  {
   "cell_type": "code",
   "execution_count": 771,
   "metadata": {},
   "outputs": [
    {
     "data": {
      "text/html": [
       "<div>\n",
       "<style scoped>\n",
       "    .dataframe tbody tr th:only-of-type {\n",
       "        vertical-align: middle;\n",
       "    }\n",
       "\n",
       "    .dataframe tbody tr th {\n",
       "        vertical-align: top;\n",
       "    }\n",
       "\n",
       "    .dataframe thead th {\n",
       "        text-align: right;\n",
       "    }\n",
       "</style>\n",
       "<table border=\"1\" class=\"dataframe\">\n",
       "  <thead>\n",
       "    <tr style=\"text-align: right;\">\n",
       "      <th></th>\n",
       "      <th>term</th>\n",
       "      <th>count</th>\n",
       "    </tr>\n",
       "  </thead>\n",
       "  <tbody>\n",
       "    <tr>\n",
       "      <th>0</th>\n",
       "      <td>FATIGUE</td>\n",
       "      <td>42655</td>\n",
       "    </tr>\n",
       "    <tr>\n",
       "      <th>1</th>\n",
       "      <td>MULTIPLE SCLEROSIS RELAPSE</td>\n",
       "      <td>40050</td>\n",
       "    </tr>\n",
       "    <tr>\n",
       "      <th>2</th>\n",
       "      <td>HEADACHE</td>\n",
       "      <td>26594</td>\n",
       "    </tr>\n",
       "    <tr>\n",
       "      <th>3</th>\n",
       "      <td>FALL</td>\n",
       "      <td>26252</td>\n",
       "    </tr>\n",
       "    <tr>\n",
       "      <th>4</th>\n",
       "      <td>GAIT DISTURBANCE</td>\n",
       "      <td>24487</td>\n",
       "    </tr>\n",
       "    <tr>\n",
       "      <th>5</th>\n",
       "      <td>MULTIPLE SCLEROSIS</td>\n",
       "      <td>21455</td>\n",
       "    </tr>\n",
       "    <tr>\n",
       "      <th>6</th>\n",
       "      <td>MEMORY IMPAIRMENT</td>\n",
       "      <td>20811</td>\n",
       "    </tr>\n",
       "    <tr>\n",
       "      <th>7</th>\n",
       "      <td>NAUSEA</td>\n",
       "      <td>19063</td>\n",
       "    </tr>\n",
       "    <tr>\n",
       "      <th>8</th>\n",
       "      <td>ASTHENIA</td>\n",
       "      <td>18711</td>\n",
       "    </tr>\n",
       "    <tr>\n",
       "      <th>9</th>\n",
       "      <td>PAIN</td>\n",
       "      <td>18430</td>\n",
       "    </tr>\n",
       "  </tbody>\n",
       "</table>\n",
       "</div>"
      ],
      "text/plain": [
       "                         term  count\n",
       "0                     FATIGUE  42655\n",
       "1  MULTIPLE SCLEROSIS RELAPSE  40050\n",
       "2                    HEADACHE  26594\n",
       "3                        FALL  26252\n",
       "4            GAIT DISTURBANCE  24487\n",
       "5          MULTIPLE SCLEROSIS  21455\n",
       "6           MEMORY IMPAIRMENT  20811\n",
       "7                      NAUSEA  19063\n",
       "8                    ASTHENIA  18711\n",
       "9                        PAIN  18430"
      ]
     },
     "execution_count": 771,
     "metadata": {},
     "output_type": "execute_result"
    }
   ],
   "source": [
    "results = query(\"&search=patient.drug.drugindication.exact:\\\"MULTIPLE SCLEROSIS\\\"&count=patient.reaction.reactionmeddrapt.exact\")\n",
    "results.head(10)"
   ]
  },
  {
   "cell_type": "code",
   "execution_count": 779,
   "metadata": {},
   "outputs": [
    {
     "name": "stdout",
     "output_type": "stream",
     "text": [
      "                      term  count\n",
      "0  BLOOD GLUCOSE INCREASED  31242\n",
      "1                   NAUSEA  15657\n",
      "2         WEIGHT DECREASED  10524\n",
      "3  BLOOD GLUCOSE DECREASED   8500\n",
      "4                DIARRHOEA   8319\n"
     ]
    }
   ],
   "source": [
    "print(results.head())"
   ]
  },
  {
   "cell_type": "code",
   "execution_count": 784,
   "metadata": {
    "scrolled": true
   },
   "outputs": [
    {
     "name": "stdout",
     "output_type": "stream",
     "text": [
      "PRODUCT USED FOR UNKNOWN INDICATION\n",
      "               term   count\n",
      "0  DRUG INEFFECTIVE  172379\n",
      "1             DEATH  125463\n",
      "2           FATIGUE  102186\n",
      "3            NAUSEA  101916\n",
      "4         DIARRHOEA   87574\n",
      "5          HEADACHE   84506\n",
      "6          DYSPNOEA   78800\n",
      "7           MALAISE   73939\n",
      "8         DIZZINESS   70708\n",
      "9              PAIN   67077\n",
      "RHEUMATOID ARTHRITIS\n",
      "                      term  count\n",
      "0         DRUG INEFFECTIVE  66174\n",
      "1     RHEUMATOID ARTHRITIS  46076\n",
      "2      INJECTION SITE PAIN  44805\n",
      "3               ARTHRALGIA  42584\n",
      "4                     PAIN  36150\n",
      "5  INJECTION SITE ERYTHEMA  28149\n",
      "6        PAIN IN EXTREMITY  26158\n",
      "7                  FATIGUE  25487\n",
      "8                 HEADACHE  23981\n",
      "9                   NAUSEA  20821\n",
      "MULTIPLE SCLEROSIS\n",
      "                         term  count\n",
      "0                     FATIGUE  42655\n",
      "1  MULTIPLE SCLEROSIS RELAPSE  40050\n",
      "2                    HEADACHE  26594\n",
      "3                        FALL  26252\n",
      "4            GAIT DISTURBANCE  24487\n",
      "5          MULTIPLE SCLEROSIS  21455\n",
      "6           MEMORY IMPAIRMENT  20811\n",
      "7                      NAUSEA  19063\n",
      "8                    ASTHENIA  18711\n",
      "9                        PAIN  18430\n",
      "HYPERTENSION\n",
      "                       term  count\n",
      "0          DRUG INEFFECTIVE  22305\n",
      "1                 DIZZINESS  18477\n",
      "2                  DYSPNOEA  17058\n",
      "3                    NAUSEA  17041\n",
      "4                 DIARRHOEA  15847\n",
      "5                   FATIGUE  15425\n",
      "6                  HEADACHE  14788\n",
      "7              HYPERTENSION  13707\n",
      "8  BLOOD PRESSURE INCREASED  12575\n",
      "9                      FALL  12553\n",
      "PAIN\n",
      "                         term  count\n",
      "0            DRUG INEFFECTIVE  27313\n",
      "1                        PAIN  21719\n",
      "2                      NAUSEA  16442\n",
      "3                       DEATH  15606\n",
      "4  TOXICITY TO VARIOUS AGENTS  11575\n",
      "5                     FATIGUE  11276\n",
      "6                    HEADACHE  10601\n",
      "7                    VOMITING  10286\n",
      "8                   DIZZINESS  10251\n",
      "9                    OVERDOSE   9768\n",
      "PSORIASIS\n",
      "                      term  count\n",
      "0                PSORIASIS  50349\n",
      "1         DRUG INEFFECTIVE  21293\n",
      "2      INJECTION SITE PAIN  16006\n",
      "3                DIARRHOEA  13278\n",
      "4                 HEADACHE  13113\n",
      "5                   NAUSEA  13072\n",
      "6               ARTHRALGIA   9738\n",
      "7  INJECTION SITE ERYTHEMA   8451\n",
      "8                  FATIGUE   7408\n",
      "9                 PRURITUS   7330\n",
      "DIABETES MELLITUS\n",
      "                         term  count\n",
      "0       MYOCARDIAL INFARCTION  29965\n",
      "1  CARDIAC FAILURE CONGESTIVE  22957\n",
      "2     BLOOD GLUCOSE INCREASED  19218\n",
      "3    CEREBROVASCULAR ACCIDENT  15484\n",
      "4            DRUG INEFFECTIVE   9945\n",
      "5                      NAUSEA   8201\n",
      "6     CORONARY ARTERY DISEASE   8081\n",
      "7                   DIARRHOEA   7235\n",
      "8            CARDIAC DISORDER   6522\n",
      "9                    DYSPNOEA   6354\n",
      "DEPRESSION\n",
      "                term  count\n",
      "0   DRUG INEFFECTIVE  17515\n",
      "1         DEPRESSION  16958\n",
      "2             NAUSEA  16619\n",
      "3            ANXIETY  14090\n",
      "4          DIZZINESS  13915\n",
      "5           HEADACHE  13113\n",
      "6            FATIGUE  12399\n",
      "7           INSOMNIA  12277\n",
      "8  SUICIDAL IDEATION  10069\n",
      "9   FEELING ABNORMAL   8834\n",
      "PLASMA CELL MYELOMA\n",
      "                               term  count\n",
      "0               PLASMA CELL MYELOMA  16908\n",
      "1                         PNEUMONIA  14045\n",
      "2                             DEATH  13943\n",
      "3                           FATIGUE  11498\n",
      "4                         DIARRHOEA  11084\n",
      "5             NEUROPATHY PERIPHERAL   6369\n",
      "6                              RASH   5896\n",
      "7                          ASTHENIA   5506\n",
      "8                            NAUSEA   5415\n",
      "9  WHITE BLOOD CELL COUNT DECREASED   5142\n",
      "TYPE 2 DIABETES MELLITUS\n",
      "                      term  count\n",
      "0  BLOOD GLUCOSE INCREASED  31242\n",
      "1                   NAUSEA  15657\n",
      "2         WEIGHT DECREASED  10524\n",
      "3  BLOOD GLUCOSE DECREASED   8500\n",
      "4                DIARRHOEA   8319\n",
      "5           BLADDER CANCER   8143\n",
      "6                 VOMITING   7868\n",
      "7      INJECTION SITE PAIN   7684\n",
      "8         DRUG INEFFECTIVE   7070\n",
      "9       DECREASED APPETITE   6249\n",
      "DRUG USE FOR UNKNOWN INDICATION\n",
      "               term  count\n",
      "0             DEATH   7521\n",
      "1            NAUSEA   6989\n",
      "2  DRUG INEFFECTIVE   6268\n",
      "3          FLUSHING   5979\n",
      "4          HEADACHE   5122\n",
      "5         DIARRHOEA   5033\n",
      "6          VOMITING   4986\n",
      "7         DIZZINESS   4983\n",
      "8          DYSPNOEA   4852\n",
      "9              RASH   4389\n",
      "CONTRACEPTION\n",
      "                  term  count\n",
      "0     DEVICE EXPULSION  36847\n",
      "1   DEVICE DISLOCATION  16755\n",
      "2                 PAIN  11131\n",
      "3         METRORRHAGIA   8560\n",
      "4       ABDOMINAL PAIN   8253\n",
      "5  VAGINAL HAEMORRHAGE   8182\n",
      "6          MENORRHAGIA   7406\n",
      "7               NAUSEA   7227\n",
      "8              ANXIETY   6811\n",
      "9   PULMONARY EMBOLISM   6746\n"
     ]
    }
   ],
   "source": [
    "for i, d_a in enumerate(list(top_dis_areas.term)):\n",
    "    results = query(\"&search=patient.drug.drugindication.exact:\\\"\"+d_a+\"\\\"&count=patient.reaction.reactionmeddrapt.exact\")\n",
    "    print(d_a)\n",
    "    print(results.head(10))\n",
    "    if i > 10: break"
   ]
  },
  {
   "cell_type": "code",
   "execution_count": 918,
   "metadata": {
    "collapsed": true
   },
   "outputs": [
    {
     "name": "stdout",
     "output_type": "stream",
     "text": [
      "new disease area:  PRODUCT USED FOR UNKNOWN INDICATION\n",
      "\n",
      "new disease area:  RHEUMATOID ARTHRITIS\n",
      "RHEUMATOID ARTHRITIS\n",
      "INJECTION SITE ERYTHEMA\n",
      "\n",
      "new disease area:  MULTIPLE SCLEROSIS\n",
      "MULTIPLE SCLEROSIS RELAPSE\n",
      "GAIT DISTURBANCE\n",
      "MULTIPLE SCLEROSIS\n",
      "MEMORY IMPAIRMENT\n",
      "\n",
      "new disease area:  HYPERTENSION\n",
      "HYPERTENSION\n",
      "BLOOD PRESSURE INCREASED\n",
      "\n",
      "new disease area:  PAIN\n",
      "TOXICITY TO VARIOUS AGENTS\n",
      "OVERDOSE\n",
      "\n",
      "new disease area:  PSORIASIS\n",
      "PSORIASIS\n",
      "INJECTION SITE ERYTHEMA\n",
      "\n",
      "new disease area:  DIABETES MELLITUS\n",
      "MYOCARDIAL INFARCTION\n",
      "CARDIAC FAILURE CONGESTIVE\n",
      "BLOOD GLUCOSE INCREASED\n",
      "CEREBROVASCULAR ACCIDENT\n",
      "CORONARY ARTERY DISEASE\n",
      "CARDIAC DISORDER\n",
      "\n",
      "new disease area:  DEPRESSION\n",
      "DEPRESSION\n",
      "SUICIDAL IDEATION\n",
      "FEELING ABNORMAL\n",
      "\n",
      "new disease area:  PLASMA CELL MYELOMA\n",
      "PLASMA CELL MYELOMA\n",
      "NEUROPATHY PERIPHERAL\n",
      "WHITE BLOOD CELL COUNT DECREASED\n",
      "\n",
      "new disease area:  TYPE 2 DIABETES MELLITUS\n",
      "BLOOD GLUCOSE INCREASED\n",
      "BLOOD GLUCOSE DECREASED\n",
      "BLADDER CANCER\n",
      "DECREASED APPETITE\n",
      "\n"
     ]
    }
   ],
   "source": [
    "for i, d_a in enumerate(list(top_dis_areas.term)[:10]):\n",
    "    results = query(\"&search=patient.drug.drugindication.exact:\\\"\"+d_a+\"\\\"&count=patient.reaction.reactionmeddrapt.exact\")\n",
    "    print('new disease area: ',d_a)\n",
    "    for reaction in list(results.term)[:10]:\n",
    "        if reaction not in list(top_reactions.term)[:25]:\n",
    "            print(reaction)\n",
    "    print()"
   ]
  },
  {
   "cell_type": "code",
   "execution_count": 919,
   "metadata": {
    "collapsed": true
   },
   "outputs": [
    {
     "name": "stdout",
     "output_type": "stream",
     "text": [
      "new disease area:  PRODUCT USED FOR UNKNOWN INDICATION\n",
      "DRUG INEFFECTIVE\n",
      "DEATH\n",
      "FATIGUE\n",
      "NAUSEA\n",
      "DIARRHOEA\n",
      "HEADACHE\n",
      "DYSPNOEA\n",
      "MALAISE\n",
      "DIZZINESS\n",
      "PAIN\n",
      "\n",
      "new disease area:  RHEUMATOID ARTHRITIS\n",
      "DRUG INEFFECTIVE\n",
      "INJECTION SITE PAIN\n",
      "ARTHRALGIA\n",
      "PAIN\n",
      "PAIN IN EXTREMITY\n",
      "FATIGUE\n",
      "HEADACHE\n",
      "NAUSEA\n",
      "\n",
      "new disease area:  MULTIPLE SCLEROSIS\n",
      "FATIGUE\n",
      "HEADACHE\n",
      "FALL\n",
      "NAUSEA\n",
      "ASTHENIA\n",
      "PAIN\n",
      "\n",
      "new disease area:  HYPERTENSION\n",
      "DRUG INEFFECTIVE\n",
      "DIZZINESS\n",
      "DYSPNOEA\n",
      "NAUSEA\n",
      "DIARRHOEA\n",
      "FATIGUE\n",
      "HEADACHE\n",
      "FALL\n",
      "\n",
      "new disease area:  PAIN\n",
      "DRUG INEFFECTIVE\n",
      "PAIN\n",
      "NAUSEA\n",
      "DEATH\n",
      "FATIGUE\n",
      "HEADACHE\n",
      "VOMITING\n",
      "DIZZINESS\n",
      "\n",
      "new disease area:  PSORIASIS\n",
      "DRUG INEFFECTIVE\n",
      "INJECTION SITE PAIN\n",
      "DIARRHOEA\n",
      "HEADACHE\n",
      "NAUSEA\n",
      "ARTHRALGIA\n",
      "FATIGUE\n",
      "PRURITUS\n",
      "\n",
      "new disease area:  DIABETES MELLITUS\n",
      "DRUG INEFFECTIVE\n",
      "NAUSEA\n",
      "DIARRHOEA\n",
      "DYSPNOEA\n",
      "\n",
      "new disease area:  DEPRESSION\n",
      "DRUG INEFFECTIVE\n",
      "NAUSEA\n",
      "ANXIETY\n",
      "DIZZINESS\n",
      "HEADACHE\n",
      "FATIGUE\n",
      "INSOMNIA\n",
      "\n",
      "new disease area:  PLASMA CELL MYELOMA\n",
      "PNEUMONIA\n",
      "DEATH\n",
      "FATIGUE\n",
      "DIARRHOEA\n",
      "RASH\n",
      "ASTHENIA\n",
      "NAUSEA\n",
      "\n",
      "new disease area:  TYPE 2 DIABETES MELLITUS\n",
      "NAUSEA\n",
      "WEIGHT DECREASED\n",
      "DIARRHOEA\n",
      "VOMITING\n",
      "INJECTION SITE PAIN\n",
      "DRUG INEFFECTIVE\n",
      "\n"
     ]
    }
   ],
   "source": [
    "for i, d_a in enumerate(list(top_dis_areas.term)[:10]):\n",
    "    results = query(\"&search=patient.drug.drugindication.exact:\\\"\"+d_a+\"\\\"&count=patient.reaction.reactionmeddrapt.exact\")\n",
    "    print('new disease area: ',d_a)\n",
    "    for reaction in list(results.term)[:10]:\n",
    "        if reaction in list(top_reactions.term)[:25]:\n",
    "            print(reaction)\n",
    "    print()"
   ]
  },
  {
   "cell_type": "code",
   "execution_count": null,
   "metadata": {},
   "outputs": [],
   "source": []
  },
  {
   "cell_type": "code",
   "execution_count": null,
   "metadata": {},
   "outputs": [],
   "source": []
  },
  {
   "cell_type": "markdown",
   "metadata": {},
   "source": [
    "###### ANSWER:"
   ]
  },
  {
   "cell_type": "code",
   "execution_count": null,
   "metadata": {},
   "outputs": [],
   "source": []
  },
  {
   "cell_type": "code",
   "execution_count": null,
   "metadata": {},
   "outputs": [],
   "source": []
  },
  {
   "cell_type": "markdown",
   "metadata": {},
   "source": [
    "###### 3. What drugs tend to be taken together?  "
   ]
  },
  {
   "cell_type": "markdown",
   "metadata": {},
   "source": [
    "Relevant fields:\n",
    "- `patient.drug.openfda.brand_name` : **Brand or trade name of the drug product. DRUG NAME**\n",
    "- `patient.drug.openfda.generic_name` : Generic name(s) of the drug product."
   ]
  },
  {
   "cell_type": "code",
   "execution_count": 991,
   "metadata": {
    "collapsed": true
   },
   "outputs": [
    {
     "data": {
      "text/html": [
       "<div>\n",
       "<style scoped>\n",
       "    .dataframe tbody tr th:only-of-type {\n",
       "        vertical-align: middle;\n",
       "    }\n",
       "\n",
       "    .dataframe tbody tr th {\n",
       "        vertical-align: top;\n",
       "    }\n",
       "\n",
       "    .dataframe thead th {\n",
       "        text-align: right;\n",
       "    }\n",
       "</style>\n",
       "<table border=\"1\" class=\"dataframe\">\n",
       "  <thead>\n",
       "    <tr style=\"text-align: right;\">\n",
       "      <th></th>\n",
       "      <th>term</th>\n",
       "      <th>count</th>\n",
       "    </tr>\n",
       "  </thead>\n",
       "  <tbody>\n",
       "    <tr>\n",
       "      <th>0</th>\n",
       "      <td>ENBREL</td>\n",
       "      <td>505631</td>\n",
       "    </tr>\n",
       "    <tr>\n",
       "      <th>1</th>\n",
       "      <td>HUMIRA</td>\n",
       "      <td>459208</td>\n",
       "    </tr>\n",
       "    <tr>\n",
       "      <th>2</th>\n",
       "      <td>ECOTRIN</td>\n",
       "      <td>331225</td>\n",
       "    </tr>\n",
       "    <tr>\n",
       "      <th>3</th>\n",
       "      <td>ASPIRIN 325</td>\n",
       "      <td>330143</td>\n",
       "    </tr>\n",
       "    <tr>\n",
       "      <th>4</th>\n",
       "      <td>BAYER LOW DOSE</td>\n",
       "      <td>328604</td>\n",
       "    </tr>\n",
       "    <tr>\n",
       "      <th>5</th>\n",
       "      <td>BUFFERIN</td>\n",
       "      <td>326761</td>\n",
       "    </tr>\n",
       "    <tr>\n",
       "      <th>6</th>\n",
       "      <td>LOW DOSE ASPIRIN</td>\n",
       "      <td>326321</td>\n",
       "    </tr>\n",
       "    <tr>\n",
       "      <th>7</th>\n",
       "      <td>LOW DOSE ASPIRIN ENTERIC SAFETY COATED</td>\n",
       "      <td>326321</td>\n",
       "    </tr>\n",
       "    <tr>\n",
       "      <th>8</th>\n",
       "      <td>LOW DOSE ASPIRIN LOW DOSE</td>\n",
       "      <td>326321</td>\n",
       "    </tr>\n",
       "    <tr>\n",
       "      <th>9</th>\n",
       "      <td>ASPIRIN LOW DOSE</td>\n",
       "      <td>326235</td>\n",
       "    </tr>\n",
       "    <tr>\n",
       "      <th>10</th>\n",
       "      <td>BAYER GENUINE ASPIRIN</td>\n",
       "      <td>326021</td>\n",
       "    </tr>\n",
       "    <tr>\n",
       "      <th>11</th>\n",
       "      <td>ASPIRIN</td>\n",
       "      <td>325972</td>\n",
       "    </tr>\n",
       "    <tr>\n",
       "      <th>12</th>\n",
       "      <td>ASPIRIN ENTERIC COATED</td>\n",
       "      <td>325744</td>\n",
       "    </tr>\n",
       "    <tr>\n",
       "      <th>13</th>\n",
       "      <td>ASPIRIN CHEWABLE</td>\n",
       "      <td>325666</td>\n",
       "    </tr>\n",
       "    <tr>\n",
       "      <th>14</th>\n",
       "      <td>ASPIRIN 325 MG</td>\n",
       "      <td>325645</td>\n",
       "    </tr>\n",
       "    <tr>\n",
       "      <th>15</th>\n",
       "      <td>ASPIRIN 81 MG</td>\n",
       "      <td>325645</td>\n",
       "    </tr>\n",
       "    <tr>\n",
       "      <th>16</th>\n",
       "      <td>ASPIRIN 81 MG LOW DOSE</td>\n",
       "      <td>325645</td>\n",
       "    </tr>\n",
       "    <tr>\n",
       "      <th>17</th>\n",
       "      <td>ASPIRIN 325MG</td>\n",
       "      <td>325523</td>\n",
       "    </tr>\n",
       "    <tr>\n",
       "      <th>18</th>\n",
       "      <td>ASPIRIN 81MG ADULT LOW DOSE</td>\n",
       "      <td>325523</td>\n",
       "    </tr>\n",
       "    <tr>\n",
       "      <th>19</th>\n",
       "      <td>ASPIRIN REGULAR STRENGTH</td>\n",
       "      <td>325522</td>\n",
       "    </tr>\n",
       "    <tr>\n",
       "      <th>20</th>\n",
       "      <td>ENTERIC ASPIRIN</td>\n",
       "      <td>325418</td>\n",
       "    </tr>\n",
       "    <tr>\n",
       "      <th>21</th>\n",
       "      <td>ENTERIC ASPIRIN REGULAR STRENGTH</td>\n",
       "      <td>325418</td>\n",
       "    </tr>\n",
       "    <tr>\n",
       "      <th>22</th>\n",
       "      <td>ASPIRIN ADULT LOW DOSE</td>\n",
       "      <td>325410</td>\n",
       "    </tr>\n",
       "    <tr>\n",
       "      <th>23</th>\n",
       "      <td>ENTERIC COATED ASPIRIN</td>\n",
       "      <td>325388</td>\n",
       "    </tr>\n",
       "    <tr>\n",
       "      <th>24</th>\n",
       "      <td>ENTERIC COATED ASPIRIN REGULAR STRENGTH</td>\n",
       "      <td>325388</td>\n",
       "    </tr>\n",
       "  </tbody>\n",
       "</table>\n",
       "</div>"
      ],
      "text/plain": [
       "                                       term   count\n",
       "0                                    ENBREL  505631\n",
       "1                                    HUMIRA  459208\n",
       "2                                   ECOTRIN  331225\n",
       "3                               ASPIRIN 325  330143\n",
       "4                            BAYER LOW DOSE  328604\n",
       "5                                  BUFFERIN  326761\n",
       "6                          LOW DOSE ASPIRIN  326321\n",
       "7    LOW DOSE ASPIRIN ENTERIC SAFETY COATED  326321\n",
       "8                 LOW DOSE ASPIRIN LOW DOSE  326321\n",
       "9                          ASPIRIN LOW DOSE  326235\n",
       "10                    BAYER GENUINE ASPIRIN  326021\n",
       "11                                  ASPIRIN  325972\n",
       "12                   ASPIRIN ENTERIC COATED  325744\n",
       "13                         ASPIRIN CHEWABLE  325666\n",
       "14                           ASPIRIN 325 MG  325645\n",
       "15                            ASPIRIN 81 MG  325645\n",
       "16                   ASPIRIN 81 MG LOW DOSE  325645\n",
       "17                            ASPIRIN 325MG  325523\n",
       "18              ASPIRIN 81MG ADULT LOW DOSE  325523\n",
       "19                 ASPIRIN REGULAR STRENGTH  325522\n",
       "20                          ENTERIC ASPIRIN  325418\n",
       "21         ENTERIC ASPIRIN REGULAR STRENGTH  325418\n",
       "22                   ASPIRIN ADULT LOW DOSE  325410\n",
       "23                   ENTERIC COATED ASPIRIN  325388\n",
       "24  ENTERIC COATED ASPIRIN REGULAR STRENGTH  325388"
      ]
     },
     "execution_count": 991,
     "metadata": {},
     "output_type": "execute_result"
    }
   ],
   "source": [
    "top_drugs = query(\"&count=patient.drug.openfda.brand_name.exact&limit=1000\")\n",
    "top_drugs.head(25)"
   ]
  },
  {
   "cell_type": "code",
   "execution_count": 985,
   "metadata": {
    "collapsed": true
   },
   "outputs": [
    {
     "data": {
      "text/html": [
       "<div>\n",
       "<style scoped>\n",
       "    .dataframe tbody tr th:only-of-type {\n",
       "        vertical-align: middle;\n",
       "    }\n",
       "\n",
       "    .dataframe tbody tr th {\n",
       "        vertical-align: top;\n",
       "    }\n",
       "\n",
       "    .dataframe thead th {\n",
       "        text-align: right;\n",
       "    }\n",
       "</style>\n",
       "<table border=\"1\" class=\"dataframe\">\n",
       "  <thead>\n",
       "    <tr style=\"text-align: right;\">\n",
       "      <th></th>\n",
       "      <th>term</th>\n",
       "      <th>count</th>\n",
       "    </tr>\n",
       "  </thead>\n",
       "  <tbody>\n",
       "    <tr>\n",
       "      <th>3</th>\n",
       "      <td>ASPIRIN 325</td>\n",
       "      <td>330143</td>\n",
       "    </tr>\n",
       "    <tr>\n",
       "      <th>6</th>\n",
       "      <td>LOW DOSE ASPIRIN</td>\n",
       "      <td>326321</td>\n",
       "    </tr>\n",
       "    <tr>\n",
       "      <th>7</th>\n",
       "      <td>LOW DOSE ASPIRIN ENTERIC SAFETY COATED</td>\n",
       "      <td>326321</td>\n",
       "    </tr>\n",
       "    <tr>\n",
       "      <th>8</th>\n",
       "      <td>LOW DOSE ASPIRIN LOW DOSE</td>\n",
       "      <td>326321</td>\n",
       "    </tr>\n",
       "    <tr>\n",
       "      <th>9</th>\n",
       "      <td>ASPIRIN LOW DOSE</td>\n",
       "      <td>326235</td>\n",
       "    </tr>\n",
       "    <tr>\n",
       "      <th>...</th>\n",
       "      <td>...</td>\n",
       "      <td>...</td>\n",
       "    </tr>\n",
       "    <tr>\n",
       "      <th>632</th>\n",
       "      <td>MOORE MEDICAL EXTRA STRENGTH NON ASPIRIN</td>\n",
       "      <td>90680</td>\n",
       "    </tr>\n",
       "    <tr>\n",
       "      <th>633</th>\n",
       "      <td>MOORE MEDICAL NON ASPIRIN</td>\n",
       "      <td>90680</td>\n",
       "    </tr>\n",
       "    <tr>\n",
       "      <th>649</th>\n",
       "      <td>PHYSICIANSCARE NON ASPIRIN EXTRA STRENGTH</td>\n",
       "      <td>90680</td>\n",
       "    </tr>\n",
       "    <tr>\n",
       "      <th>661</th>\n",
       "      <td>SHOPRITE NON-ASPIRIN</td>\n",
       "      <td>90680</td>\n",
       "    </tr>\n",
       "    <tr>\n",
       "      <th>697</th>\n",
       "      <td>ZEE UNASPIRIN ES</td>\n",
       "      <td>90680</td>\n",
       "    </tr>\n",
       "  </tbody>\n",
       "</table>\n",
       "<p>139 rows × 2 columns</p>\n",
       "</div>"
      ],
      "text/plain": [
       "                                          term   count\n",
       "3                                  ASPIRIN 325  330143\n",
       "6                             LOW DOSE ASPIRIN  326321\n",
       "7       LOW DOSE ASPIRIN ENTERIC SAFETY COATED  326321\n",
       "8                    LOW DOSE ASPIRIN LOW DOSE  326321\n",
       "9                             ASPIRIN LOW DOSE  326235\n",
       "..                                         ...     ...\n",
       "632   MOORE MEDICAL EXTRA STRENGTH NON ASPIRIN   90680\n",
       "633                  MOORE MEDICAL NON ASPIRIN   90680\n",
       "649  PHYSICIANSCARE NON ASPIRIN EXTRA STRENGTH   90680\n",
       "661                       SHOPRITE NON-ASPIRIN   90680\n",
       "697                           ZEE UNASPIRIN ES   90680\n",
       "\n",
       "[139 rows x 2 columns]"
      ]
     },
     "execution_count": 985,
     "metadata": {},
     "output_type": "execute_result"
    }
   ],
   "source": [
    "top_drugs[top_drugs.term.str.contains('ASPIRIN')]"
   ]
  },
  {
   "cell_type": "code",
   "execution_count": 1025,
   "metadata": {},
   "outputs": [
    {
     "data": {
      "text/html": [
       "<div>\n",
       "<style scoped>\n",
       "    .dataframe tbody tr th:only-of-type {\n",
       "        vertical-align: middle;\n",
       "    }\n",
       "\n",
       "    .dataframe tbody tr th {\n",
       "        vertical-align: top;\n",
       "    }\n",
       "\n",
       "    .dataframe thead th {\n",
       "        text-align: right;\n",
       "    }\n",
       "</style>\n",
       "<table border=\"1\" class=\"dataframe\">\n",
       "  <thead>\n",
       "    <tr style=\"text-align: right;\">\n",
       "      <th></th>\n",
       "      <th>term</th>\n",
       "      <th>count</th>\n",
       "    </tr>\n",
       "  </thead>\n",
       "  <tbody>\n",
       "    <tr>\n",
       "      <th>0</th>\n",
       "      <td>ETANERCEPT</td>\n",
       "      <td>505631</td>\n",
       "    </tr>\n",
       "    <tr>\n",
       "      <th>1</th>\n",
       "      <td>ADALIMUMAB</td>\n",
       "      <td>459208</td>\n",
       "    </tr>\n",
       "    <tr>\n",
       "      <th>2</th>\n",
       "      <td>ASPIRIN</td>\n",
       "      <td>346100</td>\n",
       "    </tr>\n",
       "    <tr>\n",
       "      <th>3</th>\n",
       "      <td>ASPIRIN 81 MG</td>\n",
       "      <td>325826</td>\n",
       "    </tr>\n",
       "    <tr>\n",
       "      <th>4</th>\n",
       "      <td>ASPIRIN 325 MG</td>\n",
       "      <td>325744</td>\n",
       "    </tr>\n",
       "    <tr>\n",
       "      <th>5</th>\n",
       "      <td>ASPIRIN 81MG</td>\n",
       "      <td>319627</td>\n",
       "    </tr>\n",
       "    <tr>\n",
       "      <th>6</th>\n",
       "      <td>METHOTREXATE SODIUM</td>\n",
       "      <td>290720</td>\n",
       "    </tr>\n",
       "    <tr>\n",
       "      <th>7</th>\n",
       "      <td>FUROSEMIDE</td>\n",
       "      <td>260480</td>\n",
       "    </tr>\n",
       "    <tr>\n",
       "      <th>8</th>\n",
       "      <td>METHOTREXATE</td>\n",
       "      <td>249580</td>\n",
       "    </tr>\n",
       "    <tr>\n",
       "      <th>9</th>\n",
       "      <td>PREDNISONE</td>\n",
       "      <td>244889</td>\n",
       "    </tr>\n",
       "  </tbody>\n",
       "</table>\n",
       "</div>"
      ],
      "text/plain": [
       "                  term   count\n",
       "0           ETANERCEPT  505631\n",
       "1           ADALIMUMAB  459208\n",
       "2              ASPIRIN  346100\n",
       "3        ASPIRIN 81 MG  325826\n",
       "4       ASPIRIN 325 MG  325744\n",
       "5         ASPIRIN 81MG  319627\n",
       "6  METHOTREXATE SODIUM  290720\n",
       "7           FUROSEMIDE  260480\n",
       "8         METHOTREXATE  249580\n",
       "9           PREDNISONE  244889"
      ]
     },
     "execution_count": 1025,
     "metadata": {},
     "output_type": "execute_result"
    }
   ],
   "source": [
    "top_drugs = query(\"&count=patient.drug.openfda.generic_name.exact&limit=1000\")\n",
    "top_drugs.head(10)"
   ]
  },
  {
   "cell_type": "code",
   "execution_count": 987,
   "metadata": {
    "collapsed": true
   },
   "outputs": [
    {
     "data": {
      "text/html": [
       "<div>\n",
       "<style scoped>\n",
       "    .dataframe tbody tr th:only-of-type {\n",
       "        vertical-align: middle;\n",
       "    }\n",
       "\n",
       "    .dataframe tbody tr th {\n",
       "        vertical-align: top;\n",
       "    }\n",
       "\n",
       "    .dataframe thead th {\n",
       "        text-align: right;\n",
       "    }\n",
       "</style>\n",
       "<table border=\"1\" class=\"dataframe\">\n",
       "  <thead>\n",
       "    <tr style=\"text-align: right;\">\n",
       "      <th></th>\n",
       "      <th>term</th>\n",
       "      <th>count</th>\n",
       "    </tr>\n",
       "  </thead>\n",
       "  <tbody>\n",
       "    <tr>\n",
       "      <th>2</th>\n",
       "      <td>ASPIRIN</td>\n",
       "      <td>346100</td>\n",
       "    </tr>\n",
       "    <tr>\n",
       "      <th>3</th>\n",
       "      <td>ASPIRIN 81 MG</td>\n",
       "      <td>325826</td>\n",
       "    </tr>\n",
       "    <tr>\n",
       "      <th>4</th>\n",
       "      <td>ASPIRIN 325 MG</td>\n",
       "      <td>325744</td>\n",
       "    </tr>\n",
       "    <tr>\n",
       "      <th>5</th>\n",
       "      <td>ASPIRIN 81MG</td>\n",
       "      <td>319627</td>\n",
       "    </tr>\n",
       "    <tr>\n",
       "      <th>490</th>\n",
       "      <td>ACETAMINOPHEN, ASPIRIN (NSAID) AND CAFFEINE</td>\n",
       "      <td>11674</td>\n",
       "    </tr>\n",
       "    <tr>\n",
       "      <th>668</th>\n",
       "      <td>ACETAMINOPHEN, ASPIRIN, AND CAFFEINE</td>\n",
       "      <td>6390</td>\n",
       "    </tr>\n",
       "    <tr>\n",
       "      <th>725</th>\n",
       "      <td>ACETAMINOPHEN, ASPIRIN (NSAID), AND CAFFEINE</td>\n",
       "      <td>5519</td>\n",
       "    </tr>\n",
       "    <tr>\n",
       "      <th>771</th>\n",
       "      <td>ASPIRIN AND DIPYRIDAMOLE</td>\n",
       "      <td>4924</td>\n",
       "    </tr>\n",
       "    <tr>\n",
       "      <th>911</th>\n",
       "      <td>BAYER ASPIRIN EXTRA STRENGTH</td>\n",
       "      <td>3329</td>\n",
       "    </tr>\n",
       "  </tbody>\n",
       "</table>\n",
       "</div>"
      ],
      "text/plain": [
       "                                             term   count\n",
       "2                                         ASPIRIN  346100\n",
       "3                                   ASPIRIN 81 MG  325826\n",
       "4                                  ASPIRIN 325 MG  325744\n",
       "5                                    ASPIRIN 81MG  319627\n",
       "490   ACETAMINOPHEN, ASPIRIN (NSAID) AND CAFFEINE   11674\n",
       "668          ACETAMINOPHEN, ASPIRIN, AND CAFFEINE    6390\n",
       "725  ACETAMINOPHEN, ASPIRIN (NSAID), AND CAFFEINE    5519\n",
       "771                      ASPIRIN AND DIPYRIDAMOLE    4924\n",
       "911                  BAYER ASPIRIN EXTRA STRENGTH    3329"
      ]
     },
     "execution_count": 987,
     "metadata": {},
     "output_type": "execute_result"
    }
   ],
   "source": [
    "top_drugs[top_drugs.term.str.contains('ASPIRIN')]"
   ]
  },
  {
   "cell_type": "markdown",
   "metadata": {},
   "source": [
    "**Argument for using the generic name instead of brand name of a drug!**"
   ]
  },
  {
   "cell_type": "code",
   "execution_count": 1003,
   "metadata": {
    "collapsed": true
   },
   "outputs": [
    {
     "data": {
      "text/html": [
       "<div>\n",
       "<style scoped>\n",
       "    .dataframe tbody tr th:only-of-type {\n",
       "        vertical-align: middle;\n",
       "    }\n",
       "\n",
       "    .dataframe tbody tr th {\n",
       "        vertical-align: top;\n",
       "    }\n",
       "\n",
       "    .dataframe thead th {\n",
       "        text-align: right;\n",
       "    }\n",
       "</style>\n",
       "<table border=\"1\" class=\"dataframe\">\n",
       "  <thead>\n",
       "    <tr style=\"text-align: right;\">\n",
       "      <th></th>\n",
       "      <th>term</th>\n",
       "      <th>count</th>\n",
       "    </tr>\n",
       "  </thead>\n",
       "  <tbody>\n",
       "    <tr>\n",
       "      <th>0</th>\n",
       "      <td>HUMIRA</td>\n",
       "      <td>459208</td>\n",
       "    </tr>\n",
       "    <tr>\n",
       "      <th>1</th>\n",
       "      <td>METHOTREXATE</td>\n",
       "      <td>75898</td>\n",
       "    </tr>\n",
       "    <tr>\n",
       "      <th>2</th>\n",
       "      <td>TREXALL</td>\n",
       "      <td>69092</td>\n",
       "    </tr>\n",
       "    <tr>\n",
       "      <th>3</th>\n",
       "      <td>XATMEP</td>\n",
       "      <td>69039</td>\n",
       "    </tr>\n",
       "    <tr>\n",
       "      <th>4</th>\n",
       "      <td>PREDNISONE</td>\n",
       "      <td>35482</td>\n",
       "    </tr>\n",
       "    <tr>\n",
       "      <th>5</th>\n",
       "      <td>ENBREL</td>\n",
       "      <td>34246</td>\n",
       "    </tr>\n",
       "    <tr>\n",
       "      <th>6</th>\n",
       "      <td>FOLIC ACID</td>\n",
       "      <td>33914</td>\n",
       "    </tr>\n",
       "    <tr>\n",
       "      <th>7</th>\n",
       "      <td>VITAMIN D</td>\n",
       "      <td>17236</td>\n",
       "    </tr>\n",
       "    <tr>\n",
       "      <th>8</th>\n",
       "      <td>ACID REDUCER</td>\n",
       "      <td>15626</td>\n",
       "    </tr>\n",
       "    <tr>\n",
       "      <th>9</th>\n",
       "      <td>ORENCIA</td>\n",
       "      <td>13826</td>\n",
       "    </tr>\n",
       "    <tr>\n",
       "      <th>10</th>\n",
       "      <td>AZULFIDINE EN-TABS</td>\n",
       "      <td>13809</td>\n",
       "    </tr>\n",
       "    <tr>\n",
       "      <th>11</th>\n",
       "      <td>GENOZOL</td>\n",
       "      <td>13444</td>\n",
       "    </tr>\n",
       "    <tr>\n",
       "      <th>12</th>\n",
       "      <td>SULFASALAZINE</td>\n",
       "      <td>13351</td>\n",
       "    </tr>\n",
       "    <tr>\n",
       "      <th>13</th>\n",
       "      <td>GOOD SENSE OMEPRAZOLE</td>\n",
       "      <td>12762</td>\n",
       "    </tr>\n",
       "    <tr>\n",
       "      <th>14</th>\n",
       "      <td>BASIC CARE OMEPRAZOLE</td>\n",
       "      <td>12760</td>\n",
       "    </tr>\n",
       "    <tr>\n",
       "      <th>15</th>\n",
       "      <td>BEING WELL OMEPRAZOLE</td>\n",
       "      <td>12760</td>\n",
       "    </tr>\n",
       "    <tr>\n",
       "      <th>16</th>\n",
       "      <td>BERKLEY AND JENSEN OMEPRAZOLE</td>\n",
       "      <td>12760</td>\n",
       "    </tr>\n",
       "    <tr>\n",
       "      <th>17</th>\n",
       "      <td>CARE ONE OMEPRAZOLE</td>\n",
       "      <td>12760</td>\n",
       "    </tr>\n",
       "    <tr>\n",
       "      <th>18</th>\n",
       "      <td>CAREONE OMEPRAZOLE</td>\n",
       "      <td>12760</td>\n",
       "    </tr>\n",
       "    <tr>\n",
       "      <th>19</th>\n",
       "      <td>CORE VALUES OMEPRAZOLE</td>\n",
       "      <td>12760</td>\n",
       "    </tr>\n",
       "    <tr>\n",
       "      <th>20</th>\n",
       "      <td>DG HEALTH OMEPRAZOLE</td>\n",
       "      <td>12760</td>\n",
       "    </tr>\n",
       "    <tr>\n",
       "      <th>21</th>\n",
       "      <td>EQUALINE OMEPRAZOLE</td>\n",
       "      <td>12760</td>\n",
       "    </tr>\n",
       "    <tr>\n",
       "      <th>22</th>\n",
       "      <td>EQUATE OMEPRAZOLE</td>\n",
       "      <td>12760</td>\n",
       "    </tr>\n",
       "    <tr>\n",
       "      <th>23</th>\n",
       "      <td>EQUATE OMEPRAZOLE DELAYED RELEASE ACID REDUCER</td>\n",
       "      <td>12760</td>\n",
       "    </tr>\n",
       "    <tr>\n",
       "      <th>24</th>\n",
       "      <td>EXCHANGE SELECT OMEPRAZOLE</td>\n",
       "      <td>12760</td>\n",
       "    </tr>\n",
       "  </tbody>\n",
       "</table>\n",
       "</div>"
      ],
      "text/plain": [
       "                                              term   count\n",
       "0                                           HUMIRA  459208\n",
       "1                                     METHOTREXATE   75898\n",
       "2                                          TREXALL   69092\n",
       "3                                           XATMEP   69039\n",
       "4                                       PREDNISONE   35482\n",
       "5                                           ENBREL   34246\n",
       "6                                       FOLIC ACID   33914\n",
       "7                                        VITAMIN D   17236\n",
       "8                                     ACID REDUCER   15626\n",
       "9                                          ORENCIA   13826\n",
       "10                              AZULFIDINE EN-TABS   13809\n",
       "11                                         GENOZOL   13444\n",
       "12                                   SULFASALAZINE   13351\n",
       "13                           GOOD SENSE OMEPRAZOLE   12762\n",
       "14                           BASIC CARE OMEPRAZOLE   12760\n",
       "15                           BEING WELL OMEPRAZOLE   12760\n",
       "16                   BERKLEY AND JENSEN OMEPRAZOLE   12760\n",
       "17                             CARE ONE OMEPRAZOLE   12760\n",
       "18                              CAREONE OMEPRAZOLE   12760\n",
       "19                          CORE VALUES OMEPRAZOLE   12760\n",
       "20                            DG HEALTH OMEPRAZOLE   12760\n",
       "21                             EQUALINE OMEPRAZOLE   12760\n",
       "22                               EQUATE OMEPRAZOLE   12760\n",
       "23  EQUATE OMEPRAZOLE DELAYED RELEASE ACID REDUCER   12760\n",
       "24                      EXCHANGE SELECT OMEPRAZOLE   12760"
      ]
     },
     "execution_count": 1003,
     "metadata": {},
     "output_type": "execute_result"
    }
   ],
   "source": [
    "HUMIRA = query(\"&search=patient.drug.openfda.brand_name.exact:\\\"HUMIRA\\\"&count=patient.drug.openfda.brand_name.exact&limit=1000\")\n",
    "HUMIRA.head(25)"
   ]
  },
  {
   "cell_type": "code",
   "execution_count": 1010,
   "metadata": {},
   "outputs": [
    {
     "data": {
      "text/html": [
       "<div>\n",
       "<style scoped>\n",
       "    .dataframe tbody tr th:only-of-type {\n",
       "        vertical-align: middle;\n",
       "    }\n",
       "\n",
       "    .dataframe tbody tr th {\n",
       "        vertical-align: top;\n",
       "    }\n",
       "\n",
       "    .dataframe thead th {\n",
       "        text-align: right;\n",
       "    }\n",
       "</style>\n",
       "<table border=\"1\" class=\"dataframe\">\n",
       "  <thead>\n",
       "    <tr style=\"text-align: right;\">\n",
       "      <th></th>\n",
       "      <th>term</th>\n",
       "      <th>count</th>\n",
       "    </tr>\n",
       "  </thead>\n",
       "  <tbody>\n",
       "    <tr>\n",
       "      <th>0</th>\n",
       "      <td>ADALIMUMAB</td>\n",
       "      <td>459208</td>\n",
       "    </tr>\n",
       "    <tr>\n",
       "      <th>1</th>\n",
       "      <td>METHOTREXATE SODIUM</td>\n",
       "      <td>75898</td>\n",
       "    </tr>\n",
       "    <tr>\n",
       "      <th>2</th>\n",
       "      <td>METHOTREXATE</td>\n",
       "      <td>69092</td>\n",
       "    </tr>\n",
       "    <tr>\n",
       "      <th>3</th>\n",
       "      <td>PREDNISONE</td>\n",
       "      <td>35482</td>\n",
       "    </tr>\n",
       "    <tr>\n",
       "      <th>4</th>\n",
       "      <td>ETANERCEPT</td>\n",
       "      <td>34246</td>\n",
       "    </tr>\n",
       "    <tr>\n",
       "      <th>5</th>\n",
       "      <td>FOLIC ACID</td>\n",
       "      <td>33914</td>\n",
       "    </tr>\n",
       "    <tr>\n",
       "      <th>6</th>\n",
       "      <td>ERGOCALCIFEROL</td>\n",
       "      <td>17252</td>\n",
       "    </tr>\n",
       "    <tr>\n",
       "      <th>7</th>\n",
       "      <td>SULFASALAZINE</td>\n",
       "      <td>13859</td>\n",
       "    </tr>\n",
       "    <tr>\n",
       "      <th>8</th>\n",
       "      <td>ABATACEPT</td>\n",
       "      <td>13826</td>\n",
       "    </tr>\n",
       "    <tr>\n",
       "      <th>9</th>\n",
       "      <td>OMEPRAZOLE</td>\n",
       "      <td>12775</td>\n",
       "    </tr>\n",
       "  </tbody>\n",
       "</table>\n",
       "</div>"
      ],
      "text/plain": [
       "                  term   count\n",
       "0           ADALIMUMAB  459208\n",
       "1  METHOTREXATE SODIUM   75898\n",
       "2         METHOTREXATE   69092\n",
       "3           PREDNISONE   35482\n",
       "4           ETANERCEPT   34246\n",
       "5           FOLIC ACID   33914\n",
       "6       ERGOCALCIFEROL   17252\n",
       "7        SULFASALAZINE   13859\n",
       "8            ABATACEPT   13826\n",
       "9           OMEPRAZOLE   12775"
      ]
     },
     "execution_count": 1010,
     "metadata": {},
     "output_type": "execute_result"
    }
   ],
   "source": [
    "ADALIMUMAB = query(\"&search=patient.drug.openfda.generic_name.exact:\\\"ADALIMUMAB\\\"&count=patient.drug.openfda.generic_name.exact&limit=10\")\n",
    "ADALIMUMAB.head(25)"
   ]
  },
  {
   "cell_type": "code",
   "execution_count": 1012,
   "metadata": {},
   "outputs": [
    {
     "data": {
      "text/html": [
       "<div>\n",
       "<style scoped>\n",
       "    .dataframe tbody tr th:only-of-type {\n",
       "        vertical-align: middle;\n",
       "    }\n",
       "\n",
       "    .dataframe tbody tr th {\n",
       "        vertical-align: top;\n",
       "    }\n",
       "\n",
       "    .dataframe thead th {\n",
       "        text-align: right;\n",
       "    }\n",
       "</style>\n",
       "<table border=\"1\" class=\"dataframe\">\n",
       "  <thead>\n",
       "    <tr style=\"text-align: right;\">\n",
       "      <th></th>\n",
       "      <th>term</th>\n",
       "      <th>count</th>\n",
       "    </tr>\n",
       "  </thead>\n",
       "  <tbody>\n",
       "    <tr>\n",
       "      <th>5</th>\n",
       "      <td>FOLIC ACID</td>\n",
       "      <td>33914</td>\n",
       "    </tr>\n",
       "    <tr>\n",
       "      <th>6</th>\n",
       "      <td>ERGOCALCIFEROL</td>\n",
       "      <td>17252</td>\n",
       "    </tr>\n",
       "    <tr>\n",
       "      <th>7</th>\n",
       "      <td>SULFASALAZINE</td>\n",
       "      <td>13859</td>\n",
       "    </tr>\n",
       "    <tr>\n",
       "      <th>8</th>\n",
       "      <td>ABATACEPT</td>\n",
       "      <td>13826</td>\n",
       "    </tr>\n",
       "    <tr>\n",
       "      <th>9</th>\n",
       "      <td>OMEPRAZOLE</td>\n",
       "      <td>12775</td>\n",
       "    </tr>\n",
       "  </tbody>\n",
       "</table>\n",
       "</div>"
      ],
      "text/plain": [
       "             term  count\n",
       "5      FOLIC ACID  33914\n",
       "6  ERGOCALCIFEROL  17252\n",
       "7   SULFASALAZINE  13859\n",
       "8       ABATACEPT  13826\n",
       "9      OMEPRAZOLE  12775"
      ]
     },
     "execution_count": 1012,
     "metadata": {},
     "output_type": "execute_result"
    }
   ],
   "source": [
    "ADALIMUMAB.tail()"
   ]
  },
  {
   "cell_type": "code",
   "execution_count": 1014,
   "metadata": {},
   "outputs": [
    {
     "name": "stdout",
     "output_type": "stream",
     "text": [
      "3\n",
      "1\n",
      "2\n",
      "4\n",
      "0\n",
      "5\n",
      "14\n",
      "7\n",
      "6\n",
      "16\n"
     ]
    }
   ],
   "source": [
    "for co_drug in list(ADALIMUMAB.term):\n",
    "    print(list(top_drugs.term)[:100].index(co_drug))"
   ]
  },
  {
   "cell_type": "code",
   "execution_count": 1026,
   "metadata": {},
   "outputs": [
    {
     "data": {
      "text/plain": [
       "86"
      ]
     },
     "execution_count": 1026,
     "metadata": {},
     "output_type": "execute_result"
    }
   ],
   "source": [
    "list(top_drugs.term).index('CYCLOPHOSPHAMIDE')"
   ]
  },
  {
   "cell_type": "code",
   "execution_count": null,
   "metadata": {},
   "outputs": [],
   "source": [
    "m,n = 100,100\n",
    "temp = np.zeros((m,n), dtype=np.int)"
   ]
  },
  {
   "cell_type": "code",
   "execution_count": 1035,
   "metadata": {},
   "outputs": [
    {
     "data": {
      "text/html": [
       "<div>\n",
       "<style scoped>\n",
       "    .dataframe tbody tr th:only-of-type {\n",
       "        vertical-align: middle;\n",
       "    }\n",
       "\n",
       "    .dataframe tbody tr th {\n",
       "        vertical-align: top;\n",
       "    }\n",
       "\n",
       "    .dataframe thead th {\n",
       "        text-align: right;\n",
       "    }\n",
       "</style>\n",
       "<table border=\"1\" class=\"dataframe\">\n",
       "  <thead>\n",
       "    <tr style=\"text-align: right;\">\n",
       "      <th></th>\n",
       "      <th>term</th>\n",
       "      <th>count</th>\n",
       "    </tr>\n",
       "  </thead>\n",
       "  <tbody>\n",
       "    <tr>\n",
       "      <th>0</th>\n",
       "      <td>INTERFERON BETA-1A</td>\n",
       "      <td>173024</td>\n",
       "    </tr>\n",
       "    <tr>\n",
       "      <th>1</th>\n",
       "      <td>NATALIZUMAB</td>\n",
       "      <td>22816</td>\n",
       "    </tr>\n",
       "    <tr>\n",
       "      <th>2</th>\n",
       "      <td>DALFAMPRIDINE</td>\n",
       "      <td>5413</td>\n",
       "    </tr>\n",
       "    <tr>\n",
       "      <th>3</th>\n",
       "      <td>BACLOFEN</td>\n",
       "      <td>4936</td>\n",
       "    </tr>\n",
       "    <tr>\n",
       "      <th>4</th>\n",
       "      <td>GABAPENTIN</td>\n",
       "      <td>4603</td>\n",
       "    </tr>\n",
       "  </tbody>\n",
       "</table>\n",
       "</div>"
      ],
      "text/plain": [
       "                 term   count\n",
       "0  INTERFERON BETA-1A  173024\n",
       "1         NATALIZUMAB   22816\n",
       "2       DALFAMPRIDINE    5413\n",
       "3            BACLOFEN    4936\n",
       "4          GABAPENTIN    4603"
      ]
     },
     "execution_count": 1035,
     "metadata": {},
     "output_type": "execute_result"
    }
   ],
   "source": [
    "co_drugs.head()"
   ]
  },
  {
   "cell_type": "code",
   "execution_count": 1038,
   "metadata": {},
   "outputs": [
    {
     "data": {
      "text/plain": [
       "4936"
      ]
     },
     "execution_count": 1038,
     "metadata": {},
     "output_type": "execute_result"
    }
   ],
   "source": [
    "co_drugs.loc[3]['count']"
   ]
  },
  {
   "cell_type": "code",
   "execution_count": 1029,
   "metadata": {},
   "outputs": [
    {
     "name": "stdout",
     "output_type": "stream",
     "text": [
      "0 ETANERCEPT 7 SULFASALAZINE 209\n",
      "0 ETANERCEPT 9 LEFLUNOMIDE 265\n",
      "0 ETANERCEPT 13 HYDROXYCHLOROQUINE SULFATE 487\n",
      "1 ADALIMUMAB 7 SULFASALAZINE 209\n",
      "15 LEVOTHYROXINE SODIUM 1 LEVOTHYROXINE SODIUM ANHYDROUS 133\n",
      "17 METFORMIN 10 METFORMIN HYDROCHLORIDE EXTENDED-RELEASE TABLETS 340\n",
      "17 METFORMIN 11 METFORMIN HYDROCHLORIDE TABLET 337\n",
      "17 METFORMIN 12 METFORMIN HYDROCHLORIDE TABLETS 341\n",
      "18 ACETAMINOPHEN 1 ACETAMINOPHEN, DIPHENHYDRAMINE HCL 72\n",
      "18 ACETAMINOPHEN 2 ACETAMINOPHEN 325MG 76\n",
      "23 METOPROLOL TARTRATE 2 METOROPROLOL TARTRATE 171\n",
      "24 INTERFERON BETA-1A 2 DALFAMPRIDINE 122\n",
      "24 INTERFERON BETA-1A 3 BACLOFEN 138\n"
     ]
    }
   ],
   "source": [
    "#for the top 100 drugs\n",
    "for i, drug in enumerate(list(top_drugs.term)[:25]):\n",
    "    co_drugs = query(\"&search=patient.drug.openfda.generic_name.exact:\\\"\"+drug+\"\\\"&count=patient.drug.openfda.generic_name.exact&limit=25\")\n",
    "    for j, co_drug in enumerate(list(co_drugs.term)):\n",
    "        co_drug_rank = j\n",
    "        overall_drug_rank = list(top_drugs.term).index(co_drug)\n",
    "        if((overall_drug_rank+1)/(co_drug_rank+1)>25):\n",
    "            print(i,drug, co_drug_rank, co_drug, overall_drug_rank)\n",
    "        if overall_drug_rank<100:\n",
    "            temp[i,overall_drug_rank] = co_drugs.loc[j]['count'] \n",
    "    #if i>1: break"
   ]
  },
  {
   "cell_type": "code",
   "execution_count": null,
   "metadata": {},
   "outputs": [],
   "source": []
  },
  {
   "cell_type": "code",
   "execution_count": null,
   "metadata": {},
   "outputs": [],
   "source": []
  },
  {
   "cell_type": "code",
   "execution_count": 1005,
   "metadata": {},
   "outputs": [
    {
     "data": {
      "text/html": [
       "<div>\n",
       "<style scoped>\n",
       "    .dataframe tbody tr th:only-of-type {\n",
       "        vertical-align: middle;\n",
       "    }\n",
       "\n",
       "    .dataframe tbody tr th {\n",
       "        vertical-align: top;\n",
       "    }\n",
       "\n",
       "    .dataframe thead th {\n",
       "        text-align: right;\n",
       "    }\n",
       "</style>\n",
       "<table border=\"1\" class=\"dataframe\">\n",
       "  <thead>\n",
       "    <tr style=\"text-align: right;\">\n",
       "      <th></th>\n",
       "      <th>term</th>\n",
       "      <th>count</th>\n",
       "    </tr>\n",
       "  </thead>\n",
       "  <tbody>\n",
       "    <tr>\n",
       "      <th>0</th>\n",
       "      <td>ADALIMUMAB</td>\n",
       "      <td>459208</td>\n",
       "    </tr>\n",
       "    <tr>\n",
       "      <th>1</th>\n",
       "      <td>METHOTREXATE SODIUM</td>\n",
       "      <td>75898</td>\n",
       "    </tr>\n",
       "    <tr>\n",
       "      <th>2</th>\n",
       "      <td>METHOTREXATE</td>\n",
       "      <td>69092</td>\n",
       "    </tr>\n",
       "    <tr>\n",
       "      <th>3</th>\n",
       "      <td>PREDNISONE</td>\n",
       "      <td>35482</td>\n",
       "    </tr>\n",
       "    <tr>\n",
       "      <th>4</th>\n",
       "      <td>ETANERCEPT</td>\n",
       "      <td>34246</td>\n",
       "    </tr>\n",
       "  </tbody>\n",
       "</table>\n",
       "</div>"
      ],
      "text/plain": [
       "                  term   count\n",
       "0           ADALIMUMAB  459208\n",
       "1  METHOTREXATE SODIUM   75898\n",
       "2         METHOTREXATE   69092\n",
       "3           PREDNISONE   35482\n",
       "4           ETANERCEPT   34246"
      ]
     },
     "execution_count": 1005,
     "metadata": {},
     "output_type": "execute_result"
    }
   ],
   "source": [
    "for i, reaction in enumerate(list(top_reactions.term)[:m]):\n",
    "    #create drug reaction row\n",
    "    for j, country in enumerate(list(top_countries.term)[:n]):\n",
    "        #add country to the reaction row\n",
    "        results = query(\"&search=occurcountry:\\\"\"+country+\"\\\"+AND+patient.reaction.reactionmeddrapt:\\\"\"+reaction+\"\\\"&count=patient.reaction.reactionmeddrapt.exact\")\n",
    "        count = int(results.head(1)[\"count\"])\n",
    "        #print(country,reaction,count)\n",
    "        temp[i,j] = count"
   ]
  },
  {
   "cell_type": "code",
   "execution_count": null,
   "metadata": {},
   "outputs": [],
   "source": []
  },
  {
   "cell_type": "markdown",
   "metadata": {},
   "source": [
    "###### ANSWER:"
   ]
  },
  {
   "cell_type": "code",
   "execution_count": null,
   "metadata": {},
   "outputs": [],
   "source": []
  },
  {
   "cell_type": "code",
   "execution_count": null,
   "metadata": {},
   "outputs": [],
   "source": []
  },
  {
   "cell_type": "code",
   "execution_count": null,
   "metadata": {},
   "outputs": [],
   "source": []
  },
  {
   "cell_type": "markdown",
   "metadata": {},
   "source": [
    "## Discussion & Future Directions"
   ]
  },
  {
   "cell_type": "markdown",
   "metadata": {},
   "source": [
    "###### Limitations of the Data"
   ]
  },
  {
   "cell_type": "code",
   "execution_count": null,
   "metadata": {},
   "outputs": [],
   "source": []
  },
  {
   "cell_type": "code",
   "execution_count": null,
   "metadata": {},
   "outputs": [],
   "source": []
  },
  {
   "cell_type": "code",
   "execution_count": null,
   "metadata": {},
   "outputs": [],
   "source": []
  },
  {
   "cell_type": "code",
   "execution_count": null,
   "metadata": {},
   "outputs": [],
   "source": []
  },
  {
   "cell_type": "markdown",
   "metadata": {},
   "source": [
    "* +limitation of the interface: ~250 calls / minute with an API key"
   ]
  },
  {
   "cell_type": "code",
   "execution_count": null,
   "metadata": {},
   "outputs": [],
   "source": []
  },
  {
   "cell_type": "code",
   "execution_count": null,
   "metadata": {},
   "outputs": [],
   "source": []
  },
  {
   "cell_type": "code",
   "execution_count": null,
   "metadata": {},
   "outputs": [],
   "source": []
  }
 ],
 "metadata": {
  "kernelspec": {
   "display_name": "Python 3",
   "language": "python",
   "name": "python3"
  },
  "language_info": {
   "codemirror_mode": {
    "name": "ipython",
    "version": 3
   },
   "file_extension": ".py",
   "mimetype": "text/x-python",
   "name": "python",
   "nbconvert_exporter": "python",
   "pygments_lexer": "ipython3",
   "version": "3.7.6"
  }
 },
 "nbformat": 4,
 "nbformat_minor": 4
}
