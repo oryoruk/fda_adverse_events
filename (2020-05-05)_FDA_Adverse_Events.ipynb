{
 "cells": [
  {
   "cell_type": "code",
   "execution_count": 561,
   "metadata": {},
   "outputs": [],
   "source": [
    "import json\n",
    "import requests\n",
    "from sklearn.decomposition import PCA\n",
    "from pandas.io.json import json_normalize\n",
    "from datapackage import Package"
   ]
  },
  {
   "cell_type": "code",
   "execution_count": 231,
   "metadata": {},
   "outputs": [],
   "source": [
    "import numpy as np\n",
    "import matplotlib.pyplot as plt\n"
   ]
  },
  {
   "cell_type": "code",
   "execution_count": 47,
   "metadata": {},
   "outputs": [
    {
     "data": {
      "text/html": [
       "<style>.container { width:100% !important; }</style>"
      ],
      "text/plain": [
       "<IPython.core.display.HTML object>"
      ]
     },
     "metadata": {},
     "output_type": "display_data"
    }
   ],
   "source": [
    "import os\n",
    "import time\n",
    "import numpy as np\n",
    "import pandas as pd\n",
    "from pandas import ExcelWriter\n",
    "from pandas import ExcelFile\n",
    "import string\n",
    "import random\n",
    "from IPython.core.display import display, HTML\n",
    "import datetime\n",
    "\n",
    "display(HTML(\"<style>.container { width:100% !important; }</style>\"))"
   ]
  },
  {
   "cell_type": "markdown",
   "metadata": {},
   "source": [
    "# (2020-05-05)"
   ]
  },
  {
   "cell_type": "markdown",
   "metadata": {},
   "source": [
    "# An Exploratory Analysis of FDA Adverse Events Data"
   ]
  },
  {
   "cell_type": "markdown",
   "metadata": {},
   "source": [
    "## Logistics"
   ]
  },
  {
   "cell_type": "markdown",
   "metadata": {},
   "source": [
    "###### Prompt:\n",
    "\n",
    "The U.S. Food and Drug Administration (FDA) regulates over-the-counter and prescription drugs in the United States, including biological therapeutics and generic drugs. This work covers more than just medicines. For example, fluoride toothpaste, antiperspirants, dandruff shampoos and sunscreens are all considered drugs. \n",
    " \n",
    "An adverse event is submitted to the FDA to report any undesirable experience associated with the use of a medical product in a patient. For drugs, this includes serious drug side effects, product use errors, product quality problems, and therapeutic failures for prescription or over-the-counter medicines and medicines administered to hospital patients or at outpatient infusion centers. \n",
    " \n",
    "The FDA's database of adverse event reports is made available through a web API at https://open.fda.gov/apis/try-the-api/ Each report contains general information about the report, patient information, a list of the drugs that the patient is taking, and a list of the patient reactions.  It is possible to use these data in many ways: your brief is to explore these data and to see what might be learned from them.  As a guide, you might consider a practical solution to one of the following questions: \n",
    "\n",
    "- Are different adverse events reported in different countries? \n",
    "- What are the different adverse events associated with different disease areas? \n",
    "- What drugs tend to be taken together? \n",
    " \n",
    "You should publish your code to your personal github repository and send a link two days before interview.  At interview you should expect to discuss your code, any statistics or visualizations you may have used, limitations of the underlying data, and how your solution could be generalized, extended, and made into a robust product."
   ]
  },
  {
   "attachments": {},
   "cell_type": "markdown",
   "metadata": {},
   "source": [
    "###### Things To Do:\n",
    "\n",
    "* ✅ explore the data in FAERS\n",
    "* ✅ code for connecting to the API, querying and fetching results\n",
    "- ✅ GitHub repo: \"fda_adverse_events\" or maybe \"azn_cs_faers\" -> is it too cryptic?\n",
    "- ⬜️ code for reading JSONs\n",
    "- ⬜️ slidedeck\n",
    "    - discuss code\n",
    "    - explain stats & visualizations\n",
    "    - discuss limitations of the data\n",
    "    - explain findings\n",
    "    - potential generalization, extension, and further development into a robust product\n",
    "- ⬜️ email the GitHub repo (Saturday? Sunday?)\n",
    "- ⬜️ rehearse presentation"
   ]
  },
  {
   "cell_type": "markdown",
   "metadata": {},
   "source": [
    "## Some Key / Relevant Variables in FAERS for this Case Study (JSON Format)"
   ]
  },
  {
   "cell_type": "markdown",
   "metadata": {},
   "source": [
    "![title](images/json.png)"
   ]
  },
  {
   "cell_type": "markdown",
   "metadata": {},
   "source": [
    "- `meta`\n",
    "- `results`\n",
    "    - `safetyreportid` : The 8-digit Safety Report ID number, also known as the case report number or case ID. The first 7 digits (before the hyphen) identify an individual report and the last digit (after the hyphen) is a checksum. This field can be used to identify or find a specific adverse event report.\n",
    "    - `receivedate` : **Date that the report was first received by FDA. If this report has multiple versions, this will be the date the first version was received by FDA. DATE (FDA USES THIS IN EXAMPLE REPORTS)**\n",
    "    - `transmissiondate` : Date that the record was created. This may be earlier than the date the record was received by the FDA.\n",
    "    - `receiptdate` : Date that the most recent information in the report was received by FDA.\n",
    "    - `patient`\n",
    "        - `patient.patientonsetage` : **Age of the patient when the event first occured. AGE OF PATIENT**\n",
    "        - `patient.patientsex` :  The sex of the patient. Value is one of the following: 0. Unknown, 1. Male, 2. Female\n",
    "        - `patient.reaction`\n",
    "            - `patient.reaction.reactionmeddrapt` : **Patient reaction, as a MedDRA term. Note that these terms are encoded in British English. For instance, diarrhea is spelled diarrohea. MedDRA is a standardized medical terminology. DRUG REACTION / ADVERSE EVENT TYPE**\n",
    "            - `patient.reaction.reactionoutcome` :  Outcome of the reaction in reactionmeddrapt at the time of last observation. Value is one of the following: 1. Recovered/resolved, 2. Recovering/resolving, 3. Not recovered/not resolved, 4. Recovered/resolved with sequelae (consequent health issues), 5. Fatal, 6. Unknown\n",
    "        - `patient.drug`\n",
    "            - `patient.drug.medicinalproduct` : Drug name. This may be the valid trade name of the product (such as ADVIL or ALEVE) or the generic name (such as IBUPROFEN). This field is not systematically normalized. It may contain misspellings or idiosyncratic descriptions of drugs, such as combination products such as those used for birth control.\n",
    "            - `patient.drug.openfda.brand_name` : **Brand or trade name of the drug product. DRUG NAME**\n",
    "            - `patient.drug.openfda.generic_name` : Generic name(s) of the drug product.\n",
    "            - `patient.drug.openfda.manufacturer_name` : **Name of manufacturer or company that makes this drug product, corresponding to the labeler code segment of the NDC DRUG MANUFACTURER**.\n",
    "            - `patient.drug.drugadministrationroute` : The drug’s route of administration.\n",
    "            - `patient.drug.openfda.route` : The route of administation of the drug product.\n",
    "            - `patient.drug.drugindication` :  **Indication for the drug’s use. DRUG INDICATION / DISEASE AREA**\n",
    "            - `patient.drug.openfda.pharm_class_epc` : Established pharmacologic class associated with an approved indication of an active moiety (generic drug) that the FDA has determined to be scientifically valid and clinically meaningful. Takes the form of the pharmacologic class, followed by [EPC] (such as Thiazide Diuretic [EPC] or Tumor Necrosis Factor Blocker [EPC]. DRUG CLASS**\n",
    "    - `primarysource.reportercountry` : Country from which the report was submitted. *This one is in both country codes: https://datahub.io/core/country-list and in country names*\n",
    "    - `occurcountry` : **The name of the country where the event occurred. *This one is in country codes.* COUNTRY (FDA USES THIS IN EXAMPLE REPORTS)**\n",
    "    - `primarysourcecountry` : Country of the reporter of the event. *This one is also in country codes.*\n",
    "    - `primarysource.qualification` : Category of individual who submitted the report. Value is one of the following: 1. Physician, 2. Pharmacist, 3. Other health professional, 4. Lawyer, 5. Consumer or non-health professional"
   ]
  },
  {
   "cell_type": "markdown",
   "metadata": {},
   "source": [
    "###### Parsing the country codes:"
   ]
  },
  {
   "cell_type": "code",
   "execution_count": 599,
   "metadata": {},
   "outputs": [],
   "source": [
    "package = Package('https://datahub.io/core/country-list/datapackage.json')\n",
    "for resource in package.resources:\n",
    "    if resource.descriptor['datahub']['type'] == 'derived/csv':\n",
    "        break\n",
    "\n",
    "country_list = list(resource.read())\n",
    "[i.reverse() for i in country_list]\n",
    "country_name = dict(country_list)"
   ]
  },
  {
   "cell_type": "code",
   "execution_count": 600,
   "metadata": {},
   "outputs": [
    {
     "data": {
      "text/plain": [
       "'Turkey'"
      ]
     },
     "execution_count": 600,
     "metadata": {},
     "output_type": "execute_result"
    }
   ],
   "source": [
    "country_name['TR']"
   ]
  },
  {
   "cell_type": "markdown",
   "metadata": {},
   "source": [
    "## Connecting to the openFDA API"
   ]
  },
  {
   "cell_type": "markdown",
   "metadata": {},
   "source": [
    "###### OpenFDA API key: \n",
    "\"WCsZXD7fwzXRDV02maz9kKLAaRzs5J8kzHSSNIgw\"\n",
    "\n",
    "\"With an API key: 240 requests per minute, per key. 120000 requests per day, per key.\""
   ]
  },
  {
   "cell_type": "markdown",
   "metadata": {},
   "source": [
    "![title](images/api_call.png)"
   ]
  },
  {
   "cell_type": "code",
   "execution_count": 673,
   "metadata": {},
   "outputs": [],
   "source": [
    "api_key = \"WCsZXD7fwzXRDV02maz9kKLAaRzs5J8kzHSSNIgw\""
   ]
  },
  {
   "cell_type": "code",
   "execution_count": 674,
   "metadata": {},
   "outputs": [],
   "source": [
    "query_start = \"https://api.fda.gov/drug/event.json?api_key=\"+ api_key"
   ]
  },
  {
   "cell_type": "code",
   "execution_count": 671,
   "metadata": {},
   "outputs": [],
   "source": [
    "query_start = \"https://api.fda.gov/drug/event.json?api_key=WCsZXD7fwzXRDV02maz9kKLAaRzs5J8kzHSSNIgw\"\n"
   ]
  },
  {
   "cell_type": "code",
   "execution_count": 648,
   "metadata": {},
   "outputs": [
    {
     "name": "stdout",
     "output_type": "stream",
     "text": [
      "200\n"
     ]
    }
   ],
   "source": [
    "# Make a get request to get the latest position of the international space station from the opennotify api.\n",
    "response = requests.get(\"https://api.fda.gov/drug/event.json?api_key=\"+ api_key+\"&limit=1\")\n",
    "# Print the status code of the response.\n",
    "print(response.status_code)"
   ]
  },
  {
   "cell_type": "code",
   "execution_count": 15,
   "metadata": {
    "collapsed": true
   },
   "outputs": [
    {
     "data": {
      "text/plain": [
       "b'{\\n  \"meta\": {\\n    \"disclaimer\": \"Do not rely on openFDA to make decisions regarding medical care. While we make every effort to ensure that data is accurate, you should assume all results are unvalidated. We may limit or otherwise restrict your access to the API in line with our Terms of Service.\",\\n    \"terms\": \"https://open.fda.gov/terms/\",\\n    \"license\": \"https://open.fda.gov/license/\",\\n    \"last_updated\": \"2020-05-02\",\\n    \"results\": {\\n      \"skip\": 0,\\n      \"limit\": 1,\\n      \"total\": 11901829\\n    }\\n  },\\n  \"results\": [\\n    {\\n      \"receiptdateformat\": \"102\",\\n      \"receiver\": null,\\n      \"companynumb\": \"HQWYE821915MAR04\",\\n      \"receivedateformat\": \"102\",\\n      \"primarysource\": null,\\n      \"seriousnessother\": \"1\",\\n      \"transmissiondateformat\": \"102\",\\n      \"fulfillexpeditecriteria\": \"1\",\\n      \"safetyreportid\": \"4322505-4\",\\n      \"sender\": {\\n        \"senderorganization\": \"FDA-Public Use\"\\n      },\\n      \"receivedate\": \"20040319\",\\n      \"patient\": {\\n        \"patientonsetage\": \"56\",\\n        \"reaction\": [\\n          {\\n            \"reactionmeddrapt\": \"ARTHRALGIA\"\\n          },\\n          {\\n            \"reactionmeddrapt\": \"OEDEMA PERIPHERAL\"\\n          },\\n          {\\n            \"reactionmeddrapt\": \"PURPURA\"\\n          }\\n        ],\\n        \"patientonsetageunit\": \"801\",\\n        \"patientsex\": \"1\",\\n        \"drug\": [\\n          {\\n            \"drugstartdateformat\": \"102\",\\n            \"drugindication\": \"PYELONEPHRITIS\",\\n            \"drugadministrationroute\": \"048\",\\n            \"drugtreatmentduration\": \"4\",\\n            \"drugcharacterization\": \"1\",\\n            \"drugstartdate\": \"20031227\",\\n            \"drugenddateformat\": \"102\",\\n            \"drugtreatmentdurationunit\": \"804\",\\n            \"drugdosagetext\": \"ORAL\",\\n            \"drugauthorizationnumb\": \"50621\",\\n            \"drugenddate\": \"20031230\",\\n            \"medicinalproduct\": \"OROKEN (CEFIXIME, UNSPEC)\"\\n          },\\n          {\\n            \"drugcharacterization\": \"2\",\\n            \"medicinalproduct\": \"PYOSTACINE (PRISTINAMYCIN)\"\\n          },\\n          {\\n            \"drugcharacterization\": \"2\",\\n            \"medicinalproduct\": \"ROCEPHIN\"\\n          },\\n          {\\n            \"drugcharacterization\": \"2\",\\n            \"openfda\": {\\n              \"product_ndc\": [\\n                \"55111-160\",\\n                \"55111-161\",\\n                \"60505-0560\",\\n                \"0404-7189\",\\n                \"55111-162\",\\n                \"64980-515\",\\n                \"11980-779\",\\n                \"69238-1616\",\\n                \"69238-1615\",\\n                \"50383-025\",\\n                \"50383-024\",\\n                \"13985-602\",\\n                \"60505-0363\",\\n                \"68047-713\",\\n                \"75834-201\",\\n                \"75834-200\",\\n                \"71209-097\",\\n                \"71209-098\",\\n                \"71209-099\",\\n                \"24208-434\",\\n                \"75834-199\",\\n                \"17478-713\",\\n                \"24208-410\"\\n              ],\\n              \"package_ndc\": [\\n                \"13985-602-05\",\\n                \"55111-161-50\",\\n                \"17478-713-11\",\\n                \"17478-713-10\",\\n                \"55111-160-79\",\\n                \"50383-025-05\",\\n                \"55111-161-78\",\\n                \"55111-161-79\",\\n                \"55111-160-30\",\\n                \"71209-097-05\",\\n                \"71209-098-02\",\\n                \"71209-099-10\",\\n                \"71209-098-05\",\\n                \"71209-097-02\",\\n                \"50383-024-10\",\\n                \"24208-410-10\",\\n                \"75834-200-05\",\\n                \"0404-7189-01\",\\n                \"64980-515-01\",\\n                \"75834-199-05\",\\n                \"55111-162-50\",\\n                \"75834-201-50\",\\n                \"24208-434-05\",\\n                \"68047-713-01\",\\n                \"55111-161-01\",\\n                \"55111-161-05\",\\n                \"55111-162-78\",\\n                \"55111-162-01\",\\n                \"75834-201-05\",\\n                \"55111-160-78\",\\n                \"55111-162-05\",\\n                \"13985-602-10\",\\n                \"69238-1615-3\",\\n                \"50383-025-10\",\\n                \"55111-160-01\",\\n                \"55111-160-05\",\\n                \"50383-024-05\",\\n                \"71209-099-05\",\\n                \"71209-098-10\",\\n                \"71209-099-02\",\\n                \"55111-162-30\",\\n                \"60505-0363-2\",\\n                \"75834-200-01\",\\n                \"71209-097-10\",\\n                \"60505-0363-1\",\\n                \"64980-515-05\",\\n                \"75834-200-50\",\\n                \"75834-201-01\",\\n                \"24208-434-10\",\\n                \"24208-410-05\",\\n                \"60505-0560-1\",\\n                \"60505-0560-0\",\\n                \"69238-1616-6\",\\n                \"75834-199-01\",\\n                \"75834-199-50\",\\n                \"55111-162-79\",\\n                \"55111-161-30\",\\n                \"55111-160-50\",\\n                \"11980-779-05\"\\n              ],\\n              \"generic_name\": [\\n                \"OFLOXACIN OTIC\",\\n                \"OFLOXACIN\",\\n                \"OFLOXAXIN\"\\n              ],\\n              \"spl_set_id\": [\\n                \"8db221b1-32f3-f6ca-e404-71f56a860d08\",\\n                \"1d19a6db-6da5-e7de-f929-2d18bdfa2cf5\",\\n                \"6a3dcc79-bde4-4c32-8a0e-ea14a1e1a191\",\\n                \"7aab4449-3dda-4e2c-8e40-b3244a548bf5\",\\n                \"2ec6bd57-96df-47ac-b218-1469801868b7\",\\n                \"1779c568-d7bb-4bd5-bc29-13bd52ba8a0a\",\\n                \"c76d8dc7-9a66-471b-814b-ef7f3605ec93\",\\n                \"7882f70e-d228-4c52-9390-0d927c51af1f\",\\n                \"ba37e2a0-1bf7-41ca-bddd-35fcb77f87de\",\\n                \"ef145ece-56d8-4dea-a136-ec462b335641\",\\n                \"ad40954d-0b1d-47c5-8bd5-8a1efd9a7153\",\\n                \"8b73d354-4631-40e8-b187-e8b0580bd6ea\",\\n                \"5117d567-2004-c5ed-1391-f8831864696f\",\\n                \"fcd7c5d7-42f4-4dcb-bc84-d976fafd5df4\",\\n                \"c677b35c-0432-4ee5-af57-1f95449c48b6\",\\n                \"c5484f1a-2321-453f-9469-dfcf709e2e2e\"\\n              ],\\n              \"brand_name\": [\\n                \"OFLOXACIN OTIC\",\\n                \"OFLOXACIN\",\\n                \"OCUFLOX\"\\n              ],\\n              \"manufacturer_name\": [\\n                \"Akorn, Inc.\",\\n                \"Dr. Reddy\\'s Laboratories Limited\",\\n                \"Hi-Tech Pharmacal Co., Inc.\",\\n                \"Larken Laboratories, Inc.\",\\n                \"Allergan, Inc.\",\\n                \"Rising Pharmaceuticals, Inc.\",\\n                \"Bausch & Lomb Incorporated\",\\n                \"Apotex Corp.\",\\n                \"Cadila Pharmaceuticals Limited\",\\n                \"Amneal Pharmaceuticals NY LLC\",\\n                \"Henry Schein Inc.\",\\n                \"MWI\",\\n                \"Nivagen Pharmaceuticals, Inc.\"\\n              ],\\n              \"unii\": [\\n                \"A4P49JAZ9H\"\\n              ],\\n              \"rxcui\": [\\n                \"207202\",\\n                \"312075\",\\n                \"198048\",\\n                \"198049\",\\n                \"198050\",\\n                \"242446\"\\n              ],\\n              \"spl_id\": [\\n                \"2d731281-5564-43ff-9889-07931fb2c555\",\\n                \"3e4a3dc8-8e55-cc6e-6fb1-3796147f4607\",\\n                \"3c2cd322-52c4-4a57-be97-934f72f7eec7\",\\n                \"84d7029b-f19a-4360-9fec-7a5e9282b7d7\",\\n                \"285d54dd-a0d8-44cf-b45b-287e708689d1\",\\n                \"3fc21b59-1737-4e42-8e35-98eb9256a4d3\",\\n                \"5e988471-3379-4f68-be87-172e7ca7ac99\",\\n                \"889d4bcc-0b25-f208-dea4-aedf75197224\",\\n                \"1968c63c-6b58-45f4-94a0-373feed01643\",\\n                \"bd2baa03-a145-4320-b7ca-d63f6343e9d6\",\\n                \"48a41c0b-59f7-ef15-7639-30323f6d631b\",\\n                \"8f54f003-e7c5-49d1-8369-15a1c38f4597\",\\n                \"e0fc372b-f613-4598-9359-4d3cba07f9af\",\\n                \"0d187321-481b-4030-96b6-2df0bf5b0487\",\\n                \"c41b0332-f580-4927-8621-9af1452f8ac6\",\\n                \"8a21bee4-9f42-27bb-e053-2a95a90ada92\"\\n              ],\\n              \"substance_name\": [\\n                \"OFLOXACIN\"\\n              ],\\n              \"product_type\": [\\n                \"HUMAN PRESCRIPTION DRUG\"\\n              ],\\n              \"route\": [\\n                \"AURICULAR (OTIC)\",\\n                \"ORAL\",\\n                \"OPHTHALMIC\"\\n              ],\\n              \"application_number\": [\\n                \"ANDA076407\",\\n                \"NDA019921\",\\n                \"ANDA091656\",\\n                \"ANDA076128\",\\n                \"ANDA076527\",\\n                \"ANDA211525\",\\n                \"ANDA076622\",\\n                \"ANDA076513\",\\n                \"ANDA076616\",\\n                \"ANDA078559\",\\n                \"ANDA076615\",\\n                \"ANDA076093\",\\n                \"ANDA077098\"\\n              ]\\n            },\\n            \"medicinalproduct\": \"OFLOXACIN\"\\n          }\\n        ]\\n      },\\n      \"seriousnesshospitalization\": \"1\",\\n      \"transmissiondate\": \"20041129\",\\n      \"serious\": \"1\",\\n      \"receiptdate\": \"20040315\"\\n    }\\n  ]\\n}'"
      ]
     },
     "execution_count": 15,
     "metadata": {},
     "output_type": "execute_result"
    }
   ],
   "source": [
    "response.content"
   ]
  },
  {
   "cell_type": "code",
   "execution_count": 680,
   "metadata": {},
   "outputs": [
    {
     "name": "stdout",
     "output_type": "stream",
     "text": [
      "429\n"
     ]
    }
   ],
   "source": [
    "response = requests.get(\"https://api.fda.gov/drug/event.json?search=receivedate:[20040101+TO+20081231]&limit=1\")\n",
    "# Print the status code of the response.\n",
    "print(response.status_code)"
   ]
  },
  {
   "cell_type": "code",
   "execution_count": 681,
   "metadata": {},
   "outputs": [
    {
     "data": {
      "text/plain": [
       "b'{\\n  \"error\": {\\n    \"code\": \"OVER_RATE_LIMIT\",\\n    \"message\": \"You have exceeded your rate limit. Try again later or contact us at https://api.fda.gov:443/contact/ for assistance\"\\n  }\\n}'"
      ]
     },
     "execution_count": 681,
     "metadata": {},
     "output_type": "execute_result"
    }
   ],
   "source": [
    "response.content"
   ]
  },
  {
   "cell_type": "code",
   "execution_count": 682,
   "metadata": {},
   "outputs": [
    {
     "name": "stdout",
     "output_type": "stream",
     "text": [
      "200\n"
     ]
    }
   ],
   "source": [
    "response = requests.get(query_start+\"&search=receivedate:[20040101+TO+20081231]&limit=1\")\n",
    "# Print the status code of the response.\n",
    "print(response.status_code)"
   ]
  },
  {
   "cell_type": "code",
   "execution_count": 683,
   "metadata": {
    "collapsed": true
   },
   "outputs": [
    {
     "data": {
      "text/plain": [
       "b'{\\n  \"meta\": {\\n    \"disclaimer\": \"Do not rely on openFDA to make decisions regarding medical care. While we make every effort to ensure that data is accurate, you should assume all results are unvalidated. We may limit or otherwise restrict your access to the API in line with our Terms of Service.\",\\n    \"terms\": \"https://open.fda.gov/terms/\",\\n    \"license\": \"https://open.fda.gov/license/\",\\n    \"last_updated\": \"2020-05-02\",\\n    \"results\": {\\n      \"skip\": 0,\\n      \"limit\": 1,\\n      \"total\": 1313656\\n    }\\n  },\\n  \"results\": [\\n    {\\n      \"receiptdateformat\": \"102\",\\n      \"receiver\": null,\\n      \"companynumb\": \"HQWYE821915MAR04\",\\n      \"receivedateformat\": \"102\",\\n      \"primarysource\": null,\\n      \"seriousnessother\": \"1\",\\n      \"transmissiondateformat\": \"102\",\\n      \"fulfillexpeditecriteria\": \"1\",\\n      \"safetyreportid\": \"4322505-4\",\\n      \"sender\": {\\n        \"senderorganization\": \"FDA-Public Use\"\\n      },\\n      \"receivedate\": \"20040319\",\\n      \"patient\": {\\n        \"patientonsetage\": \"56\",\\n        \"reaction\": [\\n          {\\n            \"reactionmeddrapt\": \"ARTHRALGIA\"\\n          },\\n          {\\n            \"reactionmeddrapt\": \"OEDEMA PERIPHERAL\"\\n          },\\n          {\\n            \"reactionmeddrapt\": \"PURPURA\"\\n          }\\n        ],\\n        \"patientonsetageunit\": \"801\",\\n        \"patientsex\": \"1\",\\n        \"drug\": [\\n          {\\n            \"drugstartdateformat\": \"102\",\\n            \"drugindication\": \"PYELONEPHRITIS\",\\n            \"drugadministrationroute\": \"048\",\\n            \"drugtreatmentduration\": \"4\",\\n            \"drugcharacterization\": \"1\",\\n            \"drugstartdate\": \"20031227\",\\n            \"drugenddateformat\": \"102\",\\n            \"drugtreatmentdurationunit\": \"804\",\\n            \"drugdosagetext\": \"ORAL\",\\n            \"drugauthorizationnumb\": \"50621\",\\n            \"drugenddate\": \"20031230\",\\n            \"medicinalproduct\": \"OROKEN (CEFIXIME, UNSPEC)\"\\n          },\\n          {\\n            \"drugcharacterization\": \"2\",\\n            \"medicinalproduct\": \"PYOSTACINE (PRISTINAMYCIN)\"\\n          },\\n          {\\n            \"drugcharacterization\": \"2\",\\n            \"medicinalproduct\": \"ROCEPHIN\"\\n          },\\n          {\\n            \"drugcharacterization\": \"2\",\\n            \"openfda\": {\\n              \"product_ndc\": [\\n                \"55111-160\",\\n                \"55111-161\",\\n                \"60505-0560\",\\n                \"0404-7189\",\\n                \"55111-162\",\\n                \"64980-515\",\\n                \"11980-779\",\\n                \"69238-1616\",\\n                \"69238-1615\",\\n                \"50383-025\",\\n                \"50383-024\",\\n                \"13985-602\",\\n                \"60505-0363\",\\n                \"68047-713\",\\n                \"75834-201\",\\n                \"75834-200\",\\n                \"71209-097\",\\n                \"71209-098\",\\n                \"71209-099\",\\n                \"24208-434\",\\n                \"75834-199\",\\n                \"17478-713\",\\n                \"24208-410\"\\n              ],\\n              \"package_ndc\": [\\n                \"13985-602-05\",\\n                \"55111-161-50\",\\n                \"17478-713-11\",\\n                \"17478-713-10\",\\n                \"55111-160-79\",\\n                \"50383-025-05\",\\n                \"55111-161-78\",\\n                \"55111-161-79\",\\n                \"55111-160-30\",\\n                \"71209-097-05\",\\n                \"71209-098-02\",\\n                \"71209-099-10\",\\n                \"71209-098-05\",\\n                \"71209-097-02\",\\n                \"50383-024-10\",\\n                \"24208-410-10\",\\n                \"75834-200-05\",\\n                \"0404-7189-01\",\\n                \"64980-515-01\",\\n                \"75834-199-05\",\\n                \"55111-162-50\",\\n                \"75834-201-50\",\\n                \"24208-434-05\",\\n                \"68047-713-01\",\\n                \"55111-161-01\",\\n                \"55111-161-05\",\\n                \"55111-162-78\",\\n                \"55111-162-01\",\\n                \"75834-201-05\",\\n                \"55111-160-78\",\\n                \"55111-162-05\",\\n                \"13985-602-10\",\\n                \"69238-1615-3\",\\n                \"50383-025-10\",\\n                \"55111-160-01\",\\n                \"55111-160-05\",\\n                \"50383-024-05\",\\n                \"71209-099-05\",\\n                \"71209-098-10\",\\n                \"71209-099-02\",\\n                \"55111-162-30\",\\n                \"60505-0363-2\",\\n                \"75834-200-01\",\\n                \"71209-097-10\",\\n                \"60505-0363-1\",\\n                \"64980-515-05\",\\n                \"75834-200-50\",\\n                \"75834-201-01\",\\n                \"24208-434-10\",\\n                \"24208-410-05\",\\n                \"60505-0560-1\",\\n                \"60505-0560-0\",\\n                \"69238-1616-6\",\\n                \"75834-199-01\",\\n                \"75834-199-50\",\\n                \"55111-162-79\",\\n                \"55111-161-30\",\\n                \"55111-160-50\",\\n                \"11980-779-05\"\\n              ],\\n              \"generic_name\": [\\n                \"OFLOXACIN OTIC\",\\n                \"OFLOXACIN\",\\n                \"OFLOXAXIN\"\\n              ],\\n              \"spl_set_id\": [\\n                \"8db221b1-32f3-f6ca-e404-71f56a860d08\",\\n                \"1d19a6db-6da5-e7de-f929-2d18bdfa2cf5\",\\n                \"6a3dcc79-bde4-4c32-8a0e-ea14a1e1a191\",\\n                \"7aab4449-3dda-4e2c-8e40-b3244a548bf5\",\\n                \"2ec6bd57-96df-47ac-b218-1469801868b7\",\\n                \"1779c568-d7bb-4bd5-bc29-13bd52ba8a0a\",\\n                \"c76d8dc7-9a66-471b-814b-ef7f3605ec93\",\\n                \"7882f70e-d228-4c52-9390-0d927c51af1f\",\\n                \"ba37e2a0-1bf7-41ca-bddd-35fcb77f87de\",\\n                \"ef145ece-56d8-4dea-a136-ec462b335641\",\\n                \"ad40954d-0b1d-47c5-8bd5-8a1efd9a7153\",\\n                \"8b73d354-4631-40e8-b187-e8b0580bd6ea\",\\n                \"5117d567-2004-c5ed-1391-f8831864696f\",\\n                \"fcd7c5d7-42f4-4dcb-bc84-d976fafd5df4\",\\n                \"c677b35c-0432-4ee5-af57-1f95449c48b6\",\\n                \"c5484f1a-2321-453f-9469-dfcf709e2e2e\"\\n              ],\\n              \"brand_name\": [\\n                \"OFLOXACIN OTIC\",\\n                \"OFLOXACIN\",\\n                \"OCUFLOX\"\\n              ],\\n              \"manufacturer_name\": [\\n                \"Akorn, Inc.\",\\n                \"Dr. Reddy\\'s Laboratories Limited\",\\n                \"Hi-Tech Pharmacal Co., Inc.\",\\n                \"Larken Laboratories, Inc.\",\\n                \"Allergan, Inc.\",\\n                \"Rising Pharmaceuticals, Inc.\",\\n                \"Bausch & Lomb Incorporated\",\\n                \"Apotex Corp.\",\\n                \"Cadila Pharmaceuticals Limited\",\\n                \"Amneal Pharmaceuticals NY LLC\",\\n                \"Henry Schein Inc.\",\\n                \"MWI\",\\n                \"Nivagen Pharmaceuticals, Inc.\"\\n              ],\\n              \"unii\": [\\n                \"A4P49JAZ9H\"\\n              ],\\n              \"rxcui\": [\\n                \"207202\",\\n                \"312075\",\\n                \"198048\",\\n                \"198049\",\\n                \"198050\",\\n                \"242446\"\\n              ],\\n              \"spl_id\": [\\n                \"2d731281-5564-43ff-9889-07931fb2c555\",\\n                \"3e4a3dc8-8e55-cc6e-6fb1-3796147f4607\",\\n                \"3c2cd322-52c4-4a57-be97-934f72f7eec7\",\\n                \"84d7029b-f19a-4360-9fec-7a5e9282b7d7\",\\n                \"285d54dd-a0d8-44cf-b45b-287e708689d1\",\\n                \"3fc21b59-1737-4e42-8e35-98eb9256a4d3\",\\n                \"5e988471-3379-4f68-be87-172e7ca7ac99\",\\n                \"889d4bcc-0b25-f208-dea4-aedf75197224\",\\n                \"1968c63c-6b58-45f4-94a0-373feed01643\",\\n                \"bd2baa03-a145-4320-b7ca-d63f6343e9d6\",\\n                \"48a41c0b-59f7-ef15-7639-30323f6d631b\",\\n                \"8f54f003-e7c5-49d1-8369-15a1c38f4597\",\\n                \"e0fc372b-f613-4598-9359-4d3cba07f9af\",\\n                \"0d187321-481b-4030-96b6-2df0bf5b0487\",\\n                \"c41b0332-f580-4927-8621-9af1452f8ac6\",\\n                \"8a21bee4-9f42-27bb-e053-2a95a90ada92\"\\n              ],\\n              \"substance_name\": [\\n                \"OFLOXACIN\"\\n              ],\\n              \"product_type\": [\\n                \"HUMAN PRESCRIPTION DRUG\"\\n              ],\\n              \"route\": [\\n                \"AURICULAR (OTIC)\",\\n                \"ORAL\",\\n                \"OPHTHALMIC\"\\n              ],\\n              \"application_number\": [\\n                \"ANDA076407\",\\n                \"NDA019921\",\\n                \"ANDA091656\",\\n                \"ANDA076128\",\\n                \"ANDA076527\",\\n                \"ANDA211525\",\\n                \"ANDA076622\",\\n                \"ANDA076513\",\\n                \"ANDA076616\",\\n                \"ANDA078559\",\\n                \"ANDA076615\",\\n                \"ANDA076093\",\\n                \"ANDA077098\"\\n              ]\\n            },\\n            \"medicinalproduct\": \"OFLOXACIN\"\\n          }\\n        ]\\n      },\\n      \"seriousnesshospitalization\": \"1\",\\n      \"transmissiondate\": \"20041129\",\\n      \"serious\": \"1\",\\n      \"receiptdate\": \"20040315\"\\n    }\\n  ]\\n}'"
      ]
     },
     "execution_count": 683,
     "metadata": {},
     "output_type": "execute_result"
    }
   ],
   "source": [
    "response.content"
   ]
  },
  {
   "cell_type": "code",
   "execution_count": null,
   "metadata": {},
   "outputs": [],
   "source": []
  },
  {
   "cell_type": "code",
   "execution_count": null,
   "metadata": {},
   "outputs": [],
   "source": []
  },
  {
   "cell_type": "code",
   "execution_count": null,
   "metadata": {},
   "outputs": [],
   "source": []
  },
  {
   "cell_type": "code",
   "execution_count": null,
   "metadata": {},
   "outputs": [],
   "source": []
  },
  {
   "cell_type": "markdown",
   "metadata": {},
   "source": [
    "## Parsing & Formatting JSON"
   ]
  },
  {
   "cell_type": "code",
   "execution_count": 689,
   "metadata": {
    "collapsed": true
   },
   "outputs": [
    {
     "data": {
      "text/plain": [
       "b'{\\n  \"meta\": {\\n    \"disclaimer\": \"Do not rely on openFDA to make decisions regarding medical care. While we make every effort to ensure that data is accurate, you should assume all results are unvalidated. We may limit or otherwise restrict your access to the API in line with our Terms of Service.\",\\n    \"terms\": \"https://open.fda.gov/terms/\",\\n    \"license\": \"https://open.fda.gov/license/\",\\n    \"last_updated\": \"2020-05-02\",\\n    \"results\": {\\n      \"skip\": 0,\\n      \"limit\": 1,\\n      \"total\": 1313656\\n    }\\n  },\\n  \"results\": [\\n    {\\n      \"receiptdateformat\": \"102\",\\n      \"receiver\": null,\\n      \"companynumb\": \"HQWYE821915MAR04\",\\n      \"receivedateformat\": \"102\",\\n      \"primarysource\": null,\\n      \"seriousnessother\": \"1\",\\n      \"transmissiondateformat\": \"102\",\\n      \"fulfillexpeditecriteria\": \"1\",\\n      \"safetyreportid\": \"4322505-4\",\\n      \"sender\": {\\n        \"senderorganization\": \"FDA-Public Use\"\\n      },\\n      \"receivedate\": \"20040319\",\\n      \"patient\": {\\n        \"patientonsetage\": \"56\",\\n        \"reaction\": [\\n          {\\n            \"reactionmeddrapt\": \"ARTHRALGIA\"\\n          },\\n          {\\n            \"reactionmeddrapt\": \"OEDEMA PERIPHERAL\"\\n          },\\n          {\\n            \"reactionmeddrapt\": \"PURPURA\"\\n          }\\n        ],\\n        \"patientonsetageunit\": \"801\",\\n        \"patientsex\": \"1\",\\n        \"drug\": [\\n          {\\n            \"drugstartdateformat\": \"102\",\\n            \"drugindication\": \"PYELONEPHRITIS\",\\n            \"drugadministrationroute\": \"048\",\\n            \"drugtreatmentduration\": \"4\",\\n            \"drugcharacterization\": \"1\",\\n            \"drugstartdate\": \"20031227\",\\n            \"drugenddateformat\": \"102\",\\n            \"drugtreatmentdurationunit\": \"804\",\\n            \"drugdosagetext\": \"ORAL\",\\n            \"drugauthorizationnumb\": \"50621\",\\n            \"drugenddate\": \"20031230\",\\n            \"medicinalproduct\": \"OROKEN (CEFIXIME, UNSPEC)\"\\n          },\\n          {\\n            \"drugcharacterization\": \"2\",\\n            \"medicinalproduct\": \"PYOSTACINE (PRISTINAMYCIN)\"\\n          },\\n          {\\n            \"drugcharacterization\": \"2\",\\n            \"medicinalproduct\": \"ROCEPHIN\"\\n          },\\n          {\\n            \"drugcharacterization\": \"2\",\\n            \"openfda\": {\\n              \"product_ndc\": [\\n                \"55111-160\",\\n                \"55111-161\",\\n                \"60505-0560\",\\n                \"0404-7189\",\\n                \"55111-162\",\\n                \"64980-515\",\\n                \"11980-779\",\\n                \"69238-1616\",\\n                \"69238-1615\",\\n                \"50383-025\",\\n                \"50383-024\",\\n                \"13985-602\",\\n                \"60505-0363\",\\n                \"68047-713\",\\n                \"75834-201\",\\n                \"75834-200\",\\n                \"71209-097\",\\n                \"71209-098\",\\n                \"71209-099\",\\n                \"24208-434\",\\n                \"75834-199\",\\n                \"17478-713\",\\n                \"24208-410\"\\n              ],\\n              \"package_ndc\": [\\n                \"13985-602-05\",\\n                \"55111-161-50\",\\n                \"17478-713-11\",\\n                \"17478-713-10\",\\n                \"55111-160-79\",\\n                \"50383-025-05\",\\n                \"55111-161-78\",\\n                \"55111-161-79\",\\n                \"55111-160-30\",\\n                \"71209-097-05\",\\n                \"71209-098-02\",\\n                \"71209-099-10\",\\n                \"71209-098-05\",\\n                \"71209-097-02\",\\n                \"50383-024-10\",\\n                \"24208-410-10\",\\n                \"75834-200-05\",\\n                \"0404-7189-01\",\\n                \"64980-515-01\",\\n                \"75834-199-05\",\\n                \"55111-162-50\",\\n                \"75834-201-50\",\\n                \"24208-434-05\",\\n                \"68047-713-01\",\\n                \"55111-161-01\",\\n                \"55111-161-05\",\\n                \"55111-162-78\",\\n                \"55111-162-01\",\\n                \"75834-201-05\",\\n                \"55111-160-78\",\\n                \"55111-162-05\",\\n                \"13985-602-10\",\\n                \"69238-1615-3\",\\n                \"50383-025-10\",\\n                \"55111-160-01\",\\n                \"55111-160-05\",\\n                \"50383-024-05\",\\n                \"71209-099-05\",\\n                \"71209-098-10\",\\n                \"71209-099-02\",\\n                \"55111-162-30\",\\n                \"60505-0363-2\",\\n                \"75834-200-01\",\\n                \"71209-097-10\",\\n                \"60505-0363-1\",\\n                \"64980-515-05\",\\n                \"75834-200-50\",\\n                \"75834-201-01\",\\n                \"24208-434-10\",\\n                \"24208-410-05\",\\n                \"60505-0560-1\",\\n                \"60505-0560-0\",\\n                \"69238-1616-6\",\\n                \"75834-199-01\",\\n                \"75834-199-50\",\\n                \"55111-162-79\",\\n                \"55111-161-30\",\\n                \"55111-160-50\",\\n                \"11980-779-05\"\\n              ],\\n              \"generic_name\": [\\n                \"OFLOXACIN OTIC\",\\n                \"OFLOXACIN\",\\n                \"OFLOXAXIN\"\\n              ],\\n              \"spl_set_id\": [\\n                \"8db221b1-32f3-f6ca-e404-71f56a860d08\",\\n                \"1d19a6db-6da5-e7de-f929-2d18bdfa2cf5\",\\n                \"6a3dcc79-bde4-4c32-8a0e-ea14a1e1a191\",\\n                \"7aab4449-3dda-4e2c-8e40-b3244a548bf5\",\\n                \"2ec6bd57-96df-47ac-b218-1469801868b7\",\\n                \"1779c568-d7bb-4bd5-bc29-13bd52ba8a0a\",\\n                \"c76d8dc7-9a66-471b-814b-ef7f3605ec93\",\\n                \"7882f70e-d228-4c52-9390-0d927c51af1f\",\\n                \"ba37e2a0-1bf7-41ca-bddd-35fcb77f87de\",\\n                \"ef145ece-56d8-4dea-a136-ec462b335641\",\\n                \"ad40954d-0b1d-47c5-8bd5-8a1efd9a7153\",\\n                \"8b73d354-4631-40e8-b187-e8b0580bd6ea\",\\n                \"5117d567-2004-c5ed-1391-f8831864696f\",\\n                \"fcd7c5d7-42f4-4dcb-bc84-d976fafd5df4\",\\n                \"c677b35c-0432-4ee5-af57-1f95449c48b6\",\\n                \"c5484f1a-2321-453f-9469-dfcf709e2e2e\"\\n              ],\\n              \"brand_name\": [\\n                \"OFLOXACIN OTIC\",\\n                \"OFLOXACIN\",\\n                \"OCUFLOX\"\\n              ],\\n              \"manufacturer_name\": [\\n                \"Akorn, Inc.\",\\n                \"Dr. Reddy\\'s Laboratories Limited\",\\n                \"Hi-Tech Pharmacal Co., Inc.\",\\n                \"Larken Laboratories, Inc.\",\\n                \"Allergan, Inc.\",\\n                \"Rising Pharmaceuticals, Inc.\",\\n                \"Bausch & Lomb Incorporated\",\\n                \"Apotex Corp.\",\\n                \"Cadila Pharmaceuticals Limited\",\\n                \"Amneal Pharmaceuticals NY LLC\",\\n                \"Henry Schein Inc.\",\\n                \"MWI\",\\n                \"Nivagen Pharmaceuticals, Inc.\"\\n              ],\\n              \"unii\": [\\n                \"A4P49JAZ9H\"\\n              ],\\n              \"rxcui\": [\\n                \"207202\",\\n                \"312075\",\\n                \"198048\",\\n                \"198049\",\\n                \"198050\",\\n                \"242446\"\\n              ],\\n              \"spl_id\": [\\n                \"2d731281-5564-43ff-9889-07931fb2c555\",\\n                \"3e4a3dc8-8e55-cc6e-6fb1-3796147f4607\",\\n                \"3c2cd322-52c4-4a57-be97-934f72f7eec7\",\\n                \"84d7029b-f19a-4360-9fec-7a5e9282b7d7\",\\n                \"285d54dd-a0d8-44cf-b45b-287e708689d1\",\\n                \"3fc21b59-1737-4e42-8e35-98eb9256a4d3\",\\n                \"5e988471-3379-4f68-be87-172e7ca7ac99\",\\n                \"889d4bcc-0b25-f208-dea4-aedf75197224\",\\n                \"1968c63c-6b58-45f4-94a0-373feed01643\",\\n                \"bd2baa03-a145-4320-b7ca-d63f6343e9d6\",\\n                \"48a41c0b-59f7-ef15-7639-30323f6d631b\",\\n                \"8f54f003-e7c5-49d1-8369-15a1c38f4597\",\\n                \"e0fc372b-f613-4598-9359-4d3cba07f9af\",\\n                \"0d187321-481b-4030-96b6-2df0bf5b0487\",\\n                \"c41b0332-f580-4927-8621-9af1452f8ac6\",\\n                \"8a21bee4-9f42-27bb-e053-2a95a90ada92\"\\n              ],\\n              \"substance_name\": [\\n                \"OFLOXACIN\"\\n              ],\\n              \"product_type\": [\\n                \"HUMAN PRESCRIPTION DRUG\"\\n              ],\\n              \"route\": [\\n                \"AURICULAR (OTIC)\",\\n                \"ORAL\",\\n                \"OPHTHALMIC\"\\n              ],\\n              \"application_number\": [\\n                \"ANDA076407\",\\n                \"NDA019921\",\\n                \"ANDA091656\",\\n                \"ANDA076128\",\\n                \"ANDA076527\",\\n                \"ANDA211525\",\\n                \"ANDA076622\",\\n                \"ANDA076513\",\\n                \"ANDA076616\",\\n                \"ANDA078559\",\\n                \"ANDA076615\",\\n                \"ANDA076093\",\\n                \"ANDA077098\"\\n              ]\\n            },\\n            \"medicinalproduct\": \"OFLOXACIN\"\\n          }\\n        ]\\n      },\\n      \"seriousnesshospitalization\": \"1\",\\n      \"transmissiondate\": \"20041129\",\\n      \"serious\": \"1\",\\n      \"receiptdate\": \"20040315\"\\n    }\\n  ]\\n}'"
      ]
     },
     "execution_count": 689,
     "metadata": {},
     "output_type": "execute_result"
    }
   ],
   "source": [
    "response.content"
   ]
  },
  {
   "cell_type": "code",
   "execution_count": 690,
   "metadata": {},
   "outputs": [],
   "source": [
    "content = json.loads(response.content)"
   ]
  },
  {
   "cell_type": "code",
   "execution_count": 707,
   "metadata": {},
   "outputs": [
    {
     "data": {
      "text/plain": [
       "{'meta': {'disclaimer': 'Do not rely on openFDA to make decisions regarding medical care. While we make every effort to ensure that data is accurate, you should assume all results are unvalidated. We may limit or otherwise restrict your access to the API in line with our Terms of Service.',\n",
       "  'terms': 'https://open.fda.gov/terms/',\n",
       "  'license': 'https://open.fda.gov/license/',\n",
       "  'last_updated': '2020-05-02',\n",
       "  'results': {'skip': 0, 'limit': 1, 'total': 1313656}},\n",
       " 'results': [{'receiptdateformat': '102',\n",
       "   'receiver': None,\n",
       "   'companynumb': 'HQWYE821915MAR04',\n",
       "   'receivedateformat': '102',\n",
       "   'primarysource': None,\n",
       "   'seriousnessother': '1',\n",
       "   'transmissiondateformat': '102',\n",
       "   'fulfillexpeditecriteria': '1',\n",
       "   'safetyreportid': '4322505-4',\n",
       "   'sender': {'senderorganization': 'FDA-Public Use'},\n",
       "   'receivedate': '20040319',\n",
       "   'patient': {'patientonsetage': '56',\n",
       "    'reaction': [{'reactionmeddrapt': 'ARTHRALGIA'},\n",
       "     {'reactionmeddrapt': 'OEDEMA PERIPHERAL'},\n",
       "     {'reactionmeddrapt': 'PURPURA'}],\n",
       "    'patientonsetageunit': '801',\n",
       "    'patientsex': '1',\n",
       "    'drug': [{'drugstartdateformat': '102',\n",
       "      'drugindication': 'PYELONEPHRITIS',\n",
       "      'drugadministrationroute': '048',\n",
       "      'drugtreatmentduration': '4',\n",
       "      'drugcharacterization': '1',\n",
       "      'drugstartdate': '20031227',\n",
       "      'drugenddateformat': '102',\n",
       "      'drugtreatmentdurationunit': '804',\n",
       "      'drugdosagetext': 'ORAL',\n",
       "      'drugauthorizationnumb': '50621',\n",
       "      'drugenddate': '20031230',\n",
       "      'medicinalproduct': 'OROKEN (CEFIXIME, UNSPEC)'},\n",
       "     {'drugcharacterization': '2',\n",
       "      'medicinalproduct': 'PYOSTACINE (PRISTINAMYCIN)'},\n",
       "     {'drugcharacterization': '2', 'medicinalproduct': 'ROCEPHIN'},\n",
       "     {'drugcharacterization': '2',\n",
       "      'openfda': {'product_ndc': ['55111-160',\n",
       "        '55111-161',\n",
       "        '60505-0560',\n",
       "        '0404-7189',\n",
       "        '55111-162',\n",
       "        '64980-515',\n",
       "        '11980-779',\n",
       "        '69238-1616',\n",
       "        '69238-1615',\n",
       "        '50383-025',\n",
       "        '50383-024',\n",
       "        '13985-602',\n",
       "        '60505-0363',\n",
       "        '68047-713',\n",
       "        '75834-201',\n",
       "        '75834-200',\n",
       "        '71209-097',\n",
       "        '71209-098',\n",
       "        '71209-099',\n",
       "        '24208-434',\n",
       "        '75834-199',\n",
       "        '17478-713',\n",
       "        '24208-410'],\n",
       "       'package_ndc': ['13985-602-05',\n",
       "        '55111-161-50',\n",
       "        '17478-713-11',\n",
       "        '17478-713-10',\n",
       "        '55111-160-79',\n",
       "        '50383-025-05',\n",
       "        '55111-161-78',\n",
       "        '55111-161-79',\n",
       "        '55111-160-30',\n",
       "        '71209-097-05',\n",
       "        '71209-098-02',\n",
       "        '71209-099-10',\n",
       "        '71209-098-05',\n",
       "        '71209-097-02',\n",
       "        '50383-024-10',\n",
       "        '24208-410-10',\n",
       "        '75834-200-05',\n",
       "        '0404-7189-01',\n",
       "        '64980-515-01',\n",
       "        '75834-199-05',\n",
       "        '55111-162-50',\n",
       "        '75834-201-50',\n",
       "        '24208-434-05',\n",
       "        '68047-713-01',\n",
       "        '55111-161-01',\n",
       "        '55111-161-05',\n",
       "        '55111-162-78',\n",
       "        '55111-162-01',\n",
       "        '75834-201-05',\n",
       "        '55111-160-78',\n",
       "        '55111-162-05',\n",
       "        '13985-602-10',\n",
       "        '69238-1615-3',\n",
       "        '50383-025-10',\n",
       "        '55111-160-01',\n",
       "        '55111-160-05',\n",
       "        '50383-024-05',\n",
       "        '71209-099-05',\n",
       "        '71209-098-10',\n",
       "        '71209-099-02',\n",
       "        '55111-162-30',\n",
       "        '60505-0363-2',\n",
       "        '75834-200-01',\n",
       "        '71209-097-10',\n",
       "        '60505-0363-1',\n",
       "        '64980-515-05',\n",
       "        '75834-200-50',\n",
       "        '75834-201-01',\n",
       "        '24208-434-10',\n",
       "        '24208-410-05',\n",
       "        '60505-0560-1',\n",
       "        '60505-0560-0',\n",
       "        '69238-1616-6',\n",
       "        '75834-199-01',\n",
       "        '75834-199-50',\n",
       "        '55111-162-79',\n",
       "        '55111-161-30',\n",
       "        '55111-160-50',\n",
       "        '11980-779-05'],\n",
       "       'generic_name': ['OFLOXACIN OTIC', 'OFLOXACIN', 'OFLOXAXIN'],\n",
       "       'spl_set_id': ['8db221b1-32f3-f6ca-e404-71f56a860d08',\n",
       "        '1d19a6db-6da5-e7de-f929-2d18bdfa2cf5',\n",
       "        '6a3dcc79-bde4-4c32-8a0e-ea14a1e1a191',\n",
       "        '7aab4449-3dda-4e2c-8e40-b3244a548bf5',\n",
       "        '2ec6bd57-96df-47ac-b218-1469801868b7',\n",
       "        '1779c568-d7bb-4bd5-bc29-13bd52ba8a0a',\n",
       "        'c76d8dc7-9a66-471b-814b-ef7f3605ec93',\n",
       "        '7882f70e-d228-4c52-9390-0d927c51af1f',\n",
       "        'ba37e2a0-1bf7-41ca-bddd-35fcb77f87de',\n",
       "        'ef145ece-56d8-4dea-a136-ec462b335641',\n",
       "        'ad40954d-0b1d-47c5-8bd5-8a1efd9a7153',\n",
       "        '8b73d354-4631-40e8-b187-e8b0580bd6ea',\n",
       "        '5117d567-2004-c5ed-1391-f8831864696f',\n",
       "        'fcd7c5d7-42f4-4dcb-bc84-d976fafd5df4',\n",
       "        'c677b35c-0432-4ee5-af57-1f95449c48b6',\n",
       "        'c5484f1a-2321-453f-9469-dfcf709e2e2e'],\n",
       "       'brand_name': ['OFLOXACIN OTIC', 'OFLOXACIN', 'OCUFLOX'],\n",
       "       'manufacturer_name': ['Akorn, Inc.',\n",
       "        \"Dr. Reddy's Laboratories Limited\",\n",
       "        'Hi-Tech Pharmacal Co., Inc.',\n",
       "        'Larken Laboratories, Inc.',\n",
       "        'Allergan, Inc.',\n",
       "        'Rising Pharmaceuticals, Inc.',\n",
       "        'Bausch & Lomb Incorporated',\n",
       "        'Apotex Corp.',\n",
       "        'Cadila Pharmaceuticals Limited',\n",
       "        'Amneal Pharmaceuticals NY LLC',\n",
       "        'Henry Schein Inc.',\n",
       "        'MWI',\n",
       "        'Nivagen Pharmaceuticals, Inc.'],\n",
       "       'unii': ['A4P49JAZ9H'],\n",
       "       'rxcui': ['207202', '312075', '198048', '198049', '198050', '242446'],\n",
       "       'spl_id': ['2d731281-5564-43ff-9889-07931fb2c555',\n",
       "        '3e4a3dc8-8e55-cc6e-6fb1-3796147f4607',\n",
       "        '3c2cd322-52c4-4a57-be97-934f72f7eec7',\n",
       "        '84d7029b-f19a-4360-9fec-7a5e9282b7d7',\n",
       "        '285d54dd-a0d8-44cf-b45b-287e708689d1',\n",
       "        '3fc21b59-1737-4e42-8e35-98eb9256a4d3',\n",
       "        '5e988471-3379-4f68-be87-172e7ca7ac99',\n",
       "        '889d4bcc-0b25-f208-dea4-aedf75197224',\n",
       "        '1968c63c-6b58-45f4-94a0-373feed01643',\n",
       "        'bd2baa03-a145-4320-b7ca-d63f6343e9d6',\n",
       "        '48a41c0b-59f7-ef15-7639-30323f6d631b',\n",
       "        '8f54f003-e7c5-49d1-8369-15a1c38f4597',\n",
       "        'e0fc372b-f613-4598-9359-4d3cba07f9af',\n",
       "        '0d187321-481b-4030-96b6-2df0bf5b0487',\n",
       "        'c41b0332-f580-4927-8621-9af1452f8ac6',\n",
       "        '8a21bee4-9f42-27bb-e053-2a95a90ada92'],\n",
       "       'substance_name': ['OFLOXACIN'],\n",
       "       'product_type': ['HUMAN PRESCRIPTION DRUG'],\n",
       "       'route': ['AURICULAR (OTIC)', 'ORAL', 'OPHTHALMIC'],\n",
       "       'application_number': ['ANDA076407',\n",
       "        'NDA019921',\n",
       "        'ANDA091656',\n",
       "        'ANDA076128',\n",
       "        'ANDA076527',\n",
       "        'ANDA211525',\n",
       "        'ANDA076622',\n",
       "        'ANDA076513',\n",
       "        'ANDA076616',\n",
       "        'ANDA078559',\n",
       "        'ANDA076615',\n",
       "        'ANDA076093',\n",
       "        'ANDA077098']},\n",
       "      'medicinalproduct': 'OFLOXACIN'}]},\n",
       "   'seriousnesshospitalization': '1',\n",
       "   'transmissiondate': '20041129',\n",
       "   'serious': '1',\n",
       "   'receiptdate': '20040315'}]}"
      ]
     },
     "execution_count": 707,
     "metadata": {},
     "output_type": "execute_result"
    }
   ],
   "source": [
    "content"
   ]
  },
  {
   "cell_type": "code",
   "execution_count": 729,
   "metadata": {},
   "outputs": [],
   "source": [
    "results = pd.json_normalize(data = content['results'], record_path =['patient','drug'])"
   ]
  },
  {
   "cell_type": "code",
   "execution_count": 730,
   "metadata": {},
   "outputs": [
    {
     "data": {
      "text/html": [
       "<div>\n",
       "<style scoped>\n",
       "    .dataframe tbody tr th:only-of-type {\n",
       "        vertical-align: middle;\n",
       "    }\n",
       "\n",
       "    .dataframe tbody tr th {\n",
       "        vertical-align: top;\n",
       "    }\n",
       "\n",
       "    .dataframe thead th {\n",
       "        text-align: right;\n",
       "    }\n",
       "</style>\n",
       "<table border=\"1\" class=\"dataframe\">\n",
       "  <thead>\n",
       "    <tr style=\"text-align: right;\">\n",
       "      <th></th>\n",
       "      <th>drugstartdateformat</th>\n",
       "      <th>drugindication</th>\n",
       "      <th>drugadministrationroute</th>\n",
       "      <th>drugtreatmentduration</th>\n",
       "      <th>drugcharacterization</th>\n",
       "      <th>drugstartdate</th>\n",
       "      <th>drugenddateformat</th>\n",
       "      <th>drugtreatmentdurationunit</th>\n",
       "      <th>drugdosagetext</th>\n",
       "      <th>drugauthorizationnumb</th>\n",
       "      <th>...</th>\n",
       "      <th>openfda.spl_set_id</th>\n",
       "      <th>openfda.brand_name</th>\n",
       "      <th>openfda.manufacturer_name</th>\n",
       "      <th>openfda.unii</th>\n",
       "      <th>openfda.rxcui</th>\n",
       "      <th>openfda.spl_id</th>\n",
       "      <th>openfda.substance_name</th>\n",
       "      <th>openfda.product_type</th>\n",
       "      <th>openfda.route</th>\n",
       "      <th>openfda.application_number</th>\n",
       "    </tr>\n",
       "  </thead>\n",
       "  <tbody>\n",
       "    <tr>\n",
       "      <th>0</th>\n",
       "      <td>102</td>\n",
       "      <td>PYELONEPHRITIS</td>\n",
       "      <td>048</td>\n",
       "      <td>4</td>\n",
       "      <td>1</td>\n",
       "      <td>20031227</td>\n",
       "      <td>102</td>\n",
       "      <td>804</td>\n",
       "      <td>ORAL</td>\n",
       "      <td>50621</td>\n",
       "      <td>...</td>\n",
       "      <td>NaN</td>\n",
       "      <td>NaN</td>\n",
       "      <td>NaN</td>\n",
       "      <td>NaN</td>\n",
       "      <td>NaN</td>\n",
       "      <td>NaN</td>\n",
       "      <td>NaN</td>\n",
       "      <td>NaN</td>\n",
       "      <td>NaN</td>\n",
       "      <td>NaN</td>\n",
       "    </tr>\n",
       "    <tr>\n",
       "      <th>1</th>\n",
       "      <td>NaN</td>\n",
       "      <td>NaN</td>\n",
       "      <td>NaN</td>\n",
       "      <td>NaN</td>\n",
       "      <td>2</td>\n",
       "      <td>NaN</td>\n",
       "      <td>NaN</td>\n",
       "      <td>NaN</td>\n",
       "      <td>NaN</td>\n",
       "      <td>NaN</td>\n",
       "      <td>...</td>\n",
       "      <td>NaN</td>\n",
       "      <td>NaN</td>\n",
       "      <td>NaN</td>\n",
       "      <td>NaN</td>\n",
       "      <td>NaN</td>\n",
       "      <td>NaN</td>\n",
       "      <td>NaN</td>\n",
       "      <td>NaN</td>\n",
       "      <td>NaN</td>\n",
       "      <td>NaN</td>\n",
       "    </tr>\n",
       "    <tr>\n",
       "      <th>2</th>\n",
       "      <td>NaN</td>\n",
       "      <td>NaN</td>\n",
       "      <td>NaN</td>\n",
       "      <td>NaN</td>\n",
       "      <td>2</td>\n",
       "      <td>NaN</td>\n",
       "      <td>NaN</td>\n",
       "      <td>NaN</td>\n",
       "      <td>NaN</td>\n",
       "      <td>NaN</td>\n",
       "      <td>...</td>\n",
       "      <td>NaN</td>\n",
       "      <td>NaN</td>\n",
       "      <td>NaN</td>\n",
       "      <td>NaN</td>\n",
       "      <td>NaN</td>\n",
       "      <td>NaN</td>\n",
       "      <td>NaN</td>\n",
       "      <td>NaN</td>\n",
       "      <td>NaN</td>\n",
       "      <td>NaN</td>\n",
       "    </tr>\n",
       "    <tr>\n",
       "      <th>3</th>\n",
       "      <td>NaN</td>\n",
       "      <td>NaN</td>\n",
       "      <td>NaN</td>\n",
       "      <td>NaN</td>\n",
       "      <td>2</td>\n",
       "      <td>NaN</td>\n",
       "      <td>NaN</td>\n",
       "      <td>NaN</td>\n",
       "      <td>NaN</td>\n",
       "      <td>NaN</td>\n",
       "      <td>...</td>\n",
       "      <td>[8db221b1-32f3-f6ca-e404-71f56a860d08, 1d19a6d...</td>\n",
       "      <td>[OFLOXACIN OTIC, OFLOXACIN, OCUFLOX]</td>\n",
       "      <td>[Akorn, Inc., Dr. Reddy's Laboratories Limited...</td>\n",
       "      <td>[A4P49JAZ9H]</td>\n",
       "      <td>[207202, 312075, 198048, 198049, 198050, 242446]</td>\n",
       "      <td>[2d731281-5564-43ff-9889-07931fb2c555, 3e4a3dc...</td>\n",
       "      <td>[OFLOXACIN]</td>\n",
       "      <td>[HUMAN PRESCRIPTION DRUG]</td>\n",
       "      <td>[AURICULAR (OTIC), ORAL, OPHTHALMIC]</td>\n",
       "      <td>[ANDA076407, NDA019921, ANDA091656, ANDA076128...</td>\n",
       "    </tr>\n",
       "  </tbody>\n",
       "</table>\n",
       "<p>4 rows × 25 columns</p>\n",
       "</div>"
      ],
      "text/plain": [
       "  drugstartdateformat  drugindication drugadministrationroute  \\\n",
       "0                 102  PYELONEPHRITIS                     048   \n",
       "1                 NaN             NaN                     NaN   \n",
       "2                 NaN             NaN                     NaN   \n",
       "3                 NaN             NaN                     NaN   \n",
       "\n",
       "  drugtreatmentduration drugcharacterization drugstartdate drugenddateformat  \\\n",
       "0                     4                    1      20031227               102   \n",
       "1                   NaN                    2           NaN               NaN   \n",
       "2                   NaN                    2           NaN               NaN   \n",
       "3                   NaN                    2           NaN               NaN   \n",
       "\n",
       "  drugtreatmentdurationunit drugdosagetext drugauthorizationnumb  ...  \\\n",
       "0                       804           ORAL                 50621  ...   \n",
       "1                       NaN            NaN                   NaN  ...   \n",
       "2                       NaN            NaN                   NaN  ...   \n",
       "3                       NaN            NaN                   NaN  ...   \n",
       "\n",
       "                                  openfda.spl_set_id  \\\n",
       "0                                                NaN   \n",
       "1                                                NaN   \n",
       "2                                                NaN   \n",
       "3  [8db221b1-32f3-f6ca-e404-71f56a860d08, 1d19a6d...   \n",
       "\n",
       "                     openfda.brand_name  \\\n",
       "0                                   NaN   \n",
       "1                                   NaN   \n",
       "2                                   NaN   \n",
       "3  [OFLOXACIN OTIC, OFLOXACIN, OCUFLOX]   \n",
       "\n",
       "                           openfda.manufacturer_name  openfda.unii  \\\n",
       "0                                                NaN           NaN   \n",
       "1                                                NaN           NaN   \n",
       "2                                                NaN           NaN   \n",
       "3  [Akorn, Inc., Dr. Reddy's Laboratories Limited...  [A4P49JAZ9H]   \n",
       "\n",
       "                                      openfda.rxcui  \\\n",
       "0                                               NaN   \n",
       "1                                               NaN   \n",
       "2                                               NaN   \n",
       "3  [207202, 312075, 198048, 198049, 198050, 242446]   \n",
       "\n",
       "                                      openfda.spl_id openfda.substance_name  \\\n",
       "0                                                NaN                    NaN   \n",
       "1                                                NaN                    NaN   \n",
       "2                                                NaN                    NaN   \n",
       "3  [2d731281-5564-43ff-9889-07931fb2c555, 3e4a3dc...            [OFLOXACIN]   \n",
       "\n",
       "        openfda.product_type                         openfda.route  \\\n",
       "0                        NaN                                   NaN   \n",
       "1                        NaN                                   NaN   \n",
       "2                        NaN                                   NaN   \n",
       "3  [HUMAN PRESCRIPTION DRUG]  [AURICULAR (OTIC), ORAL, OPHTHALMIC]   \n",
       "\n",
       "                          openfda.application_number  \n",
       "0                                                NaN  \n",
       "1                                                NaN  \n",
       "2                                                NaN  \n",
       "3  [ANDA076407, NDA019921, ANDA091656, ANDA076128...  \n",
       "\n",
       "[4 rows x 25 columns]"
      ]
     },
     "execution_count": 730,
     "metadata": {},
     "output_type": "execute_result"
    }
   ],
   "source": [
    "results"
   ]
  },
  {
   "cell_type": "code",
   "execution_count": 706,
   "metadata": {},
   "outputs": [
    {
     "data": {
      "text/html": [
       "<div>\n",
       "<style scoped>\n",
       "    .dataframe tbody tr th:only-of-type {\n",
       "        vertical-align: middle;\n",
       "    }\n",
       "\n",
       "    .dataframe tbody tr th {\n",
       "        vertical-align: top;\n",
       "    }\n",
       "\n",
       "    .dataframe thead th {\n",
       "        text-align: right;\n",
       "    }\n",
       "</style>\n",
       "<table border=\"1\" class=\"dataframe\">\n",
       "  <thead>\n",
       "    <tr style=\"text-align: right;\">\n",
       "      <th></th>\n",
       "      <th>receiptdateformat</th>\n",
       "      <th>receiver</th>\n",
       "      <th>companynumb</th>\n",
       "      <th>receivedateformat</th>\n",
       "      <th>primarysource</th>\n",
       "      <th>seriousnessother</th>\n",
       "      <th>transmissiondateformat</th>\n",
       "      <th>fulfillexpeditecriteria</th>\n",
       "      <th>safetyreportid</th>\n",
       "      <th>receivedate</th>\n",
       "      <th>seriousnesshospitalization</th>\n",
       "      <th>transmissiondate</th>\n",
       "      <th>serious</th>\n",
       "      <th>receiptdate</th>\n",
       "      <th>sender.senderorganization</th>\n",
       "      <th>patient.patientonsetage</th>\n",
       "      <th>patient.reaction</th>\n",
       "      <th>patient.patientonsetageunit</th>\n",
       "      <th>patient.patientsex</th>\n",
       "      <th>patient.drug</th>\n",
       "    </tr>\n",
       "  </thead>\n",
       "  <tbody>\n",
       "    <tr>\n",
       "      <th>0</th>\n",
       "      <td>102</td>\n",
       "      <td>None</td>\n",
       "      <td>HQWYE821915MAR04</td>\n",
       "      <td>102</td>\n",
       "      <td>None</td>\n",
       "      <td>1</td>\n",
       "      <td>102</td>\n",
       "      <td>1</td>\n",
       "      <td>4322505-4</td>\n",
       "      <td>20040319</td>\n",
       "      <td>1</td>\n",
       "      <td>20041129</td>\n",
       "      <td>1</td>\n",
       "      <td>20040315</td>\n",
       "      <td>FDA-Public Use</td>\n",
       "      <td>56</td>\n",
       "      <td>[{'reactionmeddrapt': 'ARTHRALGIA'}, {'reactio...</td>\n",
       "      <td>801</td>\n",
       "      <td>1</td>\n",
       "      <td>[{'drugstartdateformat': '102', 'drugindicatio...</td>\n",
       "    </tr>\n",
       "  </tbody>\n",
       "</table>\n",
       "</div>"
      ],
      "text/plain": [
       "  receiptdateformat receiver       companynumb receivedateformat  \\\n",
       "0               102     None  HQWYE821915MAR04               102   \n",
       "\n",
       "  primarysource seriousnessother transmissiondateformat  \\\n",
       "0          None                1                    102   \n",
       "\n",
       "  fulfillexpeditecriteria safetyreportid receivedate  \\\n",
       "0                       1      4322505-4    20040319   \n",
       "\n",
       "  seriousnesshospitalization transmissiondate serious receiptdate  \\\n",
       "0                          1         20041129       1    20040315   \n",
       "\n",
       "  sender.senderorganization patient.patientonsetage  \\\n",
       "0            FDA-Public Use                      56   \n",
       "\n",
       "                                    patient.reaction  \\\n",
       "0  [{'reactionmeddrapt': 'ARTHRALGIA'}, {'reactio...   \n",
       "\n",
       "  patient.patientonsetageunit patient.patientsex  \\\n",
       "0                         801                  1   \n",
       "\n",
       "                                        patient.drug  \n",
       "0  [{'drugstartdateformat': '102', 'drugindicatio...  "
      ]
     },
     "execution_count": 706,
     "metadata": {},
     "output_type": "execute_result"
    }
   ],
   "source": [
    "results"
   ]
  },
  {
   "cell_type": "code",
   "execution_count": null,
   "metadata": {},
   "outputs": [],
   "source": []
  },
  {
   "cell_type": "code",
   "execution_count": null,
   "metadata": {},
   "outputs": [],
   "source": []
  },
  {
   "cell_type": "code",
   "execution_count": null,
   "metadata": {},
   "outputs": [],
   "source": []
  },
  {
   "cell_type": "code",
   "execution_count": 715,
   "metadata": {},
   "outputs": [],
   "source": [
    "#this one works for counts, but would not work well with search only\n",
    "def query(query_end):\n",
    "    query_start = \"https://api.fda.gov/drug/event.json?api_key=WCsZXD7fwzXRDV02maz9kKLAaRzs5J8kzHSSNIgw\"\n",
    "    response = requests.get(query_start+query_end)\n",
    "    content = json.loads(response.content)\n",
    "    # print(json.dumps(parsed, indent=2, sort_keys=True))\n",
    "    results = pd.json_normalize(content['results'])\n",
    "    return results"
   ]
  },
  {
   "cell_type": "code",
   "execution_count": 716,
   "metadata": {},
   "outputs": [
    {
     "data": {
      "text/html": [
       "<div>\n",
       "<style scoped>\n",
       "    .dataframe tbody tr th:only-of-type {\n",
       "        vertical-align: middle;\n",
       "    }\n",
       "\n",
       "    .dataframe tbody tr th {\n",
       "        vertical-align: top;\n",
       "    }\n",
       "\n",
       "    .dataframe thead th {\n",
       "        text-align: right;\n",
       "    }\n",
       "</style>\n",
       "<table border=\"1\" class=\"dataframe\">\n",
       "  <thead>\n",
       "    <tr style=\"text-align: right;\">\n",
       "      <th></th>\n",
       "      <th>reporttype</th>\n",
       "      <th>safetyreportversion</th>\n",
       "      <th>receivedateformat</th>\n",
       "      <th>transmissiondateformat</th>\n",
       "      <th>fulfillexpeditecriteria</th>\n",
       "      <th>safetyreportid</th>\n",
       "      <th>serious</th>\n",
       "      <th>receiptdate</th>\n",
       "      <th>receiptdateformat</th>\n",
       "      <th>seriousnessdeath</th>\n",
       "      <th>...</th>\n",
       "      <th>patient.patientonsetageunit</th>\n",
       "      <th>patient.patientweight</th>\n",
       "      <th>patient.patientsex</th>\n",
       "      <th>patient.drug</th>\n",
       "      <th>reportduplicate.duplicatesource</th>\n",
       "      <th>reportduplicate.duplicatenumb</th>\n",
       "      <th>receiver.receivertype</th>\n",
       "      <th>receiver.receiverorganization</th>\n",
       "      <th>sender.senderorganization</th>\n",
       "      <th>sender.sendertype</th>\n",
       "    </tr>\n",
       "  </thead>\n",
       "  <tbody>\n",
       "    <tr>\n",
       "      <th>0</th>\n",
       "      <td>2</td>\n",
       "      <td>7</td>\n",
       "      <td>102</td>\n",
       "      <td>102</td>\n",
       "      <td>1</td>\n",
       "      <td>10005435</td>\n",
       "      <td>1</td>\n",
       "      <td>20140509</td>\n",
       "      <td>102</td>\n",
       "      <td>1</td>\n",
       "      <td>...</td>\n",
       "      <td>801</td>\n",
       "      <td>68.8</td>\n",
       "      <td>2</td>\n",
       "      <td>[{'drugstartdateformat': '102', 'drugindicatio...</td>\n",
       "      <td>ROCHE</td>\n",
       "      <td>CA-ROCHE-1296647</td>\n",
       "      <td>6</td>\n",
       "      <td>FDA</td>\n",
       "      <td>FDA-Public Use</td>\n",
       "      <td>2</td>\n",
       "    </tr>\n",
       "  </tbody>\n",
       "</table>\n",
       "<p>1 rows × 31 columns</p>\n",
       "</div>"
      ],
      "text/plain": [
       "  reporttype safetyreportversion receivedateformat transmissiondateformat  \\\n",
       "0          2                   7               102                    102   \n",
       "\n",
       "  fulfillexpeditecriteria safetyreportid serious receiptdate  \\\n",
       "0                       1       10005435       1    20140509   \n",
       "\n",
       "  receiptdateformat seriousnessdeath  ... patient.patientonsetageunit  \\\n",
       "0               102                1  ...                         801   \n",
       "\n",
       "  patient.patientweight patient.patientsex  \\\n",
       "0                  68.8                  2   \n",
       "\n",
       "                                        patient.drug  \\\n",
       "0  [{'drugstartdateformat': '102', 'drugindicatio...   \n",
       "\n",
       "  reportduplicate.duplicatesource reportduplicate.duplicatenumb  \\\n",
       "0                           ROCHE              CA-ROCHE-1296647   \n",
       "\n",
       "  receiver.receivertype receiver.receiverorganization  \\\n",
       "0                     6                           FDA   \n",
       "\n",
       "  sender.senderorganization sender.sendertype  \n",
       "0            FDA-Public Use                 2  \n",
       "\n",
       "[1 rows x 31 columns]"
      ]
     },
     "execution_count": 716,
     "metadata": {},
     "output_type": "execute_result"
    }
   ],
   "source": [
    "results = query(\"&search=occurcountry.exact:\\\"CA\\\"+AND+patient.reaction.reactionmeddrapt.exact:\\\"DRUG INEFFECTIVE\\\"\")\n",
    "results.head(10)"
   ]
  },
  {
   "cell_type": "code",
   "execution_count": 717,
   "metadata": {},
   "outputs": [
    {
     "data": {
      "text/html": [
       "<div>\n",
       "<style scoped>\n",
       "    .dataframe tbody tr th:only-of-type {\n",
       "        vertical-align: middle;\n",
       "    }\n",
       "\n",
       "    .dataframe tbody tr th {\n",
       "        vertical-align: top;\n",
       "    }\n",
       "\n",
       "    .dataframe thead th {\n",
       "        text-align: right;\n",
       "    }\n",
       "</style>\n",
       "<table border=\"1\" class=\"dataframe\">\n",
       "  <thead>\n",
       "    <tr style=\"text-align: right;\">\n",
       "      <th></th>\n",
       "      <th>term</th>\n",
       "      <th>count</th>\n",
       "    </tr>\n",
       "  </thead>\n",
       "  <tbody>\n",
       "    <tr>\n",
       "      <th>0</th>\n",
       "      <td>CA</td>\n",
       "      <td>37725</td>\n",
       "    </tr>\n",
       "  </tbody>\n",
       "</table>\n",
       "</div>"
      ],
      "text/plain": [
       "  term  count\n",
       "0   CA  37725"
      ]
     },
     "execution_count": 717,
     "metadata": {},
     "output_type": "execute_result"
    }
   ],
   "source": [
    "results = query(\"&search=occurcountry.exact:\\\"CA\\\"+AND+patient.reaction.reactionmeddrapt.exact:\\\"DRUG INEFFECTIVE\\\"&count=occurcountry.exact\")\n",
    "results.head(10)"
   ]
  },
  {
   "cell_type": "markdown",
   "metadata": {},
   "source": [
    "## Exploration"
   ]
  },
  {
   "cell_type": "markdown",
   "metadata": {},
   "source": [
    "###### Let's see how many times AstraZeneca pops up:\n",
    "\n",
    "relevant field:\n",
    "- `patient.drug.openfda.manufacturer_name` : <mark>Name of manufacturer or company that makes this drug product, corresponding to the labeler code segment of the NDC **DRUG MANUFACTURER**.</mark>"
   ]
  },
  {
   "cell_type": "code",
   "execution_count": 376,
   "metadata": {},
   "outputs": [],
   "source": [
    "top_manufacturers = query(\"&count=patient.drug.openfda.manufacturer_name.exact\")"
   ]
  },
  {
   "cell_type": "code",
   "execution_count": 386,
   "metadata": {},
   "outputs": [
    {
     "data": {
      "text/html": [
       "<div>\n",
       "<style scoped>\n",
       "    .dataframe tbody tr th:only-of-type {\n",
       "        vertical-align: middle;\n",
       "    }\n",
       "\n",
       "    .dataframe tbody tr th {\n",
       "        vertical-align: top;\n",
       "    }\n",
       "\n",
       "    .dataframe thead th {\n",
       "        text-align: right;\n",
       "    }\n",
       "</style>\n",
       "<table border=\"1\" class=\"dataframe\">\n",
       "  <thead>\n",
       "    <tr style=\"text-align: right;\">\n",
       "      <th></th>\n",
       "      <th>term</th>\n",
       "      <th>count</th>\n",
       "    </tr>\n",
       "  </thead>\n",
       "  <tbody>\n",
       "    <tr>\n",
       "      <th>0</th>\n",
       "      <td>Mylan Pharmaceuticals Inc.</td>\n",
       "      <td>2143943</td>\n",
       "    </tr>\n",
       "    <tr>\n",
       "      <th>1</th>\n",
       "      <td>Aurobindo Pharma Limited</td>\n",
       "      <td>1933948</td>\n",
       "    </tr>\n",
       "    <tr>\n",
       "      <th>2</th>\n",
       "      <td>Teva Pharmaceuticals USA, Inc.</td>\n",
       "      <td>1749269</td>\n",
       "    </tr>\n",
       "    <tr>\n",
       "      <th>3</th>\n",
       "      <td>Actavis Pharma, Inc.</td>\n",
       "      <td>1736623</td>\n",
       "    </tr>\n",
       "    <tr>\n",
       "      <th>4</th>\n",
       "      <td>Cadila Healthcare Limited</td>\n",
       "      <td>1723934</td>\n",
       "    </tr>\n",
       "    <tr>\n",
       "      <th>5</th>\n",
       "      <td>Amneal Pharmaceuticals LLC</td>\n",
       "      <td>1671581</td>\n",
       "    </tr>\n",
       "    <tr>\n",
       "      <th>6</th>\n",
       "      <td>Zydus Pharmaceuticals (USA) Inc.</td>\n",
       "      <td>1649009</td>\n",
       "    </tr>\n",
       "    <tr>\n",
       "      <th>7</th>\n",
       "      <td>Sun Pharmaceutical Industries, Inc.</td>\n",
       "      <td>1545861</td>\n",
       "    </tr>\n",
       "    <tr>\n",
       "      <th>8</th>\n",
       "      <td>Sandoz Inc</td>\n",
       "      <td>1231388</td>\n",
       "    </tr>\n",
       "    <tr>\n",
       "      <th>9</th>\n",
       "      <td>West-Ward Pharmaceuticals Corp.</td>\n",
       "      <td>1201469</td>\n",
       "    </tr>\n",
       "  </tbody>\n",
       "</table>\n",
       "</div>"
      ],
      "text/plain": [
       "                                  term    count\n",
       "0           Mylan Pharmaceuticals Inc.  2143943\n",
       "1             Aurobindo Pharma Limited  1933948\n",
       "2       Teva Pharmaceuticals USA, Inc.  1749269\n",
       "3                 Actavis Pharma, Inc.  1736623\n",
       "4            Cadila Healthcare Limited  1723934\n",
       "5           Amneal Pharmaceuticals LLC  1671581\n",
       "6     Zydus Pharmaceuticals (USA) Inc.  1649009\n",
       "7  Sun Pharmaceutical Industries, Inc.  1545861\n",
       "8                           Sandoz Inc  1231388\n",
       "9      West-Ward Pharmaceuticals Corp.  1201469"
      ]
     },
     "execution_count": 386,
     "metadata": {},
     "output_type": "execute_result"
    }
   ],
   "source": [
    "top_manufacturers.head(10)"
   ]
  },
  {
   "cell_type": "code",
   "execution_count": 387,
   "metadata": {},
   "outputs": [
    {
     "data": {
      "text/html": [
       "<div>\n",
       "<style scoped>\n",
       "    .dataframe tbody tr th:only-of-type {\n",
       "        vertical-align: middle;\n",
       "    }\n",
       "\n",
       "    .dataframe tbody tr th {\n",
       "        vertical-align: top;\n",
       "    }\n",
       "\n",
       "    .dataframe thead th {\n",
       "        text-align: right;\n",
       "    }\n",
       "</style>\n",
       "<table border=\"1\" class=\"dataframe\">\n",
       "  <thead>\n",
       "    <tr style=\"text-align: right;\">\n",
       "      <th></th>\n",
       "      <th>term</th>\n",
       "      <th>count</th>\n",
       "    </tr>\n",
       "  </thead>\n",
       "  <tbody>\n",
       "    <tr>\n",
       "      <th>90</th>\n",
       "      <td>Marc Glassman, Inc.</td>\n",
       "      <td>572098</td>\n",
       "    </tr>\n",
       "    <tr>\n",
       "      <th>91</th>\n",
       "      <td>Macleods Pharmaceuticals Limited</td>\n",
       "      <td>571052</td>\n",
       "    </tr>\n",
       "    <tr>\n",
       "      <th>92</th>\n",
       "      <td>CARDINAL HEALTH</td>\n",
       "      <td>570665</td>\n",
       "    </tr>\n",
       "    <tr>\n",
       "      <th>93</th>\n",
       "      <td>QUALITY CHOICE (Chain Drug Marketing Association)</td>\n",
       "      <td>570167</td>\n",
       "    </tr>\n",
       "    <tr>\n",
       "      <th>94</th>\n",
       "      <td>L.N.K. International, Inc.</td>\n",
       "      <td>569424</td>\n",
       "    </tr>\n",
       "    <tr>\n",
       "      <th>95</th>\n",
       "      <td>P &amp; L Development, LLC</td>\n",
       "      <td>568163</td>\n",
       "    </tr>\n",
       "    <tr>\n",
       "      <th>96</th>\n",
       "      <td>ACETRIS HEALTH, LLC</td>\n",
       "      <td>566351</td>\n",
       "    </tr>\n",
       "    <tr>\n",
       "      <th>97</th>\n",
       "      <td>Big Lots Stores, Inc.</td>\n",
       "      <td>564796</td>\n",
       "    </tr>\n",
       "    <tr>\n",
       "      <th>98</th>\n",
       "      <td>Harris Teeter, LLC</td>\n",
       "      <td>560658</td>\n",
       "    </tr>\n",
       "    <tr>\n",
       "      <th>99</th>\n",
       "      <td>MEIJER, INC.</td>\n",
       "      <td>558330</td>\n",
       "    </tr>\n",
       "  </tbody>\n",
       "</table>\n",
       "</div>"
      ],
      "text/plain": [
       "                                                 term   count\n",
       "90                                Marc Glassman, Inc.  572098\n",
       "91                   Macleods Pharmaceuticals Limited  571052\n",
       "92                                    CARDINAL HEALTH  570665\n",
       "93  QUALITY CHOICE (Chain Drug Marketing Association)  570167\n",
       "94                         L.N.K. International, Inc.  569424\n",
       "95                             P & L Development, LLC  568163\n",
       "96                                ACETRIS HEALTH, LLC  566351\n",
       "97                              Big Lots Stores, Inc.  564796\n",
       "98                                 Harris Teeter, LLC  560658\n",
       "99                                       MEIJER, INC.  558330"
      ]
     },
     "execution_count": 387,
     "metadata": {},
     "output_type": "execute_result"
    }
   ],
   "source": [
    "top_manufacturers.tail(10)"
   ]
  },
  {
   "cell_type": "code",
   "execution_count": 397,
   "metadata": {},
   "outputs": [
    {
     "data": {
      "text/html": [
       "<div>\n",
       "<style scoped>\n",
       "    .dataframe tbody tr th:only-of-type {\n",
       "        vertical-align: middle;\n",
       "    }\n",
       "\n",
       "    .dataframe tbody tr th {\n",
       "        vertical-align: top;\n",
       "    }\n",
       "\n",
       "    .dataframe thead th {\n",
       "        text-align: right;\n",
       "    }\n",
       "</style>\n",
       "<table border=\"1\" class=\"dataframe\">\n",
       "  <thead>\n",
       "    <tr style=\"text-align: right;\">\n",
       "      <th></th>\n",
       "      <th>term</th>\n",
       "      <th>count</th>\n",
       "    </tr>\n",
       "  </thead>\n",
       "  <tbody>\n",
       "    <tr>\n",
       "      <th>0</th>\n",
       "      <td>AstraZeneca Pharmaceuticals LP</td>\n",
       "      <td>501107</td>\n",
       "    </tr>\n",
       "    <tr>\n",
       "      <th>1</th>\n",
       "      <td>Mylan Pharmaceuticals Inc.</td>\n",
       "      <td>207433</td>\n",
       "    </tr>\n",
       "    <tr>\n",
       "      <th>2</th>\n",
       "      <td>Aurobindo Pharma Limited</td>\n",
       "      <td>183622</td>\n",
       "    </tr>\n",
       "    <tr>\n",
       "      <th>3</th>\n",
       "      <td>Cadila Healthcare Limited</td>\n",
       "      <td>180199</td>\n",
       "    </tr>\n",
       "    <tr>\n",
       "      <th>4</th>\n",
       "      <td>Zydus Pharmaceuticals (USA) Inc.</td>\n",
       "      <td>176142</td>\n",
       "    </tr>\n",
       "  </tbody>\n",
       "</table>\n",
       "</div>"
      ],
      "text/plain": [
       "                               term   count\n",
       "0    AstraZeneca Pharmaceuticals LP  501107\n",
       "1        Mylan Pharmaceuticals Inc.  207433\n",
       "2          Aurobindo Pharma Limited  183622\n",
       "3         Cadila Healthcare Limited  180199\n",
       "4  Zydus Pharmaceuticals (USA) Inc.  176142"
      ]
     },
     "execution_count": 397,
     "metadata": {},
     "output_type": "execute_result"
    }
   ],
   "source": [
    "test = query(\"&search=patient.drug.openfda.manufacturer_name:\\\"AstraZeneca\\\"&count=patient.drug.openfda.manufacturer_name.exact\")\n",
    "test.head()"
   ]
  },
  {
   "cell_type": "markdown",
   "metadata": {},
   "source": [
    "**AstraZeneca is listed as a drug manufacturer in ~500K reports, and is not among the top 100 manufacturers in terms of frequency.**"
   ]
  },
  {
   "cell_type": "code",
   "execution_count": null,
   "metadata": {},
   "outputs": [],
   "source": [
    "# for manuf in list(test.term):\n",
    "#     if \"Zen\" in manuf:\n",
    "#         print(manuf)"
   ]
  },
  {
   "cell_type": "markdown",
   "metadata": {},
   "source": [
    "## Answering Specific Questions from the Case Study"
   ]
  },
  {
   "cell_type": "markdown",
   "metadata": {},
   "source": [
    "###### 1. Are different adverse events reported in different countries? "
   ]
  },
  {
   "cell_type": "markdown",
   "metadata": {},
   "source": [
    "relevant fields:\n",
    "- `patient.reaction.reactionmeddrapt` : **Patient reaction, as a MedDRA term. Note that these terms are encoded in British English. For instance, diarrhea is spelled diarrohea. MedDRA is a standardized medical terminology. DRUG REACTION / ADVERSE EVENT TYPE**\n",
    "- `occurcountry` : **The name of the country where the event occurred. *This one is in country codes.* COUNTRY (FDA USES THIS IN EXAMPLE REPORTS)**\n"
   ]
  },
  {
   "cell_type": "markdown",
   "metadata": {},
   "source": [
    "potential ways of answering the question:\n",
    "- pick top X countries, and report top X adverse events for each\n",
    "- construct a matrix of top X countries vs top Y adverse events, and visualize how similar countries are in this hyperspace, (maybe PCA before that), do clustering analysis, scrutinize outliers"
   ]
  },
  {
   "cell_type": "code",
   "execution_count": 595,
   "metadata": {},
   "outputs": [
    {
     "data": {
      "text/html": [
       "<div>\n",
       "<style scoped>\n",
       "    .dataframe tbody tr th:only-of-type {\n",
       "        vertical-align: middle;\n",
       "    }\n",
       "\n",
       "    .dataframe tbody tr th {\n",
       "        vertical-align: top;\n",
       "    }\n",
       "\n",
       "    .dataframe thead th {\n",
       "        text-align: right;\n",
       "    }\n",
       "</style>\n",
       "<table border=\"1\" class=\"dataframe\">\n",
       "  <thead>\n",
       "    <tr style=\"text-align: right;\">\n",
       "      <th></th>\n",
       "      <th>term</th>\n",
       "      <th>count</th>\n",
       "    </tr>\n",
       "  </thead>\n",
       "  <tbody>\n",
       "    <tr>\n",
       "      <th>0</th>\n",
       "      <td>US</td>\n",
       "      <td>6136862</td>\n",
       "    </tr>\n",
       "    <tr>\n",
       "      <th>1</th>\n",
       "      <td>GB</td>\n",
       "      <td>298758</td>\n",
       "    </tr>\n",
       "    <tr>\n",
       "      <th>2</th>\n",
       "      <td>CA</td>\n",
       "      <td>260177</td>\n",
       "    </tr>\n",
       "    <tr>\n",
       "      <th>3</th>\n",
       "      <td>JP</td>\n",
       "      <td>259359</td>\n",
       "    </tr>\n",
       "    <tr>\n",
       "      <th>4</th>\n",
       "      <td>FR</td>\n",
       "      <td>250505</td>\n",
       "    </tr>\n",
       "    <tr>\n",
       "      <th>5</th>\n",
       "      <td>DE</td>\n",
       "      <td>190403</td>\n",
       "    </tr>\n",
       "    <tr>\n",
       "      <th>6</th>\n",
       "      <td>IT</td>\n",
       "      <td>138001</td>\n",
       "    </tr>\n",
       "    <tr>\n",
       "      <th>7</th>\n",
       "      <td>BR</td>\n",
       "      <td>92823</td>\n",
       "    </tr>\n",
       "    <tr>\n",
       "      <th>8</th>\n",
       "      <td>ES</td>\n",
       "      <td>71442</td>\n",
       "    </tr>\n",
       "    <tr>\n",
       "      <th>9</th>\n",
       "      <td>AU</td>\n",
       "      <td>65305</td>\n",
       "    </tr>\n",
       "  </tbody>\n",
       "</table>\n",
       "</div>"
      ],
      "text/plain": [
       "  term    count\n",
       "0   US  6136862\n",
       "1   GB   298758\n",
       "2   CA   260177\n",
       "3   JP   259359\n",
       "4   FR   250505\n",
       "5   DE   190403\n",
       "6   IT   138001\n",
       "7   BR    92823\n",
       "8   ES    71442\n",
       "9   AU    65305"
      ]
     },
     "execution_count": 595,
     "metadata": {},
     "output_type": "execute_result"
    }
   ],
   "source": [
    "top_countries = query(\"&count=occurcountry.exact\")\n",
    "top_countries.head(10)"
   ]
  },
  {
   "cell_type": "code",
   "execution_count": 596,
   "metadata": {},
   "outputs": [
    {
     "data": {
      "text/html": [
       "<div>\n",
       "<style scoped>\n",
       "    .dataframe tbody tr th:only-of-type {\n",
       "        vertical-align: middle;\n",
       "    }\n",
       "\n",
       "    .dataframe tbody tr th {\n",
       "        vertical-align: top;\n",
       "    }\n",
       "\n",
       "    .dataframe thead th {\n",
       "        text-align: right;\n",
       "    }\n",
       "</style>\n",
       "<table border=\"1\" class=\"dataframe\">\n",
       "  <thead>\n",
       "    <tr style=\"text-align: right;\">\n",
       "      <th></th>\n",
       "      <th>term</th>\n",
       "      <th>count</th>\n",
       "    </tr>\n",
       "  </thead>\n",
       "  <tbody>\n",
       "    <tr>\n",
       "      <th>0</th>\n",
       "      <td>DRUG INEFFECTIVE</td>\n",
       "      <td>733191</td>\n",
       "    </tr>\n",
       "    <tr>\n",
       "      <th>1</th>\n",
       "      <td>NAUSEA</td>\n",
       "      <td>485098</td>\n",
       "    </tr>\n",
       "    <tr>\n",
       "      <th>2</th>\n",
       "      <td>DEATH</td>\n",
       "      <td>474541</td>\n",
       "    </tr>\n",
       "    <tr>\n",
       "      <th>3</th>\n",
       "      <td>FATIGUE</td>\n",
       "      <td>439328</td>\n",
       "    </tr>\n",
       "    <tr>\n",
       "      <th>4</th>\n",
       "      <td>HEADACHE</td>\n",
       "      <td>388310</td>\n",
       "    </tr>\n",
       "    <tr>\n",
       "      <th>5</th>\n",
       "      <td>DIARRHOEA</td>\n",
       "      <td>359872</td>\n",
       "    </tr>\n",
       "    <tr>\n",
       "      <th>6</th>\n",
       "      <td>DYSPNOEA</td>\n",
       "      <td>344540</td>\n",
       "    </tr>\n",
       "    <tr>\n",
       "      <th>7</th>\n",
       "      <td>PAIN</td>\n",
       "      <td>326354</td>\n",
       "    </tr>\n",
       "    <tr>\n",
       "      <th>8</th>\n",
       "      <td>OFF LABEL USE</td>\n",
       "      <td>324957</td>\n",
       "    </tr>\n",
       "    <tr>\n",
       "      <th>9</th>\n",
       "      <td>DIZZINESS</td>\n",
       "      <td>313617</td>\n",
       "    </tr>\n",
       "  </tbody>\n",
       "</table>\n",
       "</div>"
      ],
      "text/plain": [
       "               term   count\n",
       "0  DRUG INEFFECTIVE  733191\n",
       "1            NAUSEA  485098\n",
       "2             DEATH  474541\n",
       "3           FATIGUE  439328\n",
       "4          HEADACHE  388310\n",
       "5         DIARRHOEA  359872\n",
       "6          DYSPNOEA  344540\n",
       "7              PAIN  326354\n",
       "8     OFF LABEL USE  324957\n",
       "9         DIZZINESS  313617"
      ]
     },
     "execution_count": 596,
     "metadata": {},
     "output_type": "execute_result"
    }
   ],
   "source": [
    "top_reactions = query(\"&count=patient.reaction.reactionmeddrapt.exact\")\n",
    "top_reactions.head(10)"
   ]
  },
  {
   "cell_type": "code",
   "execution_count": null,
   "metadata": {},
   "outputs": [],
   "source": [
    "# results = query(\"&search=occurcountry:\\\"US\\\"&count=patient.reaction.reactionmeddrapt.exact\")\n",
    "# results.head(10)"
   ]
  },
  {
   "cell_type": "code",
   "execution_count": null,
   "metadata": {},
   "outputs": [],
   "source": [
    "# results = query(\"&search=occurcountry:\\\"CA\\\"&count=patient.reaction.reactionmeddrapt.exact\")\n",
    "# results.head(10)"
   ]
  },
  {
   "cell_type": "code",
   "execution_count": null,
   "metadata": {},
   "outputs": [],
   "source": [
    "# results = query(\"&search=occurcountry.exact:\\\"US\\\"+\\\"CA\\\"&count=patient.reaction.reactionmeddrapt.exact\")\n",
    "# results.head(10)"
   ]
  },
  {
   "cell_type": "markdown",
   "metadata": {},
   "source": [
    "Canada & Drug Ineffective"
   ]
  },
  {
   "cell_type": "code",
   "execution_count": 368,
   "metadata": {},
   "outputs": [
    {
     "data": {
      "text/html": [
       "<div>\n",
       "<style scoped>\n",
       "    .dataframe tbody tr th:only-of-type {\n",
       "        vertical-align: middle;\n",
       "    }\n",
       "\n",
       "    .dataframe tbody tr th {\n",
       "        vertical-align: top;\n",
       "    }\n",
       "\n",
       "    .dataframe thead th {\n",
       "        text-align: right;\n",
       "    }\n",
       "</style>\n",
       "<table border=\"1\" class=\"dataframe\">\n",
       "  <thead>\n",
       "    <tr style=\"text-align: right;\">\n",
       "      <th></th>\n",
       "      <th>term</th>\n",
       "      <th>count</th>\n",
       "    </tr>\n",
       "  </thead>\n",
       "  <tbody>\n",
       "    <tr>\n",
       "      <th>0</th>\n",
       "      <td>CA</td>\n",
       "      <td>37725</td>\n",
       "    </tr>\n",
       "  </tbody>\n",
       "</table>\n",
       "</div>"
      ],
      "text/plain": [
       "  term  count\n",
       "0   CA  37725"
      ]
     },
     "execution_count": 368,
     "metadata": {},
     "output_type": "execute_result"
    }
   ],
   "source": [
    "results = query(\"&search=occurcountry.exact:\\\"CA\\\"+AND+patient.reaction.reactionmeddrapt.exact:\\\"DRUG INEFFECTIVE\\\"&count=occurcountry.exact\")\n",
    "results.head(10)"
   ]
  },
  {
   "cell_type": "markdown",
   "metadata": {},
   "source": [
    "Do the same for top 10 countries and top 10 reactions"
   ]
  },
  {
   "cell_type": "code",
   "execution_count": 195,
   "metadata": {},
   "outputs": [
    {
     "data": {
      "text/plain": [
       "['US', 'GB', 'CA', 'JP', 'FR', 'DE', 'IT', 'BR', 'ES', 'AU']"
      ]
     },
     "execution_count": 195,
     "metadata": {},
     "output_type": "execute_result"
    }
   ],
   "source": [
    "list(top_countries.term)[:10]"
   ]
  },
  {
   "cell_type": "code",
   "execution_count": 198,
   "metadata": {},
   "outputs": [
    {
     "data": {
      "text/plain": [
       "['DRUG INEFFECTIVE',\n",
       " 'NAUSEA',\n",
       " 'DEATH',\n",
       " 'FATIGUE',\n",
       " 'HEADACHE',\n",
       " 'DIARRHOEA',\n",
       " 'DYSPNOEA',\n",
       " 'PAIN',\n",
       " 'OFF LABEL USE',\n",
       " 'DIZZINESS']"
      ]
     },
     "execution_count": 198,
     "metadata": {},
     "output_type": "execute_result"
    }
   ],
   "source": [
    "list(top_reactions.term)[:10]"
   ]
  },
  {
   "cell_type": "code",
   "execution_count": 258,
   "metadata": {},
   "outputs": [],
   "source": [
    "m,n = 25,25\n",
    "temp = np.zeros((m,n), dtype=np.int)\n",
    "for i, reaction in enumerate(list(top_reactions.term)[:m]):\n",
    "    #create drug reaction row\n",
    "    for j, country in enumerate(list(top_countries.term)[:n]):\n",
    "        #add country to the reaction row\n",
    "        results = query(\"&search=occurcountry:\\\"\"+country+\"\\\"+AND+patient.reaction.reactionmeddrapt:\\\"\"+reaction+\"\\\"&count=patient.reaction.reactionmeddrapt.exact\")\n",
    "        count = int(results.head(1)[\"count\"])\n",
    "        #print(country,reaction,count)\n",
    "        temp[i,j] = count"
   ]
  },
  {
   "cell_type": "code",
   "execution_count": 259,
   "metadata": {},
   "outputs": [],
   "source": [
    "top25_c_by_r = pd.DataFrame(temp,columns = list(top_countries.term)[:n],index = list(top_reactions.term)[:m])"
   ]
  },
  {
   "cell_type": "code",
   "execution_count": 306,
   "metadata": {},
   "outputs": [
    {
     "data": {
      "text/html": [
       "<div>\n",
       "<style scoped>\n",
       "    .dataframe tbody tr th:only-of-type {\n",
       "        vertical-align: middle;\n",
       "    }\n",
       "\n",
       "    .dataframe tbody tr th {\n",
       "        vertical-align: top;\n",
       "    }\n",
       "\n",
       "    .dataframe thead th {\n",
       "        text-align: right;\n",
       "    }\n",
       "</style>\n",
       "<table border=\"1\" class=\"dataframe\">\n",
       "  <thead>\n",
       "    <tr style=\"text-align: right;\">\n",
       "      <th></th>\n",
       "      <th>US</th>\n",
       "      <th>GB</th>\n",
       "      <th>CA</th>\n",
       "      <th>JP</th>\n",
       "      <th>FR</th>\n",
       "      <th>DE</th>\n",
       "      <th>IT</th>\n",
       "      <th>BR</th>\n",
       "      <th>ES</th>\n",
       "      <th>AU</th>\n",
       "      <th>...</th>\n",
       "      <th>AR</th>\n",
       "      <th>TR</th>\n",
       "      <th>CH</th>\n",
       "      <th>PL</th>\n",
       "      <th>BE</th>\n",
       "      <th>PT</th>\n",
       "      <th>KR</th>\n",
       "      <th>MX</th>\n",
       "      <th>GR</th>\n",
       "      <th>TW</th>\n",
       "    </tr>\n",
       "  </thead>\n",
       "  <tbody>\n",
       "    <tr>\n",
       "      <th>DRUG INEFFECTIVE</th>\n",
       "      <td>484075</td>\n",
       "      <td>6278</td>\n",
       "      <td>37725</td>\n",
       "      <td>4782</td>\n",
       "      <td>4820</td>\n",
       "      <td>4453</td>\n",
       "      <td>4668</td>\n",
       "      <td>7265</td>\n",
       "      <td>2266</td>\n",
       "      <td>2205</td>\n",
       "      <td>...</td>\n",
       "      <td>765</td>\n",
       "      <td>1032</td>\n",
       "      <td>749</td>\n",
       "      <td>1882</td>\n",
       "      <td>617</td>\n",
       "      <td>1170</td>\n",
       "      <td>519</td>\n",
       "      <td>648</td>\n",
       "      <td>891</td>\n",
       "      <td>324</td>\n",
       "    </tr>\n",
       "    <tr>\n",
       "      <th>NAUSEA</th>\n",
       "      <td>242231</td>\n",
       "      <td>11449</td>\n",
       "      <td>16993</td>\n",
       "      <td>6040</td>\n",
       "      <td>6760</td>\n",
       "      <td>7829</td>\n",
       "      <td>4146</td>\n",
       "      <td>3179</td>\n",
       "      <td>1394</td>\n",
       "      <td>1979</td>\n",
       "      <td>...</td>\n",
       "      <td>184</td>\n",
       "      <td>719</td>\n",
       "      <td>683</td>\n",
       "      <td>678</td>\n",
       "      <td>787</td>\n",
       "      <td>667</td>\n",
       "      <td>653</td>\n",
       "      <td>470</td>\n",
       "      <td>196</td>\n",
       "      <td>261</td>\n",
       "    </tr>\n",
       "    <tr>\n",
       "      <th>DEATH</th>\n",
       "      <td>226952</td>\n",
       "      <td>17448</td>\n",
       "      <td>18713</td>\n",
       "      <td>6515</td>\n",
       "      <td>4586</td>\n",
       "      <td>5622</td>\n",
       "      <td>2008</td>\n",
       "      <td>5495</td>\n",
       "      <td>1790</td>\n",
       "      <td>4852</td>\n",
       "      <td>...</td>\n",
       "      <td>2803</td>\n",
       "      <td>947</td>\n",
       "      <td>676</td>\n",
       "      <td>1105</td>\n",
       "      <td>1201</td>\n",
       "      <td>425</td>\n",
       "      <td>1052</td>\n",
       "      <td>2646</td>\n",
       "      <td>759</td>\n",
       "      <td>3311</td>\n",
       "    </tr>\n",
       "    <tr>\n",
       "      <th>FATIGUE</th>\n",
       "      <td>248898</td>\n",
       "      <td>12430</td>\n",
       "      <td>19856</td>\n",
       "      <td>1742</td>\n",
       "      <td>9701</td>\n",
       "      <td>7159</td>\n",
       "      <td>1324</td>\n",
       "      <td>3681</td>\n",
       "      <td>1050</td>\n",
       "      <td>1784</td>\n",
       "      <td>...</td>\n",
       "      <td>467</td>\n",
       "      <td>392</td>\n",
       "      <td>601</td>\n",
       "      <td>359</td>\n",
       "      <td>1041</td>\n",
       "      <td>713</td>\n",
       "      <td>188</td>\n",
       "      <td>616</td>\n",
       "      <td>356</td>\n",
       "      <td>264</td>\n",
       "    </tr>\n",
       "    <tr>\n",
       "      <th>HEADACHE</th>\n",
       "      <td>209207</td>\n",
       "      <td>10360</td>\n",
       "      <td>13249</td>\n",
       "      <td>2227</td>\n",
       "      <td>7506</td>\n",
       "      <td>4388</td>\n",
       "      <td>2479</td>\n",
       "      <td>4107</td>\n",
       "      <td>1045</td>\n",
       "      <td>1423</td>\n",
       "      <td>...</td>\n",
       "      <td>383</td>\n",
       "      <td>330</td>\n",
       "      <td>412</td>\n",
       "      <td>412</td>\n",
       "      <td>506</td>\n",
       "      <td>479</td>\n",
       "      <td>319</td>\n",
       "      <td>663</td>\n",
       "      <td>238</td>\n",
       "      <td>124</td>\n",
       "    </tr>\n",
       "  </tbody>\n",
       "</table>\n",
       "<p>5 rows × 25 columns</p>\n",
       "</div>"
      ],
      "text/plain": [
       "                      US     GB     CA    JP    FR    DE    IT    BR    ES  \\\n",
       "DRUG INEFFECTIVE  484075   6278  37725  4782  4820  4453  4668  7265  2266   \n",
       "NAUSEA            242231  11449  16993  6040  6760  7829  4146  3179  1394   \n",
       "DEATH             226952  17448  18713  6515  4586  5622  2008  5495  1790   \n",
       "FATIGUE           248898  12430  19856  1742  9701  7159  1324  3681  1050   \n",
       "HEADACHE          209207  10360  13249  2227  7506  4388  2479  4107  1045   \n",
       "\n",
       "                    AU  ...    AR    TR   CH    PL    BE    PT    KR    MX  \\\n",
       "DRUG INEFFECTIVE  2205  ...   765  1032  749  1882   617  1170   519   648   \n",
       "NAUSEA            1979  ...   184   719  683   678   787   667   653   470   \n",
       "DEATH             4852  ...  2803   947  676  1105  1201   425  1052  2646   \n",
       "FATIGUE           1784  ...   467   392  601   359  1041   713   188   616   \n",
       "HEADACHE          1423  ...   383   330  412   412   506   479   319   663   \n",
       "\n",
       "                   GR    TW  \n",
       "DRUG INEFFECTIVE  891   324  \n",
       "NAUSEA            196   261  \n",
       "DEATH             759  3311  \n",
       "FATIGUE           356   264  \n",
       "HEADACHE          238   124  \n",
       "\n",
       "[5 rows x 25 columns]"
      ]
     },
     "execution_count": 306,
     "metadata": {},
     "output_type": "execute_result"
    }
   ],
   "source": [
    "top25_c_by_r.head()"
   ]
  },
  {
   "cell_type": "markdown",
   "metadata": {},
   "source": [
    "Normalize each cell by total number of reports per country"
   ]
  },
  {
   "cell_type": "code",
   "execution_count": 684,
   "metadata": {},
   "outputs": [],
   "source": [
    "df  = top25_c_by_r"
   ]
  },
  {
   "cell_type": "code",
   "execution_count": 626,
   "metadata": {},
   "outputs": [],
   "source": [
    "df=(df/df.sum())"
   ]
  },
  {
   "cell_type": "code",
   "execution_count": 627,
   "metadata": {},
   "outputs": [],
   "source": [
    "# df =  df.drop(['US','GB','CA'], axis=1)"
   ]
  },
  {
   "cell_type": "code",
   "execution_count": 628,
   "metadata": {},
   "outputs": [
    {
     "data": {
      "image/png": "[encoded data removed]",
      "text/plain": [
       "<Figure size 800x800 with 1 Axes>"
      ]
     },
     "metadata": {},
     "output_type": "display_data"
    }
   ],
   "source": [
    "figure(num=None, figsize=(10, 10), dpi=80, facecolor='w', edgecolor='k')\n",
    "plt.pcolor(df)\n",
    "plt.yticks(np.arange(0.5, len(df.index), 1), df.index)\n",
    "plt.xticks(np.arange(0.5, len(df.columns), 1), df.columns)\n",
    "plt.show()"
   ]
  },
  {
   "cell_type": "code",
   "execution_count": 406,
   "metadata": {},
   "outputs": [],
   "source": [
    "df  = top25_c_by_r"
   ]
  },
  {
   "cell_type": "code",
   "execution_count": 685,
   "metadata": {},
   "outputs": [],
   "source": [
    "#normalizing like this does not make much sense: \n",
    "# normalized_df=(df-df.mean())/df.std()\n",
    "df=(df-df.min())/(df.max()-df.min())"
   ]
  },
  {
   "cell_type": "code",
   "execution_count": 408,
   "metadata": {},
   "outputs": [
    {
     "data": {
      "image/png": "[encoded data removed]",
      "text/plain": [
       "<Figure size 800x800 with 1 Axes>"
      ]
     },
     "metadata": {},
     "output_type": "display_data"
    }
   ],
   "source": [
    "figure(num=None, figsize=(10, 10), dpi=80, facecolor='w', edgecolor='k')\n",
    "plt.pcolor(df)\n",
    "plt.yticks(np.arange(0.5, len(df.index), 1), df.index)\n",
    "plt.xticks(np.arange(0.5, len(df.columns), 1), df.columns)\n",
    "plt.show()"
   ]
  },
  {
   "cell_type": "code",
   "execution_count": 400,
   "metadata": {},
   "outputs": [],
   "source": [
    "df  = top25_c_by_r"
   ]
  },
  {
   "cell_type": "code",
   "execution_count": 309,
   "metadata": {},
   "outputs": [],
   "source": [
    "#normalizing like this does not make much sense: \n",
    "# normalized_df=(df-df.mean())/df.std()\n",
    "df=(df-df.mean())/df.std()"
   ]
  },
  {
   "cell_type": "code",
   "execution_count": 310,
   "metadata": {},
   "outputs": [
    {
     "data": {
      "image/png": "[encoded data removed]",
      "text/plain": [
       "<Figure size 800x800 with 1 Axes>"
      ]
     },
     "metadata": {},
     "output_type": "display_data"
    }
   ],
   "source": [
    "figure(num=None, figsize=(10, 10), dpi=80, facecolor='w', edgecolor='k')\n",
    "plt.pcolor(df)\n",
    "plt.yticks(np.arange(0.5, len(df.index), 1), df.index)\n",
    "plt.xticks(np.arange(0.5, len(df.columns), 1), df.columns)\n",
    "plt.show()"
   ]
  },
  {
   "cell_type": "markdown",
   "metadata": {},
   "source": [
    "Which countries are similar? Maybe we can reduce the dimensions, and visulize (+calculate) clusters."
   ]
  },
  {
   "cell_type": "code",
   "execution_count": 560,
   "metadata": {},
   "outputs": [
    {
     "name": "stdout",
     "output_type": "stream",
     "text": [
      "[[-0.10215425 -0.09238534  0.96899413 -0.09712213 -0.06452134 -0.06706649\n",
      "  -0.04315574 -0.04169232 -0.07141346 -0.03756094 -0.0429443  -0.03052678\n",
      "  -0.04216161 -0.04593108 -0.0338223   0.01375022 -0.0146195  -0.04778621\n",
      "   0.0149903  -0.01276825 -0.03749151 -0.02046886 -0.01151754 -0.0100401\n",
      "  -0.03058459]\n",
      " [-0.36364091 -0.09261864 -0.01063562  0.34257905  0.17981252 -0.1371389\n",
      "  -0.15270643  0.18003245 -0.27499993  0.09503518  0.38532608 -0.1747326\n",
      "  -0.15512013 -0.26205586  0.19477208 -0.33995008  0.20874198 -0.10946119\n",
      "  -0.0542756   0.17974887  0.13681956  0.05965107  0.02695184  0.04044729\n",
      "   0.09741792]]\n",
      "[0.70707556 0.08735523]\n"
     ]
    }
   ],
   "source": [
    "pca = PCA(n_components=2)\n",
    "df_pca = pca.fit_transform(df.T)\n",
    "print(pca.components_)\n",
    "print(pca.explained_variance_ratio_)"
   ]
  },
  {
   "cell_type": "code",
   "execution_count": 610,
   "metadata": {},
   "outputs": [
    {
     "data": {
      "text/html": [
       "<div>\n",
       "<style scoped>\n",
       "    .dataframe tbody tr th:only-of-type {\n",
       "        vertical-align: middle;\n",
       "    }\n",
       "\n",
       "    .dataframe tbody tr th {\n",
       "        vertical-align: top;\n",
       "    }\n",
       "\n",
       "    .dataframe thead th {\n",
       "        text-align: right;\n",
       "    }\n",
       "</style>\n",
       "<table border=\"1\" class=\"dataframe\">\n",
       "  <thead>\n",
       "    <tr style=\"text-align: right;\">\n",
       "      <th></th>\n",
       "      <th>term</th>\n",
       "      <th>count</th>\n",
       "    </tr>\n",
       "  </thead>\n",
       "  <tbody>\n",
       "    <tr>\n",
       "      <th>0</th>\n",
       "      <td>DRUG INEFFECTIVE</td>\n",
       "      <td>733191</td>\n",
       "    </tr>\n",
       "    <tr>\n",
       "      <th>3</th>\n",
       "      <td>FATIGUE</td>\n",
       "      <td>439328</td>\n",
       "    </tr>\n",
       "    <tr>\n",
       "      <th>8</th>\n",
       "      <td>OFF LABEL USE</td>\n",
       "      <td>324957</td>\n",
       "    </tr>\n",
       "    <tr>\n",
       "      <th>10</th>\n",
       "      <td>MALAISE</td>\n",
       "      <td>292069</td>\n",
       "    </tr>\n",
       "    <tr>\n",
       "      <th>13</th>\n",
       "      <td>ASTHENIA</td>\n",
       "      <td>231802</td>\n",
       "    </tr>\n",
       "    <tr>\n",
       "      <th>15</th>\n",
       "      <td>PYREXIA</td>\n",
       "      <td>212052</td>\n",
       "    </tr>\n",
       "  </tbody>\n",
       "</table>\n",
       "</div>"
      ],
      "text/plain": [
       "                term   count\n",
       "0   DRUG INEFFECTIVE  733191\n",
       "3            FATIGUE  439328\n",
       "8      OFF LABEL USE  324957\n",
       "10           MALAISE  292069\n",
       "13          ASTHENIA  231802\n",
       "15           PYREXIA  212052"
      ]
     },
     "execution_count": 610,
     "metadata": {},
     "output_type": "execute_result"
    }
   ],
   "source": [
    "top_reactions.iloc[[0, 3, 8, 10, 13, 15]]"
   ]
  },
  {
   "cell_type": "code",
   "execution_count": 562,
   "metadata": {},
   "outputs": [
    {
     "data": {
      "text/plain": [
       "(25, 25)"
      ]
     },
     "execution_count": 562,
     "metadata": {},
     "output_type": "execute_result"
    }
   ],
   "source": [
    "df.shape"
   ]
  },
  {
   "cell_type": "code",
   "execution_count": 563,
   "metadata": {},
   "outputs": [
    {
     "data": {
      "text/plain": [
       "(25, 2)"
      ]
     },
     "execution_count": 563,
     "metadata": {},
     "output_type": "execute_result"
    }
   ],
   "source": [
    "df_pca.shape"
   ]
  },
  {
   "cell_type": "code",
   "execution_count": 593,
   "metadata": {
    "scrolled": false
   },
   "outputs": [
    {
     "data": {
      "image/png": "[encoded data removed]",
      "text/plain": [
       "<Figure size 800x800 with 1 Axes>"
      ]
     },
     "metadata": {},
     "output_type": "display_data"
    }
   ],
   "source": [
    "figure(num=None, figsize=(10, 10), dpi=80, facecolor='w', edgecolor='k')\n",
    "plt.scatter(df_pca[:, 0], df_pca[:, 1], edgecolor='none', alpha=0.5)\n",
    "plt.xlabel('component 1')\n",
    "plt.ylabel('component 2')\n",
    "v_c = 0.003\n",
    "h_c = 0.005\n",
    "for i, col in enumerate(df.columns):\n",
    "    plt.annotate(country_names[col], (df_pca[i, 0]-h_c, df_pca[i, 1]-v_c),size=8)"
   ]
  },
  {
   "cell_type": "code",
   "execution_count": 624,
   "metadata": {},
   "outputs": [],
   "source": [
    "country_cluster_1 = ['SE','GB','AR','BR','CO','AU','MX', 'FR','CA','US','DE','BE']\n",
    "country_cluster_2 = ['CH','JP','PT','ES','IT','TR','GR','KR','PL','CN']\n",
    "country_cluster_3 = ['IN','TW','NL']"
   ]
  },
  {
   "cell_type": "code",
   "execution_count": 623,
   "metadata": {},
   "outputs": [
    {
     "name": "stdout",
     "output_type": "stream",
     "text": [
      "Sweden, United Kingdom, Argentina, Brazil, Colombia, Australia, Mexico, France, Canada, United States, Germany, Belgium, "
     ]
    }
   ],
   "source": [
    "for country_code in country_cluster_1:\n",
    "    print(country_name[country_code], end = ', ')"
   ]
  },
  {
   "cell_type": "code",
   "execution_count": 622,
   "metadata": {},
   "outputs": [
    {
     "name": "stdout",
     "output_type": "stream",
     "text": [
      "Switzerland, Japan, Portugal, Spain, Italy, Turkey, Greece, Korea, Republic of, Poland, China, "
     ]
    }
   ],
   "source": [
    "for country_code in country_cluster_2:\n",
    "    print(country_name[country_code], end=', ')"
   ]
  },
  {
   "cell_type": "code",
   "execution_count": 642,
   "metadata": {},
   "outputs": [],
   "source": [
    "df  = top25_c_by_r"
   ]
  },
  {
   "cell_type": "code",
   "execution_count": 643,
   "metadata": {},
   "outputs": [],
   "source": [
    "df=(df/df.sum())"
   ]
  },
  {
   "cell_type": "code",
   "execution_count": 637,
   "metadata": {},
   "outputs": [],
   "source": [
    "# df =  df.drop(['US','GB','CA'], axis=1)"
   ]
  },
  {
   "cell_type": "code",
   "execution_count": 638,
   "metadata": {},
   "outputs": [
    {
     "data": {
      "image/png": "[encoded data removed]",
      "text/plain": [
       "<Figure size 800x800 with 1 Axes>"
      ]
     },
     "metadata": {},
     "output_type": "display_data"
    }
   ],
   "source": [
    "figure(num=None, figsize=(10, 10), dpi=80, facecolor='w', edgecolor='k')\n",
    "plt.pcolor(df)\n",
    "plt.yticks(np.arange(0.5, len(df.index), 1), df.index)\n",
    "plt.xticks(np.arange(0.5, len(df.columns), 1), df.columns)\n",
    "plt.show()"
   ]
  },
  {
   "cell_type": "markdown",
   "metadata": {},
   "source": [
    "Rearranging columns of the dataframe based on clusters"
   ]
  },
  {
   "cell_type": "code",
   "execution_count": 686,
   "metadata": {},
   "outputs": [],
   "source": [
    "df = df[country_cluster_1+country_cluster_2+country_cluster_3]"
   ]
  },
  {
   "cell_type": "code",
   "execution_count": 647,
   "metadata": {},
   "outputs": [
    {
     "data": {
      "image/png": "[encoded data removed]",
      "text/plain": [
       "<Figure size 800x800 with 1 Axes>"
      ]
     },
     "metadata": {},
     "output_type": "display_data"
    }
   ],
   "source": [
    "figure(num=None, figsize=(10, 10), dpi=80, facecolor='w', edgecolor='k')\n",
    "plt.pcolor(df)\n",
    "plt.yticks(np.arange(0.5, len(df.index), 1), df.index)\n",
    "plt.xticks(np.arange(0.5, len(df.columns), 1), df.columns)\n",
    "plt.show()"
   ]
  },
  {
   "cell_type": "markdown",
   "metadata": {},
   "source": [
    "###### ANSWER:"
   ]
  },
  {
   "cell_type": "markdown",
   "metadata": {},
   "source": [
    "Looks like YES, **different adverse events** are reported in **different countries**.\n",
    "\n",
    "Furthermore:\n",
    "- We see that certain countries have similar patterns in terms of drug reactions reported:\n",
    "    - **Netherlands, Taiwan and India** cluster together because reports of Death seem to be very high from these countries.\n",
    "    - The rest of the crowd is split into 2 clusters:\n",
    "        - Cluster 1: Sweden, United Kingdom, Argentina, Brazil, Colombia, Australia, Mexico, France, Canada, United States, Germany, Belgium\n",
    "        - Cluster 2: Switzerland, Japan, Portugal, Spain, Italy, Turkey, Greece, Korea, Republic of, Poland, China\n",
    "        - These 2 clusters differ by mostly the second PC\n",
    "- When we do the PCA analysis, we see that the top 2 principal components that explain 79% (~71+~8%) of the variance and correspond mainly to the following drug reactions:\n",
    "    - Death\n",
    "    - Combination of DRUG INEFFECTIVE, FATIGUE, OFF LABEL USE, MALAISE, ASTHENIA, PYREXIA,"
   ]
  },
  {
   "cell_type": "markdown",
   "metadata": {},
   "source": [
    "###### 2. What are the different adverse events associated with different disease areas?"
   ]
  },
  {
   "cell_type": "markdown",
   "metadata": {},
   "source": [
    "Relevant fields:\n",
    "- `patient.reaction.reactionmeddrapt` : **Patient reaction, as a MedDRA term. Note that these terms are encoded in British English. For instance, diarrhea is spelled diarrohea. MedDRA is a standardized medical terminology. DRUG REACTION / ADVERSE EVENT TYPE**          \n",
    "- `patient.drug.drugindication` :  **Indication for the drug’s use. DRUG INDICATION / DISEASE AREA**"
   ]
  },
  {
   "cell_type": "code",
   "execution_count": null,
   "metadata": {},
   "outputs": [],
   "source": []
  },
  {
   "cell_type": "code",
   "execution_count": null,
   "metadata": {},
   "outputs": [],
   "source": []
  },
  {
   "cell_type": "code",
   "execution_count": null,
   "metadata": {},
   "outputs": [],
   "source": []
  },
  {
   "cell_type": "markdown",
   "metadata": {},
   "source": [
    "###### ANSWER:"
   ]
  },
  {
   "cell_type": "code",
   "execution_count": null,
   "metadata": {},
   "outputs": [],
   "source": []
  },
  {
   "cell_type": "code",
   "execution_count": null,
   "metadata": {},
   "outputs": [],
   "source": []
  },
  {
   "cell_type": "markdown",
   "metadata": {},
   "source": [
    "###### 3. What drugs tend to be taken together?  "
   ]
  },
  {
   "cell_type": "markdown",
   "metadata": {},
   "source": [
    "Relevant fields:\n",
    "- `patient.drug.openfda.brand_name` : **Brand or trade name of the drug product. DRUG NAME**\n",
    "- `patient.drug.openfda.generic_name` : Generic name(s) of the drug product."
   ]
  },
  {
   "cell_type": "code",
   "execution_count": null,
   "metadata": {},
   "outputs": [],
   "source": []
  },
  {
   "cell_type": "code",
   "execution_count": null,
   "metadata": {},
   "outputs": [],
   "source": []
  },
  {
   "cell_type": "code",
   "execution_count": null,
   "metadata": {},
   "outputs": [],
   "source": []
  },
  {
   "cell_type": "code",
   "execution_count": null,
   "metadata": {},
   "outputs": [],
   "source": []
  },
  {
   "cell_type": "code",
   "execution_count": null,
   "metadata": {},
   "outputs": [],
   "source": []
  },
  {
   "cell_type": "code",
   "execution_count": null,
   "metadata": {},
   "outputs": [],
   "source": []
  },
  {
   "cell_type": "markdown",
   "metadata": {},
   "source": [
    "###### ANSWER:"
   ]
  },
  {
   "cell_type": "code",
   "execution_count": null,
   "metadata": {},
   "outputs": [],
   "source": []
  },
  {
   "cell_type": "code",
   "execution_count": null,
   "metadata": {},
   "outputs": [],
   "source": []
  },
  {
   "cell_type": "code",
   "execution_count": null,
   "metadata": {},
   "outputs": [],
   "source": []
  },
  {
   "cell_type": "markdown",
   "metadata": {},
   "source": [
    "## Discussion & Future Directions"
   ]
  },
  {
   "cell_type": "markdown",
   "metadata": {},
   "source": [
    "###### Limitations of the Data"
   ]
  },
  {
   "cell_type": "markdown",
   "metadata": {},
   "source": [
    "###### .."
   ]
  },
  {
   "cell_type": "code",
   "execution_count": null,
   "metadata": {},
   "outputs": [],
   "source": []
  },
  {
   "cell_type": "code",
   "execution_count": null,
   "metadata": {},
   "outputs": [],
   "source": []
  }
 ],
 "metadata": {
  "kernelspec": {
   "display_name": "Python 3",
   "language": "python",
   "name": "python3"
  },
  "language_info": {
   "codemirror_mode": {
    "name": "ipython",
    "version": 3
   },
   "file_extension": ".py",
   "mimetype": "text/x-python",
   "name": "python",
   "nbconvert_exporter": "python",
   "pygments_lexer": "ipython3",
   "version": "3.7.6"
  }
 },
 "nbformat": 4,
 "nbformat_minor": 4
}
